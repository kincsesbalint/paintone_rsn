{
 "cells": [
  {
   "cell_type": "markdown",
   "source": [
    "# 3rd - investigating the specificity and confounder effect on the RCPL model."
   ],
   "metadata": {
    "collapsed": false
   }
  },
  {
   "cell_type": "code",
   "execution_count": 1,
   "metadata": {
    "collapsed": true
   },
   "outputs": [],
   "source": [
    "import pandas as pd\n",
    "import os\n",
    "import seaborn as sns\n",
    "from scipy.stats import pearsonr\n",
    "import pickle\n",
    "from mlconfound.stats import partial_confound_test\n",
    "from mlconfound.plot import plot_graph\n",
    "\n",
    "os.environ[\"PATH\"] += os.pathsep + 'C:/Users/lenov/Documents/Graphviz/bin/'"
   ]
  },
  {
   "cell_type": "markdown",
   "source": [
    "# Rerun the confounder analysis\n",
    "- Confounder analysis on discovery sample dataset\n",
    "- Confounder analysis on validation dataset 1\n",
    "- Confounder analysis on validation dataset 1\n",
    "- Confounder analysis on the pooled validation  dataset(V1+V2) - as the measured variables are different it is hard to concatenate the two samples"
   ],
   "metadata": {
    "collapsed": false
   }
  },
  {
   "cell_type": "markdown",
   "source": [
    "## Discovery sample\n",
    "#### Summary:\n",
    "- the contingency to the CSpain after acquisition influenced the model\n",
    "- the contingency of CSpain after extinction influenced the model"
   ],
   "metadata": {
    "collapsed": false
   }
  },
  {
   "cell_type": "code",
   "execution_count": 2,
   "outputs": [
    {
     "data": {
      "text/plain": "Index(['meanFD', 'medianFD', 'maxFD', 'perc_scrubbed', 'age', 'fear_of_pain',\n       'fear_of_tone', 'diff_fear', 'hpt', 'tt', 'y_valpainlearn_acq',\n       'y_valtonelearn_acq', 'y_valpainlearn_ext', 'y_valtonelearn_ext',\n       'y_paincont_acq', 'y_tonecont_acq', 'y_safetycont_acq',\n       'y_paincont_ext', 'y_tonecont_ext', 'y_safetycont_ext',\n       'hab_UCS_pain_vas', 'hab_UCS_tone_vas', 'PASS_D1', 'PASS_D2', 'PASS_D3',\n       'PASS_D4', 'PCS', 'ADS', 'rcpl_score'],\n      dtype='object')"
     },
     "execution_count": 2,
     "metadata": {},
     "output_type": "execute_result"
    }
   ],
   "source": [
    "pathtodiscoversmpl=\"C:/Users/lenov/PycharmProjects/paintone_rsn/data_in/discovery_smpl/\"\n",
    "discovery_behav = pd.read_pickle(\"C:/Users/lenov/PycharmProjects/paintone_rsn/data_in/discovery_smpl/discovery_smpl_behav.pkl\")\n",
    "discovery_behav.columns\n"
   ],
   "metadata": {
    "collapsed": false,
    "pycharm": {
     "name": "#%%\n"
    }
   }
  },
  {
   "cell_type": "code",
   "execution_count": 3,
   "outputs": [
    {
     "name": "stdout",
     "output_type": "stream",
     "text": [
      "meanFD\n"
     ]
    },
    {
     "name": "stderr",
     "output_type": "stream",
     "text": [
      "Permuting: 100%|██████████| 1000/1000 [00:03<00:00, 253.63it/s]\n"
     ]
    },
    {
     "name": "stdout",
     "output_type": "stream",
     "text": [
      "medianFD\n"
     ]
    },
    {
     "name": "stderr",
     "output_type": "stream",
     "text": [
      "Permuting: 100%|██████████| 1000/1000 [00:00<00:00, 1030.74it/s]\n"
     ]
    },
    {
     "name": "stdout",
     "output_type": "stream",
     "text": [
      "maxFD\n"
     ]
    },
    {
     "name": "stderr",
     "output_type": "stream",
     "text": [
      "Permuting: 100%|██████████| 1000/1000 [00:00<00:00, 1065.55it/s]\n"
     ]
    },
    {
     "name": "stdout",
     "output_type": "stream",
     "text": [
      "perc_scrubbed\n"
     ]
    },
    {
     "name": "stderr",
     "output_type": "stream",
     "text": [
      "Permuting: 100%|██████████| 1000/1000 [00:00<00:00, 1006.64it/s]\n"
     ]
    },
    {
     "name": "stdout",
     "output_type": "stream",
     "text": [
      "age\n"
     ]
    },
    {
     "name": "stderr",
     "output_type": "stream",
     "text": [
      "Permuting: 100%|██████████| 1000/1000 [00:00<00:00, 1037.37it/s]\n"
     ]
    },
    {
     "name": "stdout",
     "output_type": "stream",
     "text": [
      "fear_of_pain\n"
     ]
    },
    {
     "name": "stderr",
     "output_type": "stream",
     "text": [
      "Permuting: 100%|██████████| 1000/1000 [00:00<00:00, 1004.40it/s]\n"
     ]
    },
    {
     "name": "stdout",
     "output_type": "stream",
     "text": [
      "fear_of_tone\n"
     ]
    },
    {
     "name": "stderr",
     "output_type": "stream",
     "text": [
      "Permuting: 100%|██████████| 1000/1000 [00:01<00:00, 990.70it/s]\n"
     ]
    },
    {
     "name": "stdout",
     "output_type": "stream",
     "text": [
      "diff_fear\n"
     ]
    },
    {
     "name": "stderr",
     "output_type": "stream",
     "text": [
      "Permuting: 100%|██████████| 1000/1000 [00:00<00:00, 1028.51it/s]\n"
     ]
    },
    {
     "name": "stdout",
     "output_type": "stream",
     "text": [
      "hpt\n"
     ]
    },
    {
     "name": "stderr",
     "output_type": "stream",
     "text": [
      "Permuting: 100%|██████████| 1000/1000 [00:01<00:00, 972.03it/s]\n"
     ]
    },
    {
     "name": "stdout",
     "output_type": "stream",
     "text": [
      "tt\n"
     ]
    },
    {
     "name": "stderr",
     "output_type": "stream",
     "text": [
      "Permuting: 100%|██████████| 1000/1000 [00:00<00:00, 1042.55it/s]\n"
     ]
    },
    {
     "name": "stdout",
     "output_type": "stream",
     "text": [
      "y_valpainlearn_acq\n"
     ]
    },
    {
     "name": "stderr",
     "output_type": "stream",
     "text": [
      "Permuting: 100%|██████████| 1000/1000 [00:00<00:00, 1078.32it/s]\n"
     ]
    },
    {
     "name": "stdout",
     "output_type": "stream",
     "text": [
      "y_valtonelearn_acq\n"
     ]
    },
    {
     "name": "stderr",
     "output_type": "stream",
     "text": [
      "Permuting: 100%|██████████| 1000/1000 [00:00<00:00, 1019.70it/s]\n"
     ]
    },
    {
     "name": "stdout",
     "output_type": "stream",
     "text": [
      "y_valpainlearn_ext\n"
     ]
    },
    {
     "name": "stderr",
     "output_type": "stream",
     "text": [
      "Permuting: 100%|██████████| 1000/1000 [00:01<00:00, 926.73it/s]\n"
     ]
    },
    {
     "name": "stdout",
     "output_type": "stream",
     "text": [
      "y_valtonelearn_ext\n"
     ]
    },
    {
     "name": "stderr",
     "output_type": "stream",
     "text": [
      "Permuting: 100%|██████████| 1000/1000 [00:00<00:00, 1058.40it/s]\n"
     ]
    },
    {
     "name": "stdout",
     "output_type": "stream",
     "text": [
      "y_paincont_acq\n"
     ]
    },
    {
     "name": "stderr",
     "output_type": "stream",
     "text": [
      "Permuting: 100%|██████████| 1000/1000 [00:00<00:00, 1038.62it/s]\n"
     ]
    },
    {
     "name": "stdout",
     "output_type": "stream",
     "text": [
      "-----------------------------------------------------------------\n",
      "This variable influences the model: y_paincont_acq\n",
      "-----------------------------------------------------------------\n",
      "y_tonecont_acq\n"
     ]
    },
    {
     "name": "stderr",
     "output_type": "stream",
     "text": [
      "Permuting: 100%|██████████| 1000/1000 [00:00<00:00, 1054.08it/s]\n"
     ]
    },
    {
     "name": "stdout",
     "output_type": "stream",
     "text": [
      "y_safetycont_acq\n"
     ]
    },
    {
     "name": "stderr",
     "output_type": "stream",
     "text": [
      "Permuting: 100%|██████████| 1000/1000 [00:00<00:00, 1095.74it/s]\n"
     ]
    },
    {
     "name": "stdout",
     "output_type": "stream",
     "text": [
      "y_paincont_ext\n"
     ]
    },
    {
     "name": "stderr",
     "output_type": "stream",
     "text": [
      "Permuting: 100%|██████████| 1000/1000 [00:00<00:00, 1055.67it/s]\n"
     ]
    },
    {
     "name": "stdout",
     "output_type": "stream",
     "text": [
      "-----------------------------------------------------------------\n",
      "This variable influences the model: y_paincont_ext\n",
      "-----------------------------------------------------------------\n",
      "y_tonecont_ext\n"
     ]
    },
    {
     "name": "stderr",
     "output_type": "stream",
     "text": [
      "Permuting: 100%|██████████| 1000/1000 [00:01<00:00, 944.13it/s]\n"
     ]
    },
    {
     "name": "stdout",
     "output_type": "stream",
     "text": [
      "y_safetycont_ext\n"
     ]
    },
    {
     "name": "stderr",
     "output_type": "stream",
     "text": [
      "Permuting: 100%|██████████| 1000/1000 [00:01<00:00, 972.40it/s]\n"
     ]
    },
    {
     "name": "stdout",
     "output_type": "stream",
     "text": [
      "hab_UCS_pain_vas\n"
     ]
    },
    {
     "name": "stderr",
     "output_type": "stream",
     "text": [
      "Permuting: 100%|██████████| 1000/1000 [00:00<00:00, 1046.38it/s]\n"
     ]
    },
    {
     "name": "stdout",
     "output_type": "stream",
     "text": [
      "hab_UCS_tone_vas\n"
     ]
    },
    {
     "name": "stderr",
     "output_type": "stream",
     "text": [
      "Permuting: 100%|██████████| 1000/1000 [00:00<00:00, 1000.12it/s]\n"
     ]
    },
    {
     "name": "stdout",
     "output_type": "stream",
     "text": [
      "PASS_D1\n"
     ]
    },
    {
     "name": "stderr",
     "output_type": "stream",
     "text": [
      "Permuting: 100%|██████████| 1000/1000 [00:01<00:00, 949.91it/s]\n"
     ]
    },
    {
     "name": "stdout",
     "output_type": "stream",
     "text": [
      "PASS_D2\n"
     ]
    },
    {
     "name": "stderr",
     "output_type": "stream",
     "text": [
      "Permuting: 100%|██████████| 1000/1000 [00:00<00:00, 1064.38it/s]\n"
     ]
    },
    {
     "name": "stdout",
     "output_type": "stream",
     "text": [
      "PASS_D3\n"
     ]
    },
    {
     "name": "stderr",
     "output_type": "stream",
     "text": [
      "Permuting: 100%|██████████| 1000/1000 [00:00<00:00, 1054.49it/s]\n"
     ]
    },
    {
     "name": "stdout",
     "output_type": "stream",
     "text": [
      "PASS_D4\n"
     ]
    },
    {
     "name": "stderr",
     "output_type": "stream",
     "text": [
      "Permuting: 100%|██████████| 1000/1000 [00:00<00:00, 1109.05it/s]\n"
     ]
    },
    {
     "name": "stdout",
     "output_type": "stream",
     "text": [
      "PCS\n"
     ]
    },
    {
     "name": "stderr",
     "output_type": "stream",
     "text": [
      "Permuting: 100%|██████████| 1000/1000 [00:00<00:00, 1035.65it/s]\n"
     ]
    },
    {
     "name": "stdout",
     "output_type": "stream",
     "text": [
      "ADS\n"
     ]
    },
    {
     "name": "stderr",
     "output_type": "stream",
     "text": [
      "Permuting: 100%|██████████| 1000/1000 [00:00<00:00, 1095.33it/s]\n"
     ]
    }
   ],
   "source": [
    "datatbl = discovery_behav\n",
    "predval= 'rcpl_score'\n",
    "obsvar = 'y_valpainlearn_acq'\n",
    "\n",
    "pval = 0.05\n",
    "for i in datatbl.columns[:-1]:\n",
    "    print(i)\n",
    "    confoundervar = datatbl[i].to_numpy()\n",
    "    ret=partial_confound_test(datatbl[obsvar].to_numpy(),\n",
    "                          datatbl[predval].to_numpy(),\n",
    "                          confoundervar, return_null_dist=True,\n",
    "                  random_state=42)\n",
    "    if ret.p <= pval:\n",
    "        print('-'*65)\n",
    "        print('This variable influences the model:',i)\n",
    "        print('-'*65)\n",
    "        plot_graph(ret)"
   ],
   "metadata": {
    "collapsed": false,
    "pycharm": {
     "name": "#%%\n"
    }
   }
  },
  {
   "cell_type": "code",
   "execution_count": 4,
   "outputs": [
    {
     "name": "stdout",
     "output_type": "stream",
     "text": [
      "Correlation between  y_paincont_acq and rcpl_score : (0.5653246385818235, 0.0032310018537304148)\n"
     ]
    },
    {
     "name": "stderr",
     "output_type": "stream",
     "text": [
      "Permuting: 100%|██████████| 1000/1000 [00:00<00:00, 1140.39it/s]\n"
     ]
    },
    {
     "data": {
      "text/plain": "<graphviz.dot.Graph at 0x1a8b63e5d30>",
      "image/svg+xml": "<?xml version=\"1.0\" encoding=\"UTF-8\" standalone=\"no\"?>\r\n<!DOCTYPE svg PUBLIC \"-//W3C//DTD SVG 1.1//EN\"\r\n \"http://www.w3.org/Graphics/SVG/1.1/DTD/svg11.dtd\">\r\n<!-- Generated by graphviz version 2.50.0 (20211204.2007)\r\n -->\r\n<!-- Pages: 1 -->\r\n<svg width=\"596pt\" height=\"79pt\"\r\n viewBox=\"0.00 0.00 595.66 79.00\" xmlns=\"http://www.w3.org/2000/svg\" xmlns:xlink=\"http://www.w3.org/1999/xlink\">\r\n<g id=\"graph0\" class=\"graph\" transform=\"scale(1 1) rotate(0) translate(4 75)\">\r\n<polygon fill=\"white\" stroke=\"transparent\" points=\"-4,4 -4,-75 591.66,-75 591.66,4 -4,4\"/>\r\n<!-- c -->\r\n<g id=\"node1\" class=\"node\">\r\n<title>c</title>\r\n<ellipse fill=\"none\" stroke=\"black\" cx=\"96.84\" cy=\"-18\" rx=\"96.68\" ry=\"18\"/>\r\n<text text-anchor=\"middle\" x=\"96.84\" y=\"-14.3\" font-family=\"Times New Roman,serif\" font-size=\"14.00\">Pain cont learning (acq)</text>\r\n</g>\r\n<!-- y -->\r\n<g id=\"node2\" class=\"node\">\r\n<title>y</title>\r\n<ellipse fill=\"none\" stroke=\"black\" cx=\"317.23\" cy=\"-53\" rx=\"56.59\" ry=\"18\"/>\r\n<text text-anchor=\"middle\" x=\"317.23\" y=\"-49.3\" font-family=\"Times New Roman,serif\" font-size=\"14.00\">Pain learning</text>\r\n</g>\r\n<!-- c&#45;&#45;y -->\r\n<g id=\"edge2\" class=\"edge\">\r\n<title>c&#45;&#45;y</title>\r\n<path fill=\"none\" stroke=\"black\" d=\"M170.86,-29.7C202.24,-34.73 238.1,-40.48 266.35,-45.01\"/>\r\n<text text-anchor=\"middle\" x=\"227.18\" y=\"-43.8\" font-family=\"Times New Roman,serif\" font-size=\"14.00\">0.174</text>\r\n</g>\r\n<!-- yhat -->\r\n<g id=\"node3\" class=\"node\">\r\n<title>yhat</title>\r\n<ellipse fill=\"none\" stroke=\"black\" cx=\"514.22\" cy=\"-18\" rx=\"73.39\" ry=\"18\"/>\r\n<text text-anchor=\"middle\" x=\"514.22\" y=\"-14.3\" font-family=\"Times New Roman,serif\" font-size=\"14.00\">RCPL prediction</text>\r\n</g>\r\n<!-- c&#45;&#45;yhat -->\r\n<g id=\"edge1\" class=\"edge\">\r\n<title>c&#45;&#45;yhat</title>\r\n<path fill=\"none\" stroke=\"black\" stroke-dasharray=\"5,2\" d=\"M190.39,-13.33C213.36,-12.36 237.91,-11.49 260.68,-11 310.93,-9.92 323.53,-9.74 373.77,-11 396.19,-11.56 420.61,-12.63 442.66,-13.77\"/>\r\n<text text-anchor=\"middle\" x=\"317.23\" y=\"-14.8\" font-family=\"Times New Roman,serif\" font-size=\"14.00\">0.32 (p=0.05)</text>\r\n</g>\r\n<!-- y&#45;&#45;yhat -->\r\n<g id=\"edge3\" class=\"edge\">\r\n<title>y&#45;&#45;yhat</title>\r\n<path fill=\"none\" stroke=\"black\" d=\"M366.93,-44.26C393.44,-39.5 426.43,-33.58 454.37,-28.56\"/>\r\n<text text-anchor=\"middle\" x=\"407.27\" y=\"-42.8\" font-family=\"Times New Roman,serif\" font-size=\"14.00\">0.514</text>\r\n</g>\r\n</g>\r\n</svg>\r\n"
     },
     "execution_count": 4,
     "metadata": {},
     "output_type": "execute_result"
    },
    {
     "data": {
      "text/plain": "<Figure size 360x360 with 1 Axes>",
      "image/png": "[encoded data removed]"
     },
     "metadata": {
      "needs_background": "light"
     },
     "output_type": "display_data"
    }
   ],
   "source": [
    "# contingency learning after acquisition\n",
    "confoundervar='y_paincont_acq'\n",
    "print('Correlation between ',confoundervar,'and',predval,':',pearsonr(datatbl[confoundervar],datatbl[predval]))\n",
    "sns.lmplot(x=confoundervar,y=predval,data=datatbl)\n",
    "ret=partial_confound_test(datatbl[obsvar].to_numpy(),\n",
    "                          datatbl[predval].to_numpy(),\n",
    "                          datatbl[confoundervar].to_numpy(), return_null_dist=True,\n",
    "                  random_state=42)\n",
    "\n",
    "plot_graph(ret,\n",
    "           y_name='Pain learning',\n",
    "           yhat_name='RCPL prediction',\n",
    "           c_name='Pain cont learning (acq)')"
   ],
   "metadata": {
    "collapsed": false,
    "pycharm": {
     "name": "#%%\n"
    }
   }
  },
  {
   "cell_type": "code",
   "execution_count": 5,
   "outputs": [
    {
     "name": "stdout",
     "output_type": "stream",
     "text": [
      "Correlation between  fear_of_pain and rcpl_score : (0.2603504672657136, 0.2087827950316699)\n"
     ]
    },
    {
     "name": "stderr",
     "output_type": "stream",
     "text": [
      "Permuting: 100%|██████████| 1000/1000 [00:00<00:00, 1107.22it/s]\n"
     ]
    },
    {
     "data": {
      "text/plain": "<graphviz.dot.Graph at 0x1a8b43ae160>",
      "image/svg+xml": "<?xml version=\"1.0\" encoding=\"UTF-8\" standalone=\"no\"?>\r\n<!DOCTYPE svg PUBLIC \"-//W3C//DTD SVG 1.1//EN\"\r\n \"http://www.w3.org/Graphics/SVG/1.1/DTD/svg11.dtd\">\r\n<!-- Generated by graphviz version 2.50.0 (20211204.2007)\r\n -->\r\n<!-- Pages: 1 -->\r\n<svg width=\"590pt\" height=\"79pt\"\r\n viewBox=\"0.00 0.00 589.66 79.00\" xmlns=\"http://www.w3.org/2000/svg\" xmlns:xlink=\"http://www.w3.org/1999/xlink\">\r\n<g id=\"graph0\" class=\"graph\" transform=\"scale(1 1) rotate(0) translate(4 75)\">\r\n<polygon fill=\"white\" stroke=\"transparent\" points=\"-4,4 -4,-75 585.66,-75 585.66,4 -4,4\"/>\r\n<!-- c -->\r\n<g id=\"node1\" class=\"node\">\r\n<title>c</title>\r\n<ellipse fill=\"none\" stroke=\"black\" cx=\"96.84\" cy=\"-18\" rx=\"96.68\" ry=\"18\"/>\r\n<text text-anchor=\"middle\" x=\"96.84\" y=\"-14.3\" font-family=\"Times New Roman,serif\" font-size=\"14.00\">Pain cont learning (acq)</text>\r\n</g>\r\n<!-- y -->\r\n<g id=\"node2\" class=\"node\">\r\n<title>y</title>\r\n<ellipse fill=\"none\" stroke=\"black\" cx=\"311.23\" cy=\"-53\" rx=\"56.59\" ry=\"18\"/>\r\n<text text-anchor=\"middle\" x=\"311.23\" y=\"-49.3\" font-family=\"Times New Roman,serif\" font-size=\"14.00\">Pain learning</text>\r\n</g>\r\n<!-- c&#45;&#45;y -->\r\n<g id=\"edge2\" class=\"edge\">\r\n<title>c&#45;&#45;y</title>\r\n<path fill=\"none\" stroke=\"black\" d=\"M169.75,-29.85C199.59,-34.77 233.48,-40.35 260.5,-44.81\"/>\r\n<text text-anchor=\"middle\" x=\"224.18\" y=\"-43.8\" font-family=\"Times New Roman,serif\" font-size=\"14.00\">0.03</text>\r\n</g>\r\n<!-- yhat -->\r\n<g id=\"node3\" class=\"node\">\r\n<title>yhat</title>\r\n<ellipse fill=\"none\" stroke=\"black\" cx=\"508.22\" cy=\"-18\" rx=\"73.39\" ry=\"18\"/>\r\n<text text-anchor=\"middle\" x=\"508.22\" y=\"-14.3\" font-family=\"Times New Roman,serif\" font-size=\"14.00\">RCPL prediction</text>\r\n</g>\r\n<!-- c&#45;&#45;yhat -->\r\n<g id=\"edge1\" class=\"edge\">\r\n<title>c&#45;&#45;yhat</title>\r\n<path fill=\"none\" stroke=\"black\" stroke-dasharray=\"5,2\" d=\"M190.29,-13.19C211.44,-12.28 233.84,-11.46 254.68,-11 304.93,-9.88 317.53,-9.74 367.77,-11 390.19,-11.56 414.61,-12.63 436.66,-13.77\"/>\r\n<text text-anchor=\"middle\" x=\"311.23\" y=\"-14.8\" font-family=\"Times New Roman,serif\" font-size=\"14.00\">0.068 (p=0.3)</text>\r\n</g>\r\n<!-- y&#45;&#45;yhat -->\r\n<g id=\"edge3\" class=\"edge\">\r\n<title>y&#45;&#45;yhat</title>\r\n<path fill=\"none\" stroke=\"black\" d=\"M360.93,-44.26C387.44,-39.5 420.43,-33.58 448.37,-28.56\"/>\r\n<text text-anchor=\"middle\" x=\"401.27\" y=\"-42.8\" font-family=\"Times New Roman,serif\" font-size=\"14.00\">0.514</text>\r\n</g>\r\n</g>\r\n</svg>\r\n"
     },
     "execution_count": 5,
     "metadata": {},
     "output_type": "execute_result"
    },
    {
     "data": {
      "text/plain": "<Figure size 360x360 with 1 Axes>",
      "image/png": "[encoded data removed]"
     },
     "metadata": {
      "needs_background": "light"
     },
     "output_type": "display_data"
    }
   ],
   "source": [
    "# fear of pain\n",
    "confoundervar='fear_of_pain'\n",
    "print('Correlation between ',confoundervar,'and',predval,':',pearsonr(datatbl[confoundervar],datatbl[predval]))\n",
    "sns.lmplot(x=confoundervar,y=predval,data=datatbl)\n",
    "ret=partial_confound_test(datatbl[obsvar].to_numpy(),\n",
    "                          datatbl[predval].to_numpy(),\n",
    "                          datatbl[confoundervar].to_numpy(), return_null_dist=True,\n",
    "                  random_state=42)\n",
    "\n",
    "plot_graph(ret,\n",
    "           y_name='Pain learning',\n",
    "           yhat_name='RCPL prediction',\n",
    "           c_name='Pain cont learning (acq)')"
   ],
   "metadata": {
    "collapsed": false,
    "pycharm": {
     "name": "#%%\n"
    }
   }
  },
  {
   "cell_type": "code",
   "execution_count": 6,
   "outputs": [
    {
     "name": "stdout",
     "output_type": "stream",
     "text": [
      "Correlation between  y_paincont_ext and rcpl_score : (0.5030016750248455, 0.010379910656468655)\n"
     ]
    },
    {
     "name": "stderr",
     "output_type": "stream",
     "text": [
      "Permuting: 100%|██████████| 1000/1000 [00:00<00:00, 1112.69it/s]\n"
     ]
    },
    {
     "data": {
      "text/plain": "<graphviz.dot.Graph at 0x1a8b647d400>",
      "image/svg+xml": "<?xml version=\"1.0\" encoding=\"UTF-8\" standalone=\"no\"?>\r\n<!DOCTYPE svg PUBLIC \"-//W3C//DTD SVG 1.1//EN\"\r\n \"http://www.w3.org/Graphics/SVG/1.1/DTD/svg11.dtd\">\r\n<!-- Generated by graphviz version 2.50.0 (20211204.2007)\r\n -->\r\n<!-- Pages: 1 -->\r\n<svg width=\"590pt\" height=\"79pt\"\r\n viewBox=\"0.00 0.00 590.46 79.00\" xmlns=\"http://www.w3.org/2000/svg\" xmlns:xlink=\"http://www.w3.org/1999/xlink\">\r\n<g id=\"graph0\" class=\"graph\" transform=\"scale(1 1) rotate(0) translate(4 75)\">\r\n<polygon fill=\"white\" stroke=\"transparent\" points=\"-4,4 -4,-75 586.46,-75 586.46,4 -4,4\"/>\r\n<!-- c -->\r\n<g id=\"node1\" class=\"node\">\r\n<title>c</title>\r\n<ellipse fill=\"none\" stroke=\"black\" cx=\"94.24\" cy=\"-18\" rx=\"94.48\" ry=\"18\"/>\r\n<text text-anchor=\"middle\" x=\"94.24\" y=\"-14.3\" font-family=\"Times New Roman,serif\" font-size=\"14.00\">Pain cont learning (ext)</text>\r\n</g>\r\n<!-- y -->\r\n<g id=\"node2\" class=\"node\">\r\n<title>y</title>\r\n<ellipse fill=\"none\" stroke=\"black\" cx=\"312.03\" cy=\"-53\" rx=\"56.59\" ry=\"18\"/>\r\n<text text-anchor=\"middle\" x=\"312.03\" y=\"-49.3\" font-family=\"Times New Roman,serif\" font-size=\"14.00\">Pain learning</text>\r\n</g>\r\n<!-- c&#45;&#45;y -->\r\n<g id=\"edge2\" class=\"edge\">\r\n<title>c&#45;&#45;y</title>\r\n<path fill=\"none\" stroke=\"black\" d=\"M166.5,-29.56C197.55,-34.59 233.21,-40.38 261.34,-44.94\"/>\r\n<text text-anchor=\"middle\" x=\"221.98\" y=\"-43.8\" font-family=\"Times New Roman,serif\" font-size=\"14.00\">0.014</text>\r\n</g>\r\n<!-- yhat -->\r\n<g id=\"node3\" class=\"node\">\r\n<title>yhat</title>\r\n<ellipse fill=\"none\" stroke=\"black\" cx=\"509.02\" cy=\"-18\" rx=\"73.39\" ry=\"18\"/>\r\n<text text-anchor=\"middle\" x=\"509.02\" y=\"-14.3\" font-family=\"Times New Roman,serif\" font-size=\"14.00\">RCPL prediction</text>\r\n</g>\r\n<!-- c&#45;&#45;yhat -->\r\n<g id=\"edge1\" class=\"edge\">\r\n<title>c&#45;&#45;yhat</title>\r\n<path fill=\"none\" stroke=\"black\" stroke-dasharray=\"5,2\" d=\"M185.47,-13.37C208.31,-12.38 232.79,-11.5 255.48,-11 305.73,-9.9 318.33,-9.74 368.57,-11 390.99,-11.56 415.41,-12.63 437.46,-13.77\"/>\r\n<text text-anchor=\"middle\" x=\"312.03\" y=\"-14.8\" font-family=\"Times New Roman,serif\" font-size=\"14.00\">0.253 (p=0.03*)</text>\r\n</g>\r\n<!-- y&#45;&#45;yhat -->\r\n<g id=\"edge3\" class=\"edge\">\r\n<title>y&#45;&#45;yhat</title>\r\n<path fill=\"none\" stroke=\"black\" d=\"M361.73,-44.26C388.24,-39.5 421.23,-33.58 449.17,-28.56\"/>\r\n<text text-anchor=\"middle\" x=\"402.07\" y=\"-42.8\" font-family=\"Times New Roman,serif\" font-size=\"14.00\">0.514</text>\r\n</g>\r\n</g>\r\n</svg>\r\n"
     },
     "execution_count": 6,
     "metadata": {},
     "output_type": "execute_result"
    },
    {
     "data": {
      "text/plain": "<Figure size 360x360 with 1 Axes>",
      "image/png": "[encoded data removed]"
     },
     "metadata": {
      "needs_background": "light"
     },
     "output_type": "display_data"
    }
   ],
   "source": [
    "# contingency learning after extinction\n",
    "confoundervar='y_paincont_ext'\n",
    "sns.lmplot(x=confoundervar,y=predval,data=datatbl)\n",
    "print('Correlation between ',confoundervar,'and',predval,':',pearsonr(datatbl[confoundervar],datatbl[predval]))\n",
    "ret=partial_confound_test(datatbl[obsvar].to_numpy(),\n",
    "                          datatbl[predval].to_numpy(),\n",
    "                          datatbl[confoundervar].to_numpy(), return_null_dist=True,\n",
    "                  random_state=42)\n",
    "\n",
    "plot_graph(ret,\n",
    "           y_name='Pain learning',\n",
    "           yhat_name='RCPL prediction',\n",
    "           c_name='Pain cont learning (ext)')\n",
    "\n"
   ],
   "metadata": {
    "collapsed": false,
    "pycharm": {
     "name": "#%%\n"
    }
   }
  },
  {
   "cell_type": "markdown",
   "source": [
    "# Validation sample 1\n",
    "- the contingency value of the CSminus after acquisition influenced the model"
   ],
   "metadata": {
    "collapsed": false,
    "pycharm": {
     "name": "#%% md\n"
    }
   }
  },
  {
   "cell_type": "code",
   "execution_count": 2,
   "outputs": [],
   "source": [
    "pathtovalidationsmpl_1=\"C:/Users/lenov/PycharmProjects/paintone_rsn/data_in/validation_smpl1/\"\n",
    "# load behavior data which was preprocessed with R\n",
    "vs1_behav = pd.read_csv(pathtovalidationsmpl_1+'validation_smpl1_behav_excl.csv', #allbehavdata.csv',\n",
    "                         index_col=['sub'],)"
   ],
   "metadata": {
    "collapsed": false,
    "pycharm": {
     "name": "#%%\n"
    }
   }
  },
  {
   "cell_type": "code",
   "execution_count": 3,
   "outputs": [
    {
     "name": "stdout",
     "output_type": "stream",
     "text": [
      "fear_of_pain\n"
     ]
    },
    {
     "name": "stderr",
     "output_type": "stream",
     "text": [
      "Permuting: 100%|██████████| 1000/1000 [00:04<00:00, 238.97it/s]\n"
     ]
    },
    {
     "name": "stdout",
     "output_type": "stream",
     "text": [
      "fear_of_tone\n"
     ]
    },
    {
     "name": "stderr",
     "output_type": "stream",
     "text": [
      "Permuting: 100%|██████████| 1000/1000 [00:00<00:00, 1042.14it/s]\n"
     ]
    },
    {
     "name": "stdout",
     "output_type": "stream",
     "text": [
      "hab_UCS_pain_vas\n"
     ]
    },
    {
     "name": "stderr",
     "output_type": "stream",
     "text": [
      "Permuting: 100%|██████████| 1000/1000 [00:00<00:00, 1083.31it/s]\n"
     ]
    },
    {
     "name": "stdout",
     "output_type": "stream",
     "text": [
      "hab_UCS_tone_vas\n"
     ]
    },
    {
     "name": "stderr",
     "output_type": "stream",
     "text": [
      "Permuting: 100%|██████████| 1000/1000 [00:00<00:00, 1057.58it/s]\n",
      "c:\\users\\lenov\\pycharmprojects\\paintone_rsn\\venv\\lib\\site-packages\\pandas\\core\\indexing.py:1732: SettingWithCopyWarning: \n",
      "A value is trying to be set on a copy of a slice from a DataFrame\n",
      "\n",
      "See the caveats in the documentation: https://pandas.pydata.org/pandas-docs/stable/user_guide/indexing.html#returning-a-view-versus-a-copy\n",
      "  self._setitem_single_block(indexer, value, name)\n"
     ]
    },
    {
     "name": "stdout",
     "output_type": "stream",
     "text": [
      "y_safetycont_acq\n",
      "The variable contains NA values\n"
     ]
    },
    {
     "name": "stderr",
     "output_type": "stream",
     "text": [
      "Permuting: 100%|██████████| 1000/1000 [00:00<00:00, 1058.64it/s]\n",
      "c:\\users\\lenov\\pycharmprojects\\paintone_rsn\\venv\\lib\\site-packages\\pandas\\core\\indexing.py:1732: SettingWithCopyWarning: \n",
      "A value is trying to be set on a copy of a slice from a DataFrame\n",
      "\n",
      "See the caveats in the documentation: https://pandas.pydata.org/pandas-docs/stable/user_guide/indexing.html#returning-a-view-versus-a-copy\n",
      "  self._setitem_single_block(indexer, value, name)\n"
     ]
    },
    {
     "name": "stdout",
     "output_type": "stream",
     "text": [
      "-----------------------------------------------------------------\n",
      "This variable influences the model: y_safetycont_acq\n",
      "-----------------------------------------------------------------\n",
      "y_safetycont_ext\n",
      "The variable contains NA values\n"
     ]
    },
    {
     "name": "stderr",
     "output_type": "stream",
     "text": [
      "Permuting: 100%|██████████| 1000/1000 [00:00<00:00, 1042.59it/s]\n",
      "c:\\users\\lenov\\pycharmprojects\\paintone_rsn\\venv\\lib\\site-packages\\pandas\\core\\indexing.py:1732: SettingWithCopyWarning: \n",
      "A value is trying to be set on a copy of a slice from a DataFrame\n",
      "\n",
      "See the caveats in the documentation: https://pandas.pydata.org/pandas-docs/stable/user_guide/indexing.html#returning-a-view-versus-a-copy\n",
      "  self._setitem_single_block(indexer, value, name)\n"
     ]
    },
    {
     "name": "stdout",
     "output_type": "stream",
     "text": [
      "y_paincont_acq\n",
      "The variable contains NA values\n"
     ]
    },
    {
     "name": "stderr",
     "output_type": "stream",
     "text": [
      "Permuting: 100%|██████████| 1000/1000 [00:00<00:00, 1053.03it/s]\n",
      "c:\\users\\lenov\\pycharmprojects\\paintone_rsn\\venv\\lib\\site-packages\\pandas\\core\\indexing.py:1732: SettingWithCopyWarning: \n",
      "A value is trying to be set on a copy of a slice from a DataFrame\n",
      "\n",
      "See the caveats in the documentation: https://pandas.pydata.org/pandas-docs/stable/user_guide/indexing.html#returning-a-view-versus-a-copy\n",
      "  self._setitem_single_block(indexer, value, name)\n"
     ]
    },
    {
     "name": "stdout",
     "output_type": "stream",
     "text": [
      "y_paincont_ext\n",
      "The variable contains NA values\n"
     ]
    },
    {
     "name": "stderr",
     "output_type": "stream",
     "text": [
      "Permuting: 100%|██████████| 1000/1000 [00:00<00:00, 1051.40it/s]\n",
      "c:\\users\\lenov\\pycharmprojects\\paintone_rsn\\venv\\lib\\site-packages\\pandas\\core\\indexing.py:1732: SettingWithCopyWarning: \n",
      "A value is trying to be set on a copy of a slice from a DataFrame\n",
      "\n",
      "See the caveats in the documentation: https://pandas.pydata.org/pandas-docs/stable/user_guide/indexing.html#returning-a-view-versus-a-copy\n",
      "  self._setitem_single_block(indexer, value, name)\n"
     ]
    },
    {
     "name": "stdout",
     "output_type": "stream",
     "text": [
      "y_tonecont_acq\n",
      "The variable contains NA values\n"
     ]
    },
    {
     "name": "stderr",
     "output_type": "stream",
     "text": [
      "Permuting: 100%|██████████| 1000/1000 [00:00<00:00, 1099.02it/s]\n",
      "c:\\users\\lenov\\pycharmprojects\\paintone_rsn\\venv\\lib\\site-packages\\pandas\\core\\indexing.py:1732: SettingWithCopyWarning: \n",
      "A value is trying to be set on a copy of a slice from a DataFrame\n",
      "\n",
      "See the caveats in the documentation: https://pandas.pydata.org/pandas-docs/stable/user_guide/indexing.html#returning-a-view-versus-a-copy\n",
      "  self._setitem_single_block(indexer, value, name)\n"
     ]
    },
    {
     "name": "stdout",
     "output_type": "stream",
     "text": [
      "y_tonecont_ext\n",
      "The variable contains NA values\n"
     ]
    },
    {
     "name": "stderr",
     "output_type": "stream",
     "text": [
      "Permuting: 100%|██████████| 1000/1000 [00:00<00:00, 1093.23it/s]\n",
      "c:\\users\\lenov\\pycharmprojects\\paintone_rsn\\venv\\lib\\site-packages\\pandas\\core\\indexing.py:1732: SettingWithCopyWarning: \n",
      "A value is trying to be set on a copy of a slice from a DataFrame\n",
      "\n",
      "See the caveats in the documentation: https://pandas.pydata.org/pandas-docs/stable/user_guide/indexing.html#returning-a-view-versus-a-copy\n",
      "  self._setitem_single_block(indexer, value, name)\n"
     ]
    },
    {
     "name": "stdout",
     "output_type": "stream",
     "text": [
      "PASS_D1\n",
      "The variable contains NA values\n"
     ]
    },
    {
     "name": "stderr",
     "output_type": "stream",
     "text": [
      "Permuting: 100%|██████████| 1000/1000 [00:00<00:00, 1093.39it/s]\n",
      "c:\\users\\lenov\\pycharmprojects\\paintone_rsn\\venv\\lib\\site-packages\\pandas\\core\\indexing.py:1732: SettingWithCopyWarning: \n",
      "A value is trying to be set on a copy of a slice from a DataFrame\n",
      "\n",
      "See the caveats in the documentation: https://pandas.pydata.org/pandas-docs/stable/user_guide/indexing.html#returning-a-view-versus-a-copy\n",
      "  self._setitem_single_block(indexer, value, name)\n"
     ]
    },
    {
     "name": "stdout",
     "output_type": "stream",
     "text": [
      "PASS_D2\n",
      "The variable contains NA values\n"
     ]
    },
    {
     "name": "stderr",
     "output_type": "stream",
     "text": [
      "Permuting: 100%|██████████| 1000/1000 [00:00<00:00, 1048.82it/s]\n",
      "c:\\users\\lenov\\pycharmprojects\\paintone_rsn\\venv\\lib\\site-packages\\pandas\\core\\indexing.py:1732: SettingWithCopyWarning: \n",
      "A value is trying to be set on a copy of a slice from a DataFrame\n",
      "\n",
      "See the caveats in the documentation: https://pandas.pydata.org/pandas-docs/stable/user_guide/indexing.html#returning-a-view-versus-a-copy\n",
      "  self._setitem_single_block(indexer, value, name)\n"
     ]
    },
    {
     "name": "stdout",
     "output_type": "stream",
     "text": [
      "PASS_D3\n",
      "The variable contains NA values\n"
     ]
    },
    {
     "name": "stderr",
     "output_type": "stream",
     "text": [
      "Permuting: 100%|██████████| 1000/1000 [00:00<00:00, 1103.67it/s]\n",
      "c:\\users\\lenov\\pycharmprojects\\paintone_rsn\\venv\\lib\\site-packages\\pandas\\core\\indexing.py:1732: SettingWithCopyWarning: \n",
      "A value is trying to be set on a copy of a slice from a DataFrame\n",
      "\n",
      "See the caveats in the documentation: https://pandas.pydata.org/pandas-docs/stable/user_guide/indexing.html#returning-a-view-versus-a-copy\n",
      "  self._setitem_single_block(indexer, value, name)\n"
     ]
    },
    {
     "name": "stdout",
     "output_type": "stream",
     "text": [
      "PASS_D4\n",
      "The variable contains NA values\n"
     ]
    },
    {
     "name": "stderr",
     "output_type": "stream",
     "text": [
      "Permuting: 100%|██████████| 1000/1000 [00:00<00:00, 1057.38it/s]\n",
      "c:\\users\\lenov\\pycharmprojects\\paintone_rsn\\venv\\lib\\site-packages\\pandas\\core\\indexing.py:1732: SettingWithCopyWarning: \n",
      "A value is trying to be set on a copy of a slice from a DataFrame\n",
      "\n",
      "See the caveats in the documentation: https://pandas.pydata.org/pandas-docs/stable/user_guide/indexing.html#returning-a-view-versus-a-copy\n",
      "  self._setitem_single_block(indexer, value, name)\n"
     ]
    },
    {
     "name": "stdout",
     "output_type": "stream",
     "text": [
      "PCS\n",
      "The variable contains NA values\n"
     ]
    },
    {
     "name": "stderr",
     "output_type": "stream",
     "text": [
      "Permuting: 100%|██████████| 1000/1000 [00:00<00:00, 1108.95it/s]\n",
      "c:\\users\\lenov\\pycharmprojects\\paintone_rsn\\venv\\lib\\site-packages\\pandas\\core\\indexing.py:1732: SettingWithCopyWarning: \n",
      "A value is trying to be set on a copy of a slice from a DataFrame\n",
      "\n",
      "See the caveats in the documentation: https://pandas.pydata.org/pandas-docs/stable/user_guide/indexing.html#returning-a-view-versus-a-copy\n",
      "  self._setitem_single_block(indexer, value, name)\n"
     ]
    },
    {
     "name": "stdout",
     "output_type": "stream",
     "text": [
      "ADS\n",
      "The variable contains NA values\n"
     ]
    },
    {
     "name": "stderr",
     "output_type": "stream",
     "text": [
      "Permuting: 100%|██████████| 1000/1000 [00:00<00:00, 1116.41it/s]\n"
     ]
    },
    {
     "name": "stdout",
     "output_type": "stream",
     "text": [
      "y_valpainlearn_acq\n"
     ]
    },
    {
     "name": "stderr",
     "output_type": "stream",
     "text": [
      "Permuting: 100%|██████████| 1000/1000 [00:00<00:00, 1095.95it/s]\n"
     ]
    },
    {
     "name": "stdout",
     "output_type": "stream",
     "text": [
      "y_valtonelearn_acq\n"
     ]
    },
    {
     "name": "stderr",
     "output_type": "stream",
     "text": [
      "Permuting: 100%|██████████| 1000/1000 [00:00<00:00, 1105.21it/s]\n"
     ]
    },
    {
     "name": "stdout",
     "output_type": "stream",
     "text": [
      "y_valpainlearn_lastacq_ext\n"
     ]
    },
    {
     "name": "stderr",
     "output_type": "stream",
     "text": [
      "Permuting: 100%|██████████| 1000/1000 [00:00<00:00, 1090.79it/s]\n"
     ]
    },
    {
     "name": "stdout",
     "output_type": "stream",
     "text": [
      "y_valtonelearn_lastacq_ext\n"
     ]
    },
    {
     "name": "stderr",
     "output_type": "stream",
     "text": [
      "Permuting: 100%|██████████| 1000/1000 [00:00<00:00, 1069.85it/s]\n"
     ]
    },
    {
     "name": "stdout",
     "output_type": "stream",
     "text": [
      "meanFD\n"
     ]
    },
    {
     "name": "stderr",
     "output_type": "stream",
     "text": [
      "Permuting: 100%|██████████| 1000/1000 [00:00<00:00, 1132.92it/s]\n"
     ]
    },
    {
     "name": "stdout",
     "output_type": "stream",
     "text": [
      "medianFD\n"
     ]
    },
    {
     "name": "stderr",
     "output_type": "stream",
     "text": [
      "Permuting: 100%|██████████| 1000/1000 [00:00<00:00, 1111.78it/s]\n"
     ]
    },
    {
     "name": "stdout",
     "output_type": "stream",
     "text": [
      "maxFD\n"
     ]
    },
    {
     "name": "stderr",
     "output_type": "stream",
     "text": [
      "Permuting: 100%|██████████| 1000/1000 [00:00<00:00, 1105.36it/s]\n"
     ]
    },
    {
     "name": "stdout",
     "output_type": "stream",
     "text": [
      "perc_scrubbed\n"
     ]
    },
    {
     "name": "stderr",
     "output_type": "stream",
     "text": [
      "Permuting: 100%|██████████| 1000/1000 [00:00<00:00, 1123.50it/s]\n"
     ]
    }
   ],
   "source": [
    "datatbl = vs1_behav\n",
    "predval= 'prediction_scr'\n",
    "obsvar = 'y_valpainlearn_acq'\n",
    "\n",
    "pval = 0.05\n",
    "for i in datatbl.columns[:-1]:\n",
    "    print(i)\n",
    "    if datatbl[[i]].isna().any()[0]:\n",
    "        print('The variable contains NA values')\n",
    "        datatbl[i].loc[datatbl[i].isna(),]=datatbl[i].mean()\n",
    "        #datatbl_tmp=datatbl[[obsvar,predval,i]].dropna()\n",
    "    else:\n",
    "        datatbl_tmp=datatbl\n",
    "    confoundervar = datatbl_tmp[i].to_numpy()\n",
    "    ret=partial_confound_test(datatbl_tmp[obsvar].to_numpy(),\n",
    "                          datatbl_tmp[predval].to_numpy(),\n",
    "                          confoundervar, return_null_dist=True,\n",
    "                  random_state=42)\n",
    "    if ret.p <= pval:\n",
    "        print('-'*65)\n",
    "        print('This variable influences the model:',i)\n",
    "        print('-'*65)\n",
    "        plot_graph(ret)"
   ],
   "metadata": {
    "collapsed": false,
    "pycharm": {
     "name": "#%%\n"
    }
   }
  },
  {
   "cell_type": "code",
   "execution_count": 4,
   "outputs": [
    {
     "name": "stderr",
     "output_type": "stream",
     "text": [
      "c:\\users\\lenov\\pycharmprojects\\paintone_rsn\\venv\\lib\\site-packages\\pandas\\core\\indexing.py:1732: SettingWithCopyWarning: \n",
      "A value is trying to be set on a copy of a slice from a DataFrame\n",
      "\n",
      "See the caveats in the documentation: https://pandas.pydata.org/pandas-docs/stable/user_guide/indexing.html#returning-a-view-versus-a-copy\n",
      "  self._setitem_single_block(indexer, value, name)\n",
      "Permuting: 100%|██████████| 1000/1000 [00:00<00:00, 1071.61it/s]\n"
     ]
    },
    {
     "data": {
      "text/plain": "<graphviz.dot.Graph at 0x1460c8952e0>",
      "image/svg+xml": "<?xml version=\"1.0\" encoding=\"UTF-8\" standalone=\"no\"?>\r\n<!DOCTYPE svg PUBLIC \"-//W3C//DTD SVG 1.1//EN\"\r\n \"http://www.w3.org/Graphics/SVG/1.1/DTD/svg11.dtd\">\r\n<!-- Generated by graphviz version 2.50.0 (20211204.2007)\r\n -->\r\n<!-- Pages: 1 -->\r\n<svg width=\"341pt\" height=\"79pt\"\r\n viewBox=\"0.00 0.00 341.00 79.00\" xmlns=\"http://www.w3.org/2000/svg\" xmlns:xlink=\"http://www.w3.org/1999/xlink\">\r\n<g id=\"graph0\" class=\"graph\" transform=\"scale(1 1) rotate(0) translate(4 75)\">\r\n<polygon fill=\"white\" stroke=\"transparent\" points=\"-4,4 -4,-75 337,-75 337,4 -4,4\"/>\r\n<!-- c -->\r\n<g id=\"node1\" class=\"node\">\r\n<title>c</title>\r\n<ellipse fill=\"none\" stroke=\"black\" cx=\"27\" cy=\"-18\" rx=\"27\" ry=\"18\"/>\r\n<text text-anchor=\"middle\" x=\"27\" y=\"-14.3\" font-family=\"Times New Roman,serif\" font-size=\"14.00\">c</text>\r\n</g>\r\n<!-- y -->\r\n<g id=\"node2\" class=\"node\">\r\n<title>y</title>\r\n<ellipse fill=\"none\" stroke=\"black\" cx=\"166.5\" cy=\"-53\" rx=\"27\" ry=\"18\"/>\r\n<text text-anchor=\"middle\" x=\"166.5\" y=\"-49.3\" font-family=\"Times New Roman,serif\" font-size=\"14.00\">y</text>\r\n</g>\r\n<!-- c&#45;&#45;y -->\r\n<g id=\"edge2\" class=\"edge\">\r\n<title>c&#45;&#45;y</title>\r\n<path fill=\"none\" stroke=\"black\" d=\"M52.58,-24.26C77.61,-30.63 116.18,-40.45 141.13,-46.8\"/>\r\n<text text-anchor=\"middle\" x=\"87.5\" y=\"-39.8\" font-family=\"Times New Roman,serif\" font-size=\"14.00\">0.116</text>\r\n</g>\r\n<!-- yhat -->\r\n<g id=\"node3\" class=\"node\">\r\n<title>yhat</title>\r\n<ellipse fill=\"none\" stroke=\"black\" cx=\"306\" cy=\"-18\" rx=\"27\" ry=\"18\"/>\r\n<text text-anchor=\"start\" x=\"302.5\" y=\"-14.3\" font-family=\"Times New Roman,serif\" font-size=\"14.00\">ŷ</text>\r\n</g>\r\n<!-- c&#45;&#45;yhat -->\r\n<g id=\"edge1\" class=\"edge\">\r\n<title>c&#45;&#45;yhat</title>\r\n<path fill=\"none\" stroke=\"black\" stroke-dasharray=\"5,2\" d=\"M54.03,-15.52C72.66,-13.86 98.35,-11.85 121,-11 161.42,-9.48 171.58,-9.48 212,-11 234.65,-11.85 260.34,-13.86 278.97,-15.52\"/>\r\n<text text-anchor=\"middle\" x=\"166.5\" y=\"-14.8\" font-family=\"Times New Roman,serif\" font-size=\"14.00\">0.185 (p=0.04*)</text>\r\n</g>\r\n<!-- y&#45;&#45;yhat -->\r\n<g id=\"edge3\" class=\"edge\">\r\n<title>y&#45;&#45;yhat</title>\r\n<path fill=\"none\" stroke=\"black\" d=\"M192.08,-46.74C217.11,-40.37 255.68,-30.55 280.63,-24.2\"/>\r\n<text text-anchor=\"middle\" x=\"245.5\" y=\"-39.8\" font-family=\"Times New Roman,serif\" font-size=\"14.00\">0.078</text>\r\n</g>\r\n</g>\r\n</svg>\r\n"
     },
     "execution_count": 4,
     "metadata": {},
     "output_type": "execute_result"
    },
    {
     "data": {
      "text/plain": "<Figure size 360x360 with 1 Axes>",
      "image/png": "[encoded data removed]"
     },
     "metadata": {
      "needs_background": "light"
     },
     "output_type": "display_data"
    }
   ],
   "source": [
    "confvar='y_safetycont_acq'\n",
    "datatbl[confvar].loc[datatbl[confvar].isna(),]=datatbl[confvar].mean()\n",
    "#muki=datatbl[[obsvar,predval,confvar]].dropna()\n",
    "muki=datatbl.copy()\n",
    "sns.lmplot(x=confvar,y='prediction_scr',data=datatbl)\n",
    "ret=partial_confound_test(muki[obsvar].to_numpy(),\n",
    "                          muki[predval],\n",
    "                          muki['y_safetycont_acq'].to_numpy(), return_null_dist=True,\n",
    "                  random_state=42)\n",
    "plot_graph(ret)"
   ],
   "metadata": {
    "collapsed": false,
    "pycharm": {
     "name": "#%%\n"
    }
   }
  },
  {
   "cell_type": "markdown",
   "source": [
    "# Validation sample 2\n",
    "- none of the contingencies or the motion parameters bias the model"
   ],
   "metadata": {
    "collapsed": false,
    "pycharm": {
     "name": "#%% md\n"
    }
   }
  },
  {
   "cell_type": "code",
   "execution_count": 10,
   "outputs": [],
   "source": [
    "pathtovalidationsmpl_2=\"C:/Users/lenov/PycharmProjects/paintone_rsn/data_in/validation_smpl2/\"\n",
    "# load behavior data which was preprocessed with R\n",
    "vs2_behav = pd.read_csv(pathtovalidationsmpl_2+'validation_smpl2_behav_excl_confounder.csv', #allbehavdata.csv',\n",
    "                         index_col=['VPN'],)"
   ],
   "metadata": {
    "collapsed": false,
    "pycharm": {
     "name": "#%%\n"
    }
   }
  },
  {
   "cell_type": "code",
   "execution_count": 11,
   "outputs": [
    {
     "name": "stdout",
     "output_type": "stream",
     "text": [
      "CS_Vis_Vis_A\n"
     ]
    },
    {
     "name": "stderr",
     "output_type": "stream",
     "text": [
      "Permuting: 100%|██████████| 1000/1000 [00:00<00:00, 1052.95it/s]\n"
     ]
    },
    {
     "name": "stdout",
     "output_type": "stream",
     "text": [
      "CS_Vis_Aud_A\n"
     ]
    },
    {
     "name": "stderr",
     "output_type": "stream",
     "text": [
      "Permuting: 100%|██████████| 1000/1000 [00:00<00:00, 1060.57it/s]\n"
     ]
    },
    {
     "name": "stdout",
     "output_type": "stream",
     "text": [
      "CS_Aud_Vis_A\n"
     ]
    },
    {
     "name": "stderr",
     "output_type": "stream",
     "text": [
      "Permuting: 100%|██████████| 1000/1000 [00:00<00:00, 1149.56it/s]\n"
     ]
    },
    {
     "name": "stdout",
     "output_type": "stream",
     "text": [
      "CS_Aud_Aud_A\n"
     ]
    },
    {
     "name": "stderr",
     "output_type": "stream",
     "text": [
      "Permuting: 100%|██████████| 1000/1000 [00:00<00:00, 1064.42it/s]\n"
     ]
    },
    {
     "name": "stdout",
     "output_type": "stream",
     "text": [
      "CS_Minus_Vis_A\n"
     ]
    },
    {
     "name": "stderr",
     "output_type": "stream",
     "text": [
      "Permuting: 100%|██████████| 1000/1000 [00:00<00:00, 1181.03it/s]\n"
     ]
    },
    {
     "name": "stdout",
     "output_type": "stream",
     "text": [
      "CS_Minus_Aud_A\n"
     ]
    },
    {
     "name": "stderr",
     "output_type": "stream",
     "text": [
      "Permuting: 100%|██████████| 1000/1000 [00:00<00:00, 1111.48it/s]\n"
     ]
    },
    {
     "name": "stdout",
     "output_type": "stream",
     "text": [
      "CS_Vis_Vis_E\n"
     ]
    },
    {
     "name": "stderr",
     "output_type": "stream",
     "text": [
      "Permuting: 100%|██████████| 1000/1000 [00:00<00:00, 1157.90it/s]\n"
     ]
    },
    {
     "name": "stdout",
     "output_type": "stream",
     "text": [
      "CS_Vis_Aud_E\n"
     ]
    },
    {
     "name": "stderr",
     "output_type": "stream",
     "text": [
      "Permuting: 100%|██████████| 1000/1000 [00:00<00:00, 1149.42it/s]\n"
     ]
    },
    {
     "name": "stdout",
     "output_type": "stream",
     "text": [
      "CS_Aud_Vis_E\n"
     ]
    },
    {
     "name": "stderr",
     "output_type": "stream",
     "text": [
      "Permuting: 100%|██████████| 1000/1000 [00:00<00:00, 1102.88it/s]\n"
     ]
    },
    {
     "name": "stdout",
     "output_type": "stream",
     "text": [
      "CS_Aud_Aud_E\n"
     ]
    },
    {
     "name": "stderr",
     "output_type": "stream",
     "text": [
      "Permuting: 100%|██████████| 1000/1000 [00:00<00:00, 1137.28it/s]\n"
     ]
    },
    {
     "name": "stdout",
     "output_type": "stream",
     "text": [
      "CS_Minus_Vis_E\n"
     ]
    },
    {
     "name": "stderr",
     "output_type": "stream",
     "text": [
      "Permuting: 100%|██████████| 1000/1000 [00:00<00:00, 1140.73it/s]\n"
     ]
    },
    {
     "name": "stdout",
     "output_type": "stream",
     "text": [
      "CS_Minus_Aud_E\n"
     ]
    },
    {
     "name": "stderr",
     "output_type": "stream",
     "text": [
      "Permuting: 100%|██████████| 1000/1000 [00:00<00:00, 1154.67it/s]\n"
     ]
    },
    {
     "name": "stdout",
     "output_type": "stream",
     "text": [
      "CS_Vis_Vis_R\n"
     ]
    },
    {
     "name": "stderr",
     "output_type": "stream",
     "text": [
      "Permuting: 100%|██████████| 1000/1000 [00:00<00:00, 1171.06it/s]\n"
     ]
    },
    {
     "name": "stdout",
     "output_type": "stream",
     "text": [
      "CS_Vis_Aud_R\n"
     ]
    },
    {
     "name": "stderr",
     "output_type": "stream",
     "text": [
      "Permuting: 100%|██████████| 1000/1000 [00:00<00:00, 1161.49it/s]\n"
     ]
    },
    {
     "name": "stdout",
     "output_type": "stream",
     "text": [
      "CS_Aud_Vis_R\n"
     ]
    },
    {
     "name": "stderr",
     "output_type": "stream",
     "text": [
      "Permuting: 100%|██████████| 1000/1000 [00:00<00:00, 1155.02it/s]\n"
     ]
    },
    {
     "name": "stdout",
     "output_type": "stream",
     "text": [
      "CS_Aud_Aud_R\n"
     ]
    },
    {
     "name": "stderr",
     "output_type": "stream",
     "text": [
      "Permuting: 100%|██████████| 1000/1000 [00:00<00:00, 1080.43it/s]\n"
     ]
    },
    {
     "name": "stdout",
     "output_type": "stream",
     "text": [
      "CS_Minus_Vis_R\n"
     ]
    },
    {
     "name": "stderr",
     "output_type": "stream",
     "text": [
      "Permuting: 100%|██████████| 1000/1000 [00:00<00:00, 1084.52it/s]\n"
     ]
    },
    {
     "name": "stdout",
     "output_type": "stream",
     "text": [
      "CS_Minus_Aud_R\n"
     ]
    },
    {
     "name": "stderr",
     "output_type": "stream",
     "text": [
      "Permuting: 100%|██████████| 1000/1000 [00:01<00:00, 788.24it/s]\n"
     ]
    },
    {
     "name": "stdout",
     "output_type": "stream",
     "text": [
      "VAS_INTENSITY_AUDIO_A1\n"
     ]
    },
    {
     "name": "stderr",
     "output_type": "stream",
     "text": [
      "Permuting: 100%|██████████| 1000/1000 [00:01<00:00, 957.10it/s]\n"
     ]
    },
    {
     "name": "stdout",
     "output_type": "stream",
     "text": [
      "VAS_INTENSITY_BARO_A1\n"
     ]
    },
    {
     "name": "stderr",
     "output_type": "stream",
     "text": [
      "Permuting: 100%|██████████| 1000/1000 [00:00<00:00, 1108.28it/s]\n"
     ]
    },
    {
     "name": "stdout",
     "output_type": "stream",
     "text": [
      "VAS_UNPLEASANTNESS_AUDIO_A1\n"
     ]
    },
    {
     "name": "stderr",
     "output_type": "stream",
     "text": [
      "Permuting: 100%|██████████| 1000/1000 [00:00<00:00, 1135.25it/s]\n"
     ]
    },
    {
     "name": "stdout",
     "output_type": "stream",
     "text": [
      "VAS_UNPLEASANTNESS_BARO_A1\n"
     ]
    },
    {
     "name": "stderr",
     "output_type": "stream",
     "text": [
      "Permuting: 100%|██████████| 1000/1000 [00:00<00:00, 1117.44it/s]\n"
     ]
    },
    {
     "name": "stdout",
     "output_type": "stream",
     "text": [
      "VAS_INTENSITY_AUDIO_A2\n"
     ]
    },
    {
     "name": "stderr",
     "output_type": "stream",
     "text": [
      "Permuting: 100%|██████████| 1000/1000 [00:00<00:00, 1123.68it/s]\n"
     ]
    },
    {
     "name": "stdout",
     "output_type": "stream",
     "text": [
      "VAS_INTENSITY_BARO_A2\n"
     ]
    },
    {
     "name": "stderr",
     "output_type": "stream",
     "text": [
      "Permuting: 100%|██████████| 1000/1000 [00:00<00:00, 1095.76it/s]\n"
     ]
    },
    {
     "name": "stdout",
     "output_type": "stream",
     "text": [
      "VAS_UNPLEASANTNESS_AUDIO_A2\n"
     ]
    },
    {
     "name": "stderr",
     "output_type": "stream",
     "text": [
      "Permuting: 100%|██████████| 1000/1000 [00:00<00:00, 1126.39it/s]\n"
     ]
    },
    {
     "name": "stdout",
     "output_type": "stream",
     "text": [
      "VAS_UNPLEASANTNESS_BARO_A2\n"
     ]
    },
    {
     "name": "stderr",
     "output_type": "stream",
     "text": [
      "Permuting: 100%|██████████| 1000/1000 [00:00<00:00, 1103.13it/s]\n"
     ]
    },
    {
     "name": "stdout",
     "output_type": "stream",
     "text": [
      "VAS_INTENSITY_AUDIO_R1\n"
     ]
    },
    {
     "name": "stderr",
     "output_type": "stream",
     "text": [
      "Permuting: 100%|██████████| 1000/1000 [00:00<00:00, 1140.92it/s]\n"
     ]
    },
    {
     "name": "stdout",
     "output_type": "stream",
     "text": [
      "VAS_INTENSITY_BARO_R1\n"
     ]
    },
    {
     "name": "stderr",
     "output_type": "stream",
     "text": [
      "Permuting: 100%|██████████| 1000/1000 [00:00<00:00, 1114.37it/s]\n"
     ]
    },
    {
     "name": "stdout",
     "output_type": "stream",
     "text": [
      "VAS_UNPLEASANTNESS_AUDIO_R1\n"
     ]
    },
    {
     "name": "stderr",
     "output_type": "stream",
     "text": [
      "Permuting: 100%|██████████| 1000/1000 [00:00<00:00, 1141.13it/s]\n"
     ]
    },
    {
     "name": "stdout",
     "output_type": "stream",
     "text": [
      "VAS_UNPLEASANTNESS_BARO_R1\n"
     ]
    },
    {
     "name": "stderr",
     "output_type": "stream",
     "text": [
      "Permuting: 100%|██████████| 1000/1000 [00:00<00:00, 1108.59it/s]\n"
     ]
    },
    {
     "name": "stdout",
     "output_type": "stream",
     "text": [
      "meanFD\n"
     ]
    },
    {
     "name": "stderr",
     "output_type": "stream",
     "text": [
      "Permuting: 100%|██████████| 1000/1000 [00:00<00:00, 1129.61it/s]\n"
     ]
    },
    {
     "name": "stdout",
     "output_type": "stream",
     "text": [
      "medianFD\n"
     ]
    },
    {
     "name": "stderr",
     "output_type": "stream",
     "text": [
      "Permuting: 100%|██████████| 1000/1000 [00:00<00:00, 1136.30it/s]\n"
     ]
    },
    {
     "name": "stdout",
     "output_type": "stream",
     "text": [
      "maxFD\n"
     ]
    },
    {
     "name": "stderr",
     "output_type": "stream",
     "text": [
      "Permuting: 100%|██████████| 1000/1000 [00:00<00:00, 1124.48it/s]\n"
     ]
    },
    {
     "name": "stdout",
     "output_type": "stream",
     "text": [
      "perc_scrubbed\n"
     ]
    },
    {
     "name": "stderr",
     "output_type": "stream",
     "text": [
      "Permuting: 100%|██████████| 1000/1000 [00:00<00:00, 1131.81it/s]\n"
     ]
    },
    {
     "name": "stdout",
     "output_type": "stream",
     "text": [
      "prediction_scr\n"
     ]
    },
    {
     "name": "stderr",
     "output_type": "stream",
     "text": [
      "Permuting: 100%|██████████| 1000/1000 [00:00<00:00, 1116.73it/s]\n"
     ]
    },
    {
     "name": "stdout",
     "output_type": "stream",
     "text": [
      "-----------------------------------------------------------------\n",
      "This variable influences the model: prediction_scr\n",
      "-----------------------------------------------------------------\n",
      "y_valpainlearn_acq\n"
     ]
    },
    {
     "name": "stderr",
     "output_type": "stream",
     "text": [
      "Permuting: 100%|██████████| 1000/1000 [00:00<00:00, 1113.20it/s]\n"
     ]
    },
    {
     "name": "stdout",
     "output_type": "stream",
     "text": [
      "y_valtonelearn_acq\n"
     ]
    },
    {
     "name": "stderr",
     "output_type": "stream",
     "text": [
      "Permuting: 100%|██████████| 1000/1000 [00:00<00:00, 1099.65it/s]\n"
     ]
    },
    {
     "name": "stdout",
     "output_type": "stream",
     "text": [
      "y_valpainlearn_ext\n"
     ]
    },
    {
     "name": "stderr",
     "output_type": "stream",
     "text": [
      "Permuting: 100%|██████████| 1000/1000 [00:00<00:00, 1108.82it/s]\n"
     ]
    },
    {
     "name": "stdout",
     "output_type": "stream",
     "text": [
      "y_valtonelearn_ext\n"
     ]
    },
    {
     "name": "stderr",
     "output_type": "stream",
     "text": [
      "Permuting: 100%|██████████| 1000/1000 [00:00<00:00, 1098.00it/s]\n"
     ]
    }
   ],
   "source": [
    "datatbl = vs2_behav\n",
    "predval= 'prediction_scr'\n",
    "obsvar = 'y_valpainlearn_acq'\n",
    "\n",
    "pval = 0.05\n",
    "for i in datatbl.columns[1:]:\n",
    "    print(i)\n",
    "    if datatbl[[i]].isna().any()[0]:\n",
    "        print('The variable contains NA values')\n",
    "        datatbl_tmp=datatbl[[obsvar,predval,i]].dropna()\n",
    "    else:\n",
    "        datatbl_tmp=datatbl\n",
    "    confoundervar = datatbl_tmp[i].to_numpy()\n",
    "    ret=partial_confound_test(datatbl_tmp[obsvar].to_numpy(),\n",
    "                          datatbl_tmp[predval].to_numpy(),\n",
    "                          confoundervar, return_null_dist=True,\n",
    "                  random_state=42)\n",
    "    if ret.p <= pval:\n",
    "        print('-'*65)\n",
    "        print('This variable influences the model:',i)\n",
    "        print('-'*65)\n",
    "        plot_graph(ret)"
   ],
   "metadata": {
    "collapsed": false,
    "pycharm": {
     "name": "#%%\n"
    }
   }
  },
  {
   "cell_type": "code",
   "execution_count": 11,
   "outputs": [],
   "source": [],
   "metadata": {
    "collapsed": false,
    "pycharm": {
     "name": "#%%\n"
    }
   }
  }
 ],
 "metadata": {
  "kernelspec": {
   "display_name": "Python 3",
   "language": "python",
   "name": "python3"
  },
  "language_info": {
   "codemirror_mode": {
    "name": "ipython",
    "version": 2
   },
   "file_extension": ".py",
   "mimetype": "text/x-python",
   "name": "python",
   "nbconvert_exporter": "python",
   "pygments_lexer": "ipython2",
   "version": "2.7.6"
  }
 },
 "nbformat": 4,
 "nbformat_minor": 0
}