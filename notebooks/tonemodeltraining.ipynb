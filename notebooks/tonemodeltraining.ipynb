{
 "cells": [
  {
   "cell_type": "code",
   "execution_count": 5,
   "outputs": [],
   "source": [
    "import pandas as pd\n",
    "from paintone_rsn.data_loading import load_subjectiid, exclusion, load_timeseries\n",
    "from paintone_rsn.data_preproc import connectivity_matrix, connectivitylabelname\n",
    "import paintone_rsn.mlfunctions as myml\n",
    "from scipy.stats import pearsonr\n",
    "import numpy as np\n",
    "import pickle"
   ],
   "metadata": {
    "collapsed": false,
    "pycharm": {
     "name": "#%%\n"
    }
   }
  },
  {
   "cell_type": "code",
   "execution_count": 2,
   "outputs": [
    {
     "data": {
      "text/plain": "Index(['meanFD', 'medianFD', 'maxFD', 'perc_scrubbed', 'age', 'fear_of_pain',\n       'fear_of_tone', 'diff_fear', 'hpt', 'tt', 'y_valpainlearn_acq',\n       'y_valtonelearn_acq', 'y_valpainlearn_ext', 'y_valtonelearn_ext',\n       'y_paincont_acq', 'y_tonecont_acq', 'y_safetycont_acq',\n       'y_paincont_ext', 'y_tonecont_ext', 'y_safetycont_ext',\n       'hab_UCS_pain_vas', 'hab_UCS_tone_vas', 'PASS_D1', 'PASS_D2', 'PASS_D3',\n       'PASS_D4', 'PCS', 'ADS', 'rcpl_score'],\n      dtype='object')"
     },
     "execution_count": 2,
     "metadata": {},
     "output_type": "execute_result"
    }
   ],
   "source": [
    "# load behavior variables for the discovery sample\n",
    "pathtodiscoversmpl=\"C:/Users/lenov/PycharmProjects/paintone_rsn/data_in/discovery_smpl/\"\n",
    "discovery_behav = pd.read_pickle(\"C:/Users/lenov/PycharmProjects/paintone_rsn/data_in/discovery_smpl/discovery_smpl_behav.pkl\")\n",
    "discovery_behav.columns\n"
   ],
   "metadata": {
    "collapsed": false,
    "pycharm": {
     "name": "#%%\n"
    }
   }
  },
  {
   "cell_type": "code",
   "execution_count": 3,
   "outputs": [
    {
     "name": "stdout",
     "output_type": "stream",
     "text": [
      "These are the subjects subjectID who were excluded:\tdict_keys([4, 7, 8, 14, 16, 18, 22, 24, 25, 29, 36, 43, 44])\n",
      "These are the subjects ordererID who were excluded:\tdict_values([1, 3, 4, 7, 9, 11, 15, 17, 18, 21, 26, 33, 34])\n",
      "These are the subjects subjectID who were included:\tdict_keys([3, 5, 9, 12, 15, 17, 19, 20, 21, 23, 27, 28, 32, 33, 34, 35, 37, 38, 39, 40, 41, 42, 45, 46, 47])\n",
      "These are the subjects ordererID who were included:\tdict_values([0, 2, 5, 6, 8, 10, 12, 13, 14, 16, 19, 20, 22, 23, 24, 25, 27, 28, 29, 30, 31, 32, 35, 36, 37])\n",
      "In total we work with\t25\t participants.\n",
      " Check if all the aprticipanst have behavior data!!!!\n",
      "Number of participant excluded based in the motion parameters(FD>0.15,scrubbed percent>25):11\n",
      "this is their subjID \t4\tand this is thier orderID:\t1\n",
      "this is their subjID \t7\tand this is thier orderID:\t3\n",
      "this is their subjID \t8\tand this is thier orderID:\t4\n",
      "this is their subjID \t14\tand this is thier orderID:\t7\n",
      "this is their subjID \t16\tand this is thier orderID:\t9\n",
      "this is their subjID \t18\tand this is thier orderID:\t11\n",
      "this is their subjID \t22\tand this is thier orderID:\t15\n",
      "this is their subjID \t24\tand this is thier orderID:\t17\n",
      "this is their subjID \t25\tand this is thier orderID:\t18\n",
      "this is their subjID \t29\tand this is thier orderID:\t21\n",
      "this is their subjID \t36\tand this is thier orderID:\t26\n",
      "this is their subjID \t43\tand this is thier orderID:\t33\n",
      "this is their subjID \t44\tand this is thier orderID:\t34\n",
      "These are the participants subjID whose excluded beforehand:\t[8, 18, 31]\n",
      "The number of ROIs:7503\n"
     ]
    }
   ],
   "source": [
    "# load included subjects' timeseries\n",
    "s0_dict_subjID_idx = load_subjectiid(pathtodiscoversmpl+'subjectsIDs.txt')\n",
    "s0_subjID_idx_incl, s0_subjID_idx_excl,s0_motioninf_curr = exclusion(pathtodiscoversmpl+'motion_summary.csv',\n",
    "                                             dict_subjID_idx=s0_dict_subjID_idx,\n",
    "                                             excl_subj=[8,18,31])\n",
    "# Reason of exclusion\n",
    "# -subj 8 felt asleep in the scanner\n",
    "# -subj 18 - missing behavior data\n",
    "# -subj 31 - missing mri data\n",
    "timeseries_s0,\\\n",
    "labels,\\\n",
    "loadedsubjpath,\\\n",
    "vectorizedlabels,\\\n",
    "listoflabelpairs = load_timeseries(pathtodiscoversmpl+'regional_timeseries/',\n",
    "                                   s0_subjID_idx_incl.values(),\n",
    "                                   fddir=[pathtodiscoversmpl+\"calculate_FD_Power/mapflow/\"],\n",
    "                                   numofexlcvolsatthebeg=0)\n",
    "#calculate the connectivity matrix based on the timeseries and vectorize them\n",
    "X, cm = connectivity_matrix(timeseries_s0)\n",
    "\n",
    "# convert the connectivity matrix to a pandsa dataframe\n",
    "s0_features_scr = pd.DataFrame(X,\n",
    "            columns=(vectorizedlabels),\n",
    "            index = s0_subjID_idx_incl.keys())"
   ],
   "metadata": {
    "collapsed": false,
    "pycharm": {
     "name": "#%%\n"
    }
   }
  },
  {
   "cell_type": "code",
   "execution_count": 4,
   "outputs": [
    {
     "name": "stdout",
     "output_type": "stream",
     "text": [
      "**** Non-nested analysis ****\n",
      "** Best hyperparameters: {'fsel__k': 90, 'model__alpha': 10}\n",
      "** Score on full data as training set:\t-360.8048135701217\n",
      "** Score on mean as model: -546.0096000000001\n",
      "** Best Non-nested cross-validated score on test:\t-590.2106555512053\n",
      "XXXXX Explained Variance: -0.08095289084881507\n",
      "**** Nested analysis ****\n",
      "model\tinner_cv mean score\touter vc score\n",
      "{'fsel__k': 10, 'model__alpha': 0.1} -529.6838956553314 -1732.4058987976537\n",
      "{'fsel__k': 190, 'model__alpha': 0.001} -587.4014366384774 -632.6661724549049\n",
      "{'fsel__k': 125, 'model__alpha': 0.5} -591.0786739494383 -268.10125457177395\n",
      "{'fsel__k': 165, 'model__alpha': 10} -615.3811215768479 -15.852509174334825\n",
      "{'fsel__k': 140, 'model__alpha': 0.001} -595.0378646874284 -64.92062036940884\n",
      "{'fsel__k': 40, 'model__alpha': 0.001} -558.2468643284124 -656.4254086705156\n",
      "{'fsel__k': 100, 'model__alpha': 10} -615.9222422118396 -5.13524895944932\n",
      "{'fsel__k': 140, 'model__alpha': 1} -600.4104612309552 -15.709893490040253\n",
      "{'fsel__k': 135, 'model__alpha': 0.001} -531.782776859276 -1532.216103287725\n",
      "{'fsel__k': 100, 'model__alpha': 10} -563.4677553045276 -1252.2468491203042\n",
      "{'fsel__k': 155, 'model__alpha': 1} -595.302487285439 -335.42873648783444\n",
      "{'fsel__k': 90, 'model__alpha': 0.5} -553.5678776267666 -435.06340512413016\n",
      "{'fsel__k': 10, 'model__alpha': 0.5} -586.1366753061251 -213.19910659189173\n",
      "{'fsel__k': 110, 'model__alpha': 0.5} -593.9948421482685 -35.53675680944019\n",
      "{'fsel__k': 105, 'model__alpha': 0.001} -606.8611180223179 -12.52928507259658\n",
      "{'fsel__k': 105, 'model__alpha': 10} -612.7447276925953 -86.64621054588288\n",
      "{'fsel__k': 160, 'model__alpha': 10} -600.8608639084374 -391.90181434907123\n",
      "{'fsel__k': 15, 'model__alpha': 0.05} -251.01364764134186 -6820.0911850834345\n",
      "{'fsel__k': 110, 'model__alpha': 1} -604.8959459016486 -132.5815607358228\n",
      "{'fsel__k': 110, 'model__alpha': 1} -611.0909521325142 -50.914855788242484\n",
      "{'fsel__k': 120, 'model__alpha': 10} -585.2290566884253 -751.4398258964306\n",
      "{'fsel__k': 105, 'model__alpha': 10} -619.5526892913166 -24.026292718457615\n",
      "{'fsel__k': 100, 'model__alpha': 10} -620.3186028910324 -0.13510121093103475\n",
      "{'fsel__k': 35, 'model__alpha': 0.5} -590.5497501195189 -432.78825444458266\n",
      "{'fsel__k': 200, 'model__alpha': 10} -611.1967049417576 -205.7360288598872\n",
      "*** Score on mean as model:\t-546.0096000000001\n",
      "** Mean score in the inner crossvaludation (inner_cv):\t-577.2691613616016\n",
      "** Mean Nested Crossvalidation Score (outer_cv):\t-644.1479351445898\n",
      "Explained Variance: -0.17973738034018027\n",
      "Correlation: -0.49099285932629555\n"
     ]
    },
    {
     "name": "stderr",
     "output_type": "stream",
     "text": [
      "c:\\users\\lenov\\pycharmprojects\\paintone_rsn\\venv\\lib\\site-packages\\numpy\\core\\fromnumeric.py:3440: RuntimeWarning: Mean of empty slice.\n",
      "  return _methods._mean(a, axis=axis, dtype=dtype,\n",
      "c:\\users\\lenov\\pycharmprojects\\paintone_rsn\\venv\\lib\\site-packages\\numpy\\core\\_methods.py:189: RuntimeWarning: invalid value encountered in double_scalars\n",
      "  ret = ret.dtype.type(ret / rcount)\n"
     ]
    },
    {
     "data": {
      "text/plain": "<Figure size 432x288 with 1 Axes>",
      "image/png": "[encoded data removed]"
     },
     "metadata": {
      "needs_background": "light"
     },
     "output_type": "display_data"
    },
    {
     "name": "stdout",
     "output_type": "stream",
     "text": [
      "R2=0.534  R=0.731   p=0.000034  Expl. Var.: -8.1%  Expl. Var.2: -8.1%  MSE=590.211 RMSE=24.294  MAE=17.150 MedAE=13.422  R^2=-0.081\n"
     ]
    },
    {
     "name": "stderr",
     "output_type": "stream",
     "text": [
      "c:\\users\\lenov\\pycharmprojects\\paintone_rsn\\venv\\lib\\site-packages\\seaborn\\_decorators.py:36: FutureWarning: Pass the following variables as keyword args: x, y. From version 0.12, the only valid positional argument will be `data`, and passing other arguments without an explicit keyword will result in an error or misinterpretation.\n",
      "  warnings.warn(\n"
     ]
    },
    {
     "data": {
      "text/plain": "<Figure size 432x432 with 3 Axes>",
      "image/png": "[encoded data removed]"
     },
     "metadata": {
      "needs_background": "light"
     },
     "output_type": "display_data"
    }
   ],
   "source": [
    "y_reg = discovery_behav['y_valtonelearn_acq'].to_numpy()\n",
    "X_reg = s0_features_scr.to_numpy() #s0_features\n",
    "mymodel, p_grid = myml.pipe_scale_fsel_ridge_noscaler()\n",
    "m_scr, m_scr_predictedval, m0_scr_all_models, m0_scr_mycrossval, m0_scr_myfig, m0_scr_explvar, m0_scr_predicted = \\\n",
    "    myml.mytrain(X_reg,\n",
    "                        y_reg,\n",
    "                        mymodel,\n",
    "                        p_grid, nested=True)\n",
    "myprediction = myml.evaluate_crossval_prediction(m_scr,X_reg, y_reg,outfile=[])\n",
    "discovery_behav['rcpl_score']=m_scr_predictedval\n"
   ],
   "metadata": {
    "collapsed": false,
    "pycharm": {
     "name": "#%%\n"
    }
   }
  },
  {
   "cell_type": "markdown",
   "source": [
    "# Validation dataset 1"
   ],
   "metadata": {
    "collapsed": false
   }
  },
  {
   "cell_type": "code",
   "execution_count": 6,
   "outputs": [
    {
     "name": "stdout",
     "output_type": "stream",
     "text": [
      "These are the subjects subjectID who were excluded:\tdict_keys([5, 8, 10, 20, 25, 30, 32])\n",
      "These are the subjects ordererID who were excluded:\tdict_values([4, 7, 9, 19, 24, 29, 31])\n",
      "These are the subjects subjectID who were included:\tdict_keys([1, 2, 3, 4, 6, 7, 9, 11, 12, 13, 14, 15, 16, 17, 18, 19, 21, 22, 23, 24, 26, 27, 28, 29, 31, 33])\n",
      "These are the subjects ordererID who were included:\tdict_values([0, 1, 2, 3, 5, 6, 8, 10, 11, 12, 13, 14, 15, 16, 17, 18, 20, 21, 22, 23, 25, 26, 27, 28, 30, 32])\n",
      "In total we work with\t26\t participants.\n",
      " Check if all the aprticipanst have behavior data!!!!\n",
      "Number of participant excluded based in the motion parameters(FD>0.15,scrubbed percent>25):5\n",
      "this is their subjID \t5\tand this is thier orderID:\t4\n",
      "this is their subjID \t8\tand this is thier orderID:\t7\n",
      "this is their subjID \t10\tand this is thier orderID:\t9\n",
      "this is their subjID \t20\tand this is thier orderID:\t19\n",
      "this is their subjID \t25\tand this is thier orderID:\t24\n",
      "this is their subjID \t30\tand this is thier orderID:\t29\n",
      "this is their subjID \t32\tand this is thier orderID:\t31\n",
      "These are the participants subjID whose excluded beforehand:\t[5, 32]\n",
      "The number of ROIs:7503\n"
     ]
    },
    {
     "name": "stderr",
     "output_type": "stream",
     "text": [
      "c:\\users\\lenov\\pycharmprojects\\paintone_rsn\\venv\\lib\\site-packages\\seaborn\\_decorators.py:36: FutureWarning: Pass the following variables as keyword args: x, y. From version 0.12, the only valid positional argument will be `data`, and passing other arguments without an explicit keyword will result in an error or misinterpretation.\n",
      "  warnings.warn(\n"
     ]
    },
    {
     "data": {
      "text/plain": "<Figure size 432x432 with 3 Axes>",
      "image/png": "[encoded data removed]"
     },
     "metadata": {
      "needs_background": "light"
     },
     "output_type": "display_data"
    },
    {
     "name": "stdout",
     "output_type": "stream",
     "text": [
      "Number of pariticpants:26\n",
      "p-value based on the predstat function(one-sided):0.09594888218625638\n",
      "r2 based on the predstat function:0.06988018680807521\n",
      "Observed pearson R: 0.26\n",
      "and the corresponding p-value: 0.19\n",
      "p-value based on permutation test: 0.0921908\n"
     ]
    }
   ],
   "source": [
    "pathtovalidationsmpl_1=\"C:/Users/lenov/PycharmProjects/paintone_rsn/data_in/validation_smpl1/\"\n",
    "vs1_dict_subjID_idx = load_subjectiid(pathtovalidationsmpl_1+'subjectsIDs.txt')\n",
    "vs1_subjID_idx_incl, subjID_idx_excl,motioninf_curr = exclusion(pathtovalidationsmpl_1+'motion_summary.csv',\n",
    "                                             dict_subjID_idx=vs1_dict_subjID_idx,\n",
    "                                             excl_subj=[5,32]) #8,17,20,24,26,\n",
    "# 5-felt asleep during the scan,but he is removed anyway bc of motion\n",
    "# 32-incidental finding, registration does not work well\n",
    "timeseries_vs1, \\\n",
    "labels, \\\n",
    "loadedsubjpath, \\\n",
    "vectorizedlabels, \\\n",
    "listoflabelpairs = load_timeseries(pathtovalidationsmpl_1+'regional_timeseries/',\n",
    "                                   vs1_subjID_idx_incl.values(),\n",
    "                                   fddir=[pathtovalidationsmpl_1+\"calculate_FD_Power/mapflow/\"],\n",
    "                                   numofexlcvolsatthebeg=0)\n",
    "X, cm = connectivity_matrix(timeseries_vs1)\n",
    "\n",
    "vs1_features_scr = pd.DataFrame(X,\n",
    "            columns=(vectorizedlabels),\n",
    "            index = vs1_subjID_idx_incl.keys())\n",
    "\n",
    "# load behavior data which was preprocessed with R\n",
    "vs1_behav = pd.read_csv(pathtovalidationsmpl_1+'validation_smpl1_behav.csv', #allbehavdata.csv',\n",
    "                         index_col=['sub'],\n",
    "                          ).loc[vs1_subjID_idx_incl.keys(),:]\n",
    "\n",
    "vs1_behav['prediction_scr']=m_scr.predict(vs1_features_scr.to_numpy())\n",
    "# vs1_behav['prediction_scr_firstvolsexcl']=m0_scr_first5excl.predict(vs1_features_scr)\n",
    "obsvar='y_valtonelearn_acq'\n",
    "predvar='prediction_scr'\n",
    "dataset=vs1_behav\n",
    "myml.plot_prediction(dataset[obsvar],dataset[predvar])\n",
    "p_value_myml, r_2_myml, residual, regline = myml.pred_stat(dataset[obsvar],\n",
    "                                                           dataset[predvar],robust=False,\n",
    "                                                           regside='greater')\n",
    "print('Number of pariticpants:'+str(len(dataset)))\n",
    "print('p-value based on the predstat function(one-sided):' + str(p_value_myml))\n",
    "print('r2 based on the predstat function:' + str(r_2_myml))\n",
    "print('Observed pearson R: %.2f' % pearsonr(dataset[obsvar],\n",
    "                                            dataset[predvar])[0])\n",
    "print('and the corresponding p-value: %.2f' % pearsonr(dataset[obsvar],\n",
    "                                                       dataset[predvar])[1])\n",
    "\n",
    "\n",
    "p_value_perm = myml.permutation_test(dataset[obsvar],\n",
    "                                dataset[predvar],\n",
    "                           method='approximate',\n",
    "                           func=lambda x, y: np.corrcoef(x,y)[1][0],\n",
    "                           num_rounds=10000,\n",
    "                           seed=0)\n",
    "print('p-value based on permutation test: %.7f' % p_value_perm)"
   ],
   "metadata": {
    "collapsed": false,
    "pycharm": {
     "name": "#%%\n"
    }
   }
  },
  {
   "cell_type": "markdown",
   "source": [
    "# Validation dataset 2"
   ],
   "metadata": {
    "collapsed": false
   }
  },
  {
   "cell_type": "code",
   "execution_count": 7,
   "outputs": [
    {
     "name": "stdout",
     "output_type": "stream",
     "text": [
      "These are the subjects subjectID who were excluded:\tdict_keys([1049, 1092, 1093, 1113, 1117])\n",
      "These are the subjects ordererID who were excluded:\tdict_values([7, 18, 19, 25, 26])\n",
      "These are the subjects subjectID who were included:\tdict_keys([1015, 1022, 1029, 1032, 1037, 1039, 1048, 1053, 1055, 1060, 1066, 1067, 1074, 1076, 1077, 1083, 1089, 1094, 1096, 1097, 1108, 1111, 1118])\n",
      "These are the subjects ordererID who were included:\tdict_values([0, 1, 2, 3, 4, 5, 6, 8, 9, 10, 11, 12, 13, 14, 15, 16, 17, 20, 21, 22, 23, 24, 27])\n",
      "In total we work with\t23\t participants.\n",
      " Check if all the aprticipanst have behavior data!!!!\n",
      "Number of participant excluded based in the motion parameters(FD>0.15,scrubbed percent>25):5\n",
      "this is their subjID \t1049\tand this is thier orderID:\t7\n",
      "this is their subjID \t1092\tand this is thier orderID:\t18\n",
      "this is their subjID \t1093\tand this is thier orderID:\t19\n",
      "this is their subjID \t1113\tand this is thier orderID:\t25\n",
      "this is their subjID \t1117\tand this is thier orderID:\t26\n",
      "These are the participants subjID whose excluded beforehand:\t[]\n",
      "The number of ROIs:7503\n",
      "The current behavior variable set, which was preapred with R\n",
      "Index(['Alter', 'CSVis_A_0', 'CSAud_A_0', 'CSMinus_A_0', 'CSVis_A_1',\n",
      "       'CSAud_A_1', 'CSMinus_A_1', 'CSVis_A_2', 'CSAud_A_2', 'CSMinus_A_2',\n",
      "       'CSVis_E_0', 'CSAud_E_0', 'CSMinus_E_0', 'CSVis_E_1', 'CSAud_E_1',\n",
      "       'CSMinus_E_1', 'CSVis_E_2', 'CSAud_E_2', 'CSMinus_E_2', 'CSVis_R_1',\n",
      "       'CSAud_R_1', 'CSMinus_R_1', 'CSVis_R_2', 'CSAud_R_2', 'CSMinus_R_2'],\n",
      "      dtype='object')\n"
     ]
    },
    {
     "name": "stderr",
     "output_type": "stream",
     "text": [
      "c:\\users\\lenov\\pycharmprojects\\paintone_rsn\\venv\\lib\\site-packages\\seaborn\\_decorators.py:36: FutureWarning: Pass the following variables as keyword args: x, y. From version 0.12, the only valid positional argument will be `data`, and passing other arguments without an explicit keyword will result in an error or misinterpretation.\n",
      "  warnings.warn(\n"
     ]
    },
    {
     "data": {
      "text/plain": "<Figure size 432x432 with 3 Axes>",
      "image/png": "[encoded data removed]"
     },
     "metadata": {
      "needs_background": "light"
     },
     "output_type": "display_data"
    },
    {
     "name": "stdout",
     "output_type": "stream",
     "text": [
      "Number of pariticpants:23\n",
      "p-value based on the predstat function(one-sided):0.25683446924039155\n",
      "r2 based on the predstat function:0.02058714409816771\n",
      "Observed pearson R: 0.14\n",
      "and the corresponding p-value: 0.51\n",
      "p-value based on permutation test: 0.2358764\n"
     ]
    }
   ],
   "source": [
    "pathtovalidationsmpl_2=\"C:/Users/lenov/PycharmProjects/paintone_rsn/data_in/validation_smpl2/\"\n",
    "dict_subjID_idx_vs2 = load_subjectiid(pathtovalidationsmpl_2+'subjectsIDs.txt')\n",
    "subjID_idx_incl_vs2, subjID_idx_excl_vs2, motioninf_vs2 = exclusion(pathtovalidationsmpl_2+'motion_summary.csv',\n",
    "                                             dict_subjID_idx=dict_subjID_idx_vs2,\n",
    "                                             excl_subj=[])\n",
    "# consider removing subj\n",
    "timeseries_vs2, \\\n",
    "labels_vs2, \\\n",
    "loadedsubjpath_vs2, \\\n",
    "vectorizedlabels_vs2, \\\n",
    "listoflabelpairs_vs2 = load_timeseries(pathtovalidationsmpl_2+'regional_timeseries/',\n",
    "                                          subjID_idx_incl_vs2.values(),\n",
    "                                          fddir=[pathtovalidationsmpl_2+\"calculate_FD_Power/mapflow/\"],\n",
    "                                          numofexlcvolsatthebeg=0)\n",
    "\n",
    "X_vs2, cm_vs2 = connectivity_matrix(timeseries_vs2)\n",
    "\n",
    "vs2_features_scr= pd.DataFrame(X_vs2,\n",
    "            columns=(vectorizedlabels_vs2),\n",
    "            index = subjID_idx_incl_vs2.keys())\n",
    "\n",
    "\n",
    "vs2_behav = pd.read_csv(pathtovalidationsmpl_2+'validation_smpl2_behav.csv',\n",
    "                         index_col='VPN',\n",
    "                          ).loc[subjID_idx_incl_vs2.keys(),:]\n",
    "print('The current behavior variable set, which was preapred with R')\n",
    "print(vs2_behav.columns)\n",
    "\n",
    "# calculate derived valence rating for all participants.\n",
    "# pain learning based on my definition in acquisition phase\n",
    "vs2_behav['y_valpainlearn_acq']=\\\n",
    "    ((vs2_behav['CSVis_A_2']-vs2_behav['CSVis_A_0'])-\\\n",
    "    (vs2_behav['CSMinus_A_2']-vs2_behav['CSMinus_A_0']))/2\n",
    "vs2_behav['y_valtonelearn_acq']=\\\n",
    "    ((vs2_behav['CSAud_A_2']-vs2_behav['CSAud_A_0'])-\\\n",
    "    (vs2_behav['CSMinus_A_2']-vs2_behav['CSMinus_A_0']))/2\n",
    "#checking this publication(https://www.nature.com/articles/s42003-021-02008-1#Sec9) in which the study 2 is part of Robert's shared data\n",
    "# They had the extinction on a separate day, and they measured valence right before extiction. We can use that as well.\n",
    "vs2_behav['y_valpainlearn_lastacq_ext']=\\\n",
    "    ((vs2_behav['CSVis_E_2']-vs2_behav['CSVis_A_2'])-\\\n",
    "    (vs2_behav['CSMinus_E_2']-vs2_behav['CSMinus_A_2']))/2\n",
    "vs2_behav['y_valtonelearn_lastacq_ext']=\\\n",
    "    ((vs2_behav['CSAud_E_2']-vs2_behav['CSAud_A_2'])-\\\n",
    "    (vs2_behav['CSMinus_E_2']-vs2_behav['CSMinus_A_2']))/2\n",
    "\n",
    "vs2_behav['y_valpainlearn_proper_ext']=\\\n",
    "    ((vs2_behav['CSVis_E_2']-vs2_behav['CSVis_E_0'])-\\\n",
    "    (vs2_behav['CSMinus_E_2']-vs2_behav['CSMinus_E_0']))/2\n",
    "vs2_behav['y_valtonelearn_proper_ext']=\\\n",
    "    ((vs2_behav['CSAud_E_2']-vs2_behav['CSAud_E_0'])-\\\n",
    "    (vs2_behav['CSMinus_E_2']-vs2_behav['CSMinus_E_0']))/2\n",
    "\n",
    "\n",
    "\n",
    "\n",
    "vs2_behav['prediction_scr']=m_scr.predict(vs2_features_scr.to_numpy())\n",
    "\n",
    "obsvar='y_valtonelearn_acq'\n",
    "predvar='prediction_scr'\n",
    "dataset=vs2_behav\n",
    "myml.plot_prediction(dataset[obsvar],dataset[predvar])\n",
    "p_value_myml, r_2_myml, residual, regline = myml.pred_stat(dataset[obsvar],\n",
    "                                                           dataset[predvar],robust=False,\n",
    "                                                           regside='greater')\n",
    "print('Number of pariticpants:'+str(len(dataset)))\n",
    "print('p-value based on the predstat function(one-sided):' + str(p_value_myml))\n",
    "print('r2 based on the predstat function:' + str(r_2_myml))\n",
    "print('Observed pearson R: %.2f' % pearsonr(dataset[obsvar],\n",
    "                                            dataset[predvar])[0])\n",
    "print('and the corresponding p-value: %.2f' % pearsonr(dataset[obsvar],\n",
    "                                                       dataset[predvar])[1])\n",
    "\n",
    "\n",
    "p_value_perm = myml.permutation_test(dataset[obsvar],\n",
    "                                dataset[predvar],\n",
    "                           method='approximate',\n",
    "                           func=lambda x, y: np.corrcoef(x,y)[1][0],\n",
    "                           num_rounds=10000,\n",
    "                           seed=0)\n",
    "print('p-value based on permutation test: %.7f' % p_value_perm)"
   ],
   "metadata": {
    "collapsed": false,
    "pycharm": {
     "name": "#%%\n"
    }
   }
  },
  {
   "cell_type": "code",
   "execution_count": null,
   "outputs": [],
   "source": [],
   "metadata": {
    "collapsed": false,
    "pycharm": {
     "name": "#%%\n"
    }
   }
  }
 ],
 "metadata": {
  "kernelspec": {
   "display_name": "Python 3",
   "language": "python",
   "name": "python3"
  },
  "language_info": {
   "codemirror_mode": {
    "name": "ipython",
    "version": 2
   },
   "file_extension": ".py",
   "mimetype": "text/x-python",
   "name": "python",
   "nbconvert_exporter": "python",
   "pygments_lexer": "ipython2",
   "version": "2.7.6"
  }
 },
 "nbformat": 4,
 "nbformat_minor": 0
}