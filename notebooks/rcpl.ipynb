{
 "cells": [
  {
   "cell_type": "markdown",
   "source": [
    "# 1st - the development of the RCPL model."
   ],
   "metadata": {
    "collapsed": false,
    "pycharm": {
     "name": "#%% md\n"
    }
   }
  },
  {
   "cell_type": "code",
   "execution_count": 25,
   "outputs": [],
   "source": [
    "import pandas as pd\n",
    "from paintone_rsn.data_loading import load_subjectiid, exclusion, load_timeseries\n",
    "from paintone_rsn.data_preproc import connectivity_matrix, connectivitylabelname\n",
    "import paintone_rsn.mlfunctions as myml\n",
    "import pickle"
   ],
   "metadata": {
    "collapsed": false,
    "pycharm": {
     "name": "#%%\n"
    }
   }
  },
  {
   "cell_type": "code",
   "execution_count": 14,
   "outputs": [],
   "source": [
    "import sys\n",
    "import importlib\n"
   ],
   "metadata": {
    "collapsed": false,
    "pycharm": {
     "name": "#%%\n"
    }
   }
  },
  {
   "cell_type": "code",
   "execution_count": 23,
   "outputs": [
    {
     "data": {
      "text/plain": "<module 'paintone_rsn.data_loading' from 'C:\\\\Users\\\\lenov\\\\PycharmProjects\\\\paintone_rsn\\\\paintone_rsn\\\\data_loading.py'>"
     },
     "execution_count": 23,
     "metadata": {},
     "output_type": "execute_result"
    }
   ],
   "source": [
    "importlib.reload(sys.modules['paintone_rsn.data_loading'])"
   ],
   "metadata": {
    "collapsed": false,
    "pycharm": {
     "name": "#%%\n"
    }
   }
  },
  {
   "cell_type": "markdown",
   "metadata": {
    "collapsed": true,
    "pycharm": {
     "name": "#%% md\n"
    }
   },
   "source": [
    "## We work with the output of the RPN-signature (see https://spisakt.github.io/RPN-signature/ for details).\n",
    "### We called it in the following way:\n",
    "sudo docker run -it --rm -v .../A_data_mri/:/data:ro -v .../rpnresult/:/out tspisak/rpn-signature:latest /data /out participant --keep_all --keep_derivatives --mem_gb 20 --nthreads 10\n",
    "### We work with the following outputs:\n",
    "1. timeseries folder - contains all the participants' time series data from the MIST122 atlas (https://mniopenresearch.org/articles/1-3) (ROIs are columns).\n",
    "2. motion_summary.csv - the motion summary statistics (mean framewise displacement(FD),\tmedian FD, maximum FD, scrubbed percent (perc_scrubbed))\n",
    "3. subjectIDs.txt - The mapping between the study subject ID and the ID in the output of the RPN-signature.\n",
    "4. individual \"volume-wise\" motion parameters for scrubbing."
   ]
  },
  {
   "cell_type": "markdown",
   "source": [
    "# Train the model and save it for further use\n",
    "- Load the behavior data\n",
    "- Load timeseries and do the scrubbing in the same step\n",
    "- Calculate individual connectivity matricies\n",
    "- Train the model"
   ],
   "metadata": {
    "collapsed": false
   }
  },
  {
   "cell_type": "code",
   "execution_count": 2,
   "outputs": [
    {
     "data": {
      "text/plain": "Index(['meanFD', 'medianFD', 'maxFD', 'perc_scrubbed', 'age', 'fear_of_pain',\n       'fear_of_tone', 'diff_fear', 'hpt', 'tt', 'y_valpainlearn_acq',\n       'y_valtonelearn_acq', 'y_valpainlearn_ext', 'y_valtonelearn_ext',\n       'y_paincont_acq', 'y_tonecont_acq', 'y_safetycont_acq',\n       'y_paincont_ext', 'y_tonecont_ext', 'y_safetycont_ext',\n       'hab_UCS_pain_vas', 'hab_UCS_tone_vas', 'PASS_D1', 'PASS_D2', 'PASS_D3',\n       'PASS_D4', 'PCS', 'ADS', 'rcpl_score'],\n      dtype='object')"
     },
     "execution_count": 2,
     "metadata": {},
     "output_type": "execute_result"
    }
   ],
   "source": [
    "# load behavior variables for the discovery sample\n",
    "pathtodiscoversmpl=\"C:/Users/lenov/PycharmProjects/paintone_rsn/data_in/discovery_smpl/\"\n",
    "discovery_behav = pd.read_pickle(\"C:/Users/lenov/PycharmProjects/paintone_rsn/data_in/discovery_smpl/discovery_smpl_behav.pkl\")\n",
    "discovery_behav.columns\n"
   ],
   "metadata": {
    "collapsed": false,
    "pycharm": {
     "name": "#%%\n"
    }
   }
  },
  {
   "cell_type": "code",
   "execution_count": 26,
   "outputs": [
    {
     "name": "stdout",
     "output_type": "stream",
     "text": [
      "These are the subjects subjectID who were excluded:\tdict_keys([4, 7, 8, 14, 16, 18, 22, 24, 25, 29, 36, 43, 44])\n",
      "These are the subjects ordererID who were excluded:\tdict_values([1, 3, 4, 7, 9, 11, 15, 17, 18, 21, 26, 33, 34])\n",
      "These are the subjects subjectID who were included:\tdict_keys([3, 5, 9, 12, 15, 17, 19, 20, 21, 23, 27, 28, 32, 33, 34, 35, 37, 38, 39, 40, 41, 42, 45, 46, 47])\n",
      "These are the subjects ordererID who were included:\tdict_values([0, 2, 5, 6, 8, 10, 12, 13, 14, 16, 19, 20, 22, 23, 24, 25, 27, 28, 29, 30, 31, 32, 35, 36, 37])\n",
      "In total we work with\t25\t participants.\n",
      " Check if all the aprticipanst have behavior data!!!!\n",
      "Number of participant excluded based in the motion parameters(FD>0.15,scrubbed percent>25):11\n",
      "this is their subjID \t4\tand this is thier orderID:\t1\n",
      "this is their subjID \t7\tand this is thier orderID:\t3\n",
      "this is their subjID \t8\tand this is thier orderID:\t4\n",
      "this is their subjID \t14\tand this is thier orderID:\t7\n",
      "this is their subjID \t16\tand this is thier orderID:\t9\n",
      "this is their subjID \t18\tand this is thier orderID:\t11\n",
      "this is their subjID \t22\tand this is thier orderID:\t15\n",
      "this is their subjID \t24\tand this is thier orderID:\t17\n",
      "this is their subjID \t25\tand this is thier orderID:\t18\n",
      "this is their subjID \t29\tand this is thier orderID:\t21\n",
      "this is their subjID \t36\tand this is thier orderID:\t26\n",
      "this is their subjID \t43\tand this is thier orderID:\t33\n",
      "this is their subjID \t44\tand this is thier orderID:\t34\n",
      "These are the participants subjID whose excluded beforehand:\t[8, 18, 31]\n",
      "The number of ROIs:7503\n"
     ]
    }
   ],
   "source": [
    "# load included subjects' timeseries\n",
    "s0_dict_subjID_idx = load_subjectiid(pathtodiscoversmpl+'subjectsIDs.txt')\n",
    "s0_subjID_idx_incl, s0_subjID_idx_excl,s0_motioninf_curr = exclusion(pathtodiscoversmpl+'motion_summary.csv',\n",
    "                                             dict_subjID_idx=s0_dict_subjID_idx,\n",
    "                                             excl_subj=[8,18,31])\n",
    "# Reason of exclusion\n",
    "# -subj 8 felt asleep in the scanner\n",
    "# -subj 18 - missing behavior data\n",
    "# -subj 31 - missing mri data\n",
    "timeseries_s0,\\\n",
    "labels,\\\n",
    "loadedsubjpath,\\\n",
    "vectorizedlabels,\\\n",
    "listoflabelpairs = load_timeseries(pathtodiscoversmpl+'regional_timeseries/',\n",
    "                                   s0_subjID_idx_incl.values(),\n",
    "                                   fddir=[pathtodiscoversmpl+\"calculate_FD_Power/mapflow/\"],\n",
    "                                   numofexlcvolsatthebeg=0)\n",
    "#calculate the connectivity matrix based on the timeseries and vectorize them\n",
    "X, cm = connectivity_matrix(timeseries_s0)\n",
    "\n",
    "# convert the connectivity matrix to a pandsa dataframe\n",
    "s0_features_scr = pd.DataFrame(X,\n",
    "            columns=(vectorizedlabels),\n",
    "            index = s0_subjID_idx_incl.keys())\n"
   ],
   "metadata": {
    "collapsed": false,
    "pycharm": {
     "name": "#%%\n"
    }
   }
  },
  {
   "cell_type": "code",
   "execution_count": 6,
   "outputs": [
    {
     "name": "stdout",
     "output_type": "stream",
     "text": [
      "**** Non-nested analysis ****\n",
      "** Best hyperparameters: {'fsel__k': 10, 'model__alpha': 0.001}\n",
      "** Score on full data as training set:\t-16.989490769596067\n",
      "** Score on mean as model: -543.4399999999999\n",
      "** Best Non-nested cross-validated score on test:\t-237.03589637349822\n",
      "XXXXX Explained Variance: 0.5638232438291289\n",
      "**** Nested analysis ****\n",
      "model\tinner_cv mean score\touter vc score\n",
      "{'fsel__k': 25, 'model__alpha': 0.005} -381.1783053616876 -628.6243229376777\n",
      "{'fsel__k': 15, 'model__alpha': 0.005} -329.05634081012255 -102.36716308273698\n",
      "{'fsel__k': 30, 'model__alpha': 0.001} -398.00867623613993 -86.32871671449912\n",
      "{'fsel__k': 30, 'model__alpha': 0.001} -309.2616407895084 -527.8255951586028\n",
      "{'fsel__k': 15, 'model__alpha': 0.001} -255.30721619082132 -18.75353708014942\n",
      "{'fsel__k': 45, 'model__alpha': 0.001} -454.9948917771312 -224.8032101852697\n",
      "{'fsel__k': 10, 'model__alpha': 0.001} -240.1957213814061 -150.81217413927052\n",
      "{'fsel__k': 20, 'model__alpha': 0.001} -379.67507583902426 -0.42152468492437967\n",
      "{'fsel__k': 20, 'model__alpha': 0.005} -293.1803304907504 -597.3717316190885\n",
      "{'fsel__k': 50, 'model__alpha': 0.001} -408.0673765987464 -0.6997768317783228\n",
      "{'fsel__k': 15, 'model__alpha': 0.005} -343.97509095497816 -0.40833410654829355\n",
      "{'fsel__k': 25, 'model__alpha': 0.001} -250.98606272251905 -675.8327138190467\n",
      "{'fsel__k': 35, 'model__alpha': 0.001} -296.2678355718479 -64.41652299404218\n",
      "{'fsel__k': 30, 'model__alpha': 0.001} -268.9367032209054 -185.16312453821686\n",
      "{'fsel__k': 15, 'model__alpha': 0.005} -250.64827021488085 -329.9243780082198\n",
      "{'fsel__k': 35, 'model__alpha': 0.001} -338.9611631728398 -42.481555152311394\n",
      "{'fsel__k': 15, 'model__alpha': 0.001} -265.4695569106406 -224.49363012690057\n",
      "{'fsel__k': 20, 'model__alpha': 0.01} -371.21893780035316 -741.238314675768\n",
      "{'fsel__k': 55, 'model__alpha': 0.001} -328.71189360715283 -512.6749191430024\n",
      "{'fsel__k': 15, 'model__alpha': 0.001} -354.3237926168601 -22.15412132750547\n",
      "{'fsel__k': 20, 'model__alpha': 0.005} -357.0314626120285 -588.030205250439\n",
      "{'fsel__k': 15, 'model__alpha': 0.001} -377.76334838421513 -93.2563852086716\n",
      "{'fsel__k': 35, 'model__alpha': 0.01} -439.40063279460907 -560.3325205286615\n",
      "{'fsel__k': 40, 'model__alpha': 0.001} -319.88383596833256 -874.3569283559447\n",
      "{'fsel__k': 20, 'model__alpha': 0.001} -320.91471690634535 -509.73024553333806\n",
      "*** Score on mean as model:\t-543.4399999999999\n",
      "** Mean score in the inner crossvaludation (inner_cv):\t-333.33675515735393\n",
      "** Mean Nested Crossvalidation Score (outer_cv):\t-310.5000660481046\n",
      "Explained Variance: 0.42863965470317855\n",
      "Correlation: 0.7170195308964925\n"
     ]
    },
    {
     "name": "stderr",
     "output_type": "stream",
     "text": [
      "c:\\users\\lenov\\pycharmprojects\\paintone_rsn\\venv\\lib\\site-packages\\numpy\\core\\fromnumeric.py:3440: RuntimeWarning: Mean of empty slice.\n",
      "  return _methods._mean(a, axis=axis, dtype=dtype,\n",
      "c:\\users\\lenov\\pycharmprojects\\paintone_rsn\\venv\\lib\\site-packages\\numpy\\core\\_methods.py:189: RuntimeWarning: invalid value encountered in double_scalars\n",
      "  ret = ret.dtype.type(ret / rcount)\n"
     ]
    },
    {
     "data": {
      "text/plain": "<Figure size 432x288 with 1 Axes>",
      "image/png": "[encoded data removed]"
     },
     "metadata": {
      "needs_background": "light"
     },
     "output_type": "display_data"
    },
    {
     "name": "stdout",
     "output_type": "stream",
     "text": [
      "R2=0.640  R=0.800   p=0.000002  Expl. Var.: 56.4%  Expl. Var.2: 56.5%  MSE=237.036 RMSE=15.396  MAE=11.410 MedAE=9.724  R^2=0.564\n"
     ]
    },
    {
     "name": "stderr",
     "output_type": "stream",
     "text": [
      "c:\\users\\lenov\\pycharmprojects\\paintone_rsn\\venv\\lib\\site-packages\\seaborn\\_decorators.py:36: FutureWarning: Pass the following variables as keyword args: x, y. From version 0.12, the only valid positional argument will be `data`, and passing other arguments without an explicit keyword will result in an error or misinterpretation.\n",
      "  warnings.warn(\n"
     ]
    },
    {
     "data": {
      "text/plain": "<Figure size 432x432 with 3 Axes>",
      "image/png": "[encoded data removed]"
     },
     "metadata": {
      "needs_background": "light"
     },
     "output_type": "display_data"
    }
   ],
   "source": [
    "y_reg = discovery_behav['y_valpainlearn_acq'].to_numpy()\n",
    "X_reg = s0_features_scr.to_numpy() #s0_features\n",
    "mymodel, p_grid = myml.pipe_scale_fsel_ridge_noscaler()\n",
    "m_scr, m_scr_predictedval, m0_scr_all_models, m0_scr_mycrossval, m0_scr_myfig, m0_scr_explvar, m0_scr_predicted = \\\n",
    "    myml.mytrain(X_reg,\n",
    "                        y_reg,\n",
    "                        mymodel,\n",
    "                        p_grid, nested=True)\n",
    "myprediction = myml.evaluate_crossval_prediction(m_scr,X_reg, y_reg,outfile=[])\n",
    "discovery_behav['rcpl_score']=m_scr_predictedval"
   ],
   "metadata": {
    "collapsed": false,
    "pycharm": {
     "name": "#%%\n"
    }
   }
  },
  {
   "cell_type": "code",
   "execution_count": 5,
   "outputs": [],
   "source": [
    "# saving the model for further use\n",
    "filename = 'C:/Users/lenov/PycharmProjects/paintone_rsn/data_out/final_model_M1.sav'\n",
    "pickle.dump(m_scr, open(filename, 'wb'))"
   ],
   "metadata": {
    "collapsed": false,
    "pycharm": {
     "name": "#%%\n"
    }
   }
  },
  {
   "cell_type": "code",
   "execution_count": 7,
   "outputs": [],
   "source": [
    "#saving the behavior for further use(now it includes the rcpl score)\n",
    "filename = 'C:/Users/lenov/PycharmProjects/paintone_rsn/data_in/discovery_smpl/discovery_smpl_behav.pkl'\n",
    "pickle.dump(discovery_behav, open(filename, 'wb'))"
   ],
   "metadata": {
    "collapsed": false,
    "pycharm": {
     "name": "#%%\n"
    }
   }
  },
  {
   "cell_type": "code",
   "execution_count": 8,
   "outputs": [
    {
     "name": "stdout",
     "output_type": "stream",
     "text": [
      "the total number of predictive connections:10\n",
      "['POsul_v', 'SPlob.1']\n",
      "['L_IPlob.1', 'IMsul']\n"
     ]
    },
    {
     "data": {
      "text/plain": "                    conn   strenght  \\\n1     [L_DVIS_v, R_PORB] -92.657756   \n4  [PINS_v, L_MOTnet_dl]  84.359578   \n8     [CER5, MVISnet_ad] -80.804677   \n3         [DVIS_vl, AMY] -79.285258   \n7    [PUT_p, PVISnet_dm] -49.246654   \n5     [L_IPlob.1, IMsul]  48.375171   \n2      [CER7b_m, COLsul]  43.246548   \n0     [POsul_v, SPlob.1]  38.644228   \n9  [AINS_ad, LVISnet_DP] -30.534563   \n6    [DMPFC_ar, STgyr_m]   6.769029   \n\n                                        region1  roival_region1  \\\n1             left_DORSAL_VISUAL_STREAM_ventral            50.0   \n4                      POSTERIOR_INSULA_ventral            21.0   \n8                                CEREBELLUM_I-V            48.0   \n3            DORSAL_VISUAL_STREAM_ventrolateral           100.0   \n7                             PUTAMEN_posterior            25.0   \n5                 left_INFERIOR_PARIETAL_LOBULE           114.0   \n2                        CEREBELLUM_VIIb_medial            18.0   \n0              PARIETO_OCCIPITAL_SULCUS_ventral            72.0   \n9                 ANTERIOR_INSULA_anteroodorsal            85.0   \n6  DORSOMEDIAL_PREFRONTAL_CORTEX_anterororstral            87.0   \n\n   mainparent_region1                             mainparentname_region1  \\\n1                 6.0      FRONTO_PARIETAL_NETWORK_and_VISUAL_DOWNSTREAM   \n4                 2.0                                 MESOLIMBIC_NETWORK   \n8                 1.0                                         CEREBELLUM   \n3                 6.0      FRONTO_PARIETAL_NETWORK_and_VISUAL_DOWNSTREAM   \n7                 7.0  VENTRAL_ATTENTION_NETWORK_and_SALIENCE_NETWORK...   \n5                 5.0                               DEFAULT_MODE_NETWORK   \n2                 1.0                                         CEREBELLUM   \n0                 5.0                             [DEFAULT_MODE_NETWORK]   \n9                 7.0  VENTRAL_ATTENTION_NETWORK_and_SALIENCE_NETWORK...   \n6                 5.0                               DEFAULT_MODE_NETWORK   \n\n                                 region2  roival_region2  mainparent_region2  \\\n1                   right_PARS_ORBITALIS            92.0                 6.0   \n4  left_SOMATOMOTOR_NETWORK_dorsolateral             8.0                 3.0   \n8     MEDIAL_VISUAL_NETWORK_anterodorsal            19.0                 4.0   \n3                               AMYGDALA            71.0                 2.0   \n7   POSTERIOR_VISUAL_NETWORK_dorsomedial            16.0                 4.0   \n5               INFERIOR_MARGINAL_SULCUS           118.0                 7.0   \n2                      COLLATERAL_SULCUS            79.0                 2.0   \n0               SUPERIOR_PARIETAL_LOBULE            76.0                 6.0   \n9  LATERAL_VISUAL_NETWORK_dorsoposterior            43.0                 4.0   \n6         SUPERIOR_TEMPORAL_GYRUS_middle            88.0                 7.0   \n\n                              mainparentname_region2  \n1      FRONTO_PARIETAL_NETWORK_and_VISUAL_DOWNSTREAM  \n4                                SOMATOMOTOR_NETWORK  \n8                                     VISUAL_NETWORK  \n3                                 MESOLIMBIC_NETWORK  \n7                                     VISUAL_NETWORK  \n5  VENTRAL_ATTENTION_NETWORK_and_SALIENCE_NETWORK...  \n2                                 MESOLIMBIC_NETWORK  \n0    [FRONTO_PARIETAL_NETWORK_and_VISUAL_DOWNSTREAM]  \n9                                     VISUAL_NETWORK  \n6  VENTRAL_ATTENTION_NETWORK_and_SALIENCE_NETWORK...  ",
      "text/html": "<div>\n<style scoped>\n    .dataframe tbody tr th:only-of-type {\n        vertical-align: middle;\n    }\n\n    .dataframe tbody tr th {\n        vertical-align: top;\n    }\n\n    .dataframe thead th {\n        text-align: right;\n    }\n</style>\n<table border=\"1\" class=\"dataframe\">\n  <thead>\n    <tr style=\"text-align: right;\">\n      <th></th>\n      <th>conn</th>\n      <th>strenght</th>\n      <th>region1</th>\n      <th>roival_region1</th>\n      <th>mainparent_region1</th>\n      <th>mainparentname_region1</th>\n      <th>region2</th>\n      <th>roival_region2</th>\n      <th>mainparent_region2</th>\n      <th>mainparentname_region2</th>\n    </tr>\n  </thead>\n  <tbody>\n    <tr>\n      <th>1</th>\n      <td>[L_DVIS_v, R_PORB]</td>\n      <td>-92.657756</td>\n      <td>left_DORSAL_VISUAL_STREAM_ventral</td>\n      <td>50.0</td>\n      <td>6.0</td>\n      <td>FRONTO_PARIETAL_NETWORK_and_VISUAL_DOWNSTREAM</td>\n      <td>right_PARS_ORBITALIS</td>\n      <td>92.0</td>\n      <td>6.0</td>\n      <td>FRONTO_PARIETAL_NETWORK_and_VISUAL_DOWNSTREAM</td>\n    </tr>\n    <tr>\n      <th>4</th>\n      <td>[PINS_v, L_MOTnet_dl]</td>\n      <td>84.359578</td>\n      <td>POSTERIOR_INSULA_ventral</td>\n      <td>21.0</td>\n      <td>2.0</td>\n      <td>MESOLIMBIC_NETWORK</td>\n      <td>left_SOMATOMOTOR_NETWORK_dorsolateral</td>\n      <td>8.0</td>\n      <td>3.0</td>\n      <td>SOMATOMOTOR_NETWORK</td>\n    </tr>\n    <tr>\n      <th>8</th>\n      <td>[CER5, MVISnet_ad]</td>\n      <td>-80.804677</td>\n      <td>CEREBELLUM_I-V</td>\n      <td>48.0</td>\n      <td>1.0</td>\n      <td>CEREBELLUM</td>\n      <td>MEDIAL_VISUAL_NETWORK_anterodorsal</td>\n      <td>19.0</td>\n      <td>4.0</td>\n      <td>VISUAL_NETWORK</td>\n    </tr>\n    <tr>\n      <th>3</th>\n      <td>[DVIS_vl, AMY]</td>\n      <td>-79.285258</td>\n      <td>DORSAL_VISUAL_STREAM_ventrolateral</td>\n      <td>100.0</td>\n      <td>6.0</td>\n      <td>FRONTO_PARIETAL_NETWORK_and_VISUAL_DOWNSTREAM</td>\n      <td>AMYGDALA</td>\n      <td>71.0</td>\n      <td>2.0</td>\n      <td>MESOLIMBIC_NETWORK</td>\n    </tr>\n    <tr>\n      <th>7</th>\n      <td>[PUT_p, PVISnet_dm]</td>\n      <td>-49.246654</td>\n      <td>PUTAMEN_posterior</td>\n      <td>25.0</td>\n      <td>7.0</td>\n      <td>VENTRAL_ATTENTION_NETWORK_and_SALIENCE_NETWORK...</td>\n      <td>POSTERIOR_VISUAL_NETWORK_dorsomedial</td>\n      <td>16.0</td>\n      <td>4.0</td>\n      <td>VISUAL_NETWORK</td>\n    </tr>\n    <tr>\n      <th>5</th>\n      <td>[L_IPlob.1, IMsul]</td>\n      <td>48.375171</td>\n      <td>left_INFERIOR_PARIETAL_LOBULE</td>\n      <td>114.0</td>\n      <td>5.0</td>\n      <td>DEFAULT_MODE_NETWORK</td>\n      <td>INFERIOR_MARGINAL_SULCUS</td>\n      <td>118.0</td>\n      <td>7.0</td>\n      <td>VENTRAL_ATTENTION_NETWORK_and_SALIENCE_NETWORK...</td>\n    </tr>\n    <tr>\n      <th>2</th>\n      <td>[CER7b_m, COLsul]</td>\n      <td>43.246548</td>\n      <td>CEREBELLUM_VIIb_medial</td>\n      <td>18.0</td>\n      <td>1.0</td>\n      <td>CEREBELLUM</td>\n      <td>COLLATERAL_SULCUS</td>\n      <td>79.0</td>\n      <td>2.0</td>\n      <td>MESOLIMBIC_NETWORK</td>\n    </tr>\n    <tr>\n      <th>0</th>\n      <td>[POsul_v, SPlob.1]</td>\n      <td>38.644228</td>\n      <td>PARIETO_OCCIPITAL_SULCUS_ventral</td>\n      <td>72.0</td>\n      <td>5.0</td>\n      <td>[DEFAULT_MODE_NETWORK]</td>\n      <td>SUPERIOR_PARIETAL_LOBULE</td>\n      <td>76.0</td>\n      <td>6.0</td>\n      <td>[FRONTO_PARIETAL_NETWORK_and_VISUAL_DOWNSTREAM]</td>\n    </tr>\n    <tr>\n      <th>9</th>\n      <td>[AINS_ad, LVISnet_DP]</td>\n      <td>-30.534563</td>\n      <td>ANTERIOR_INSULA_anteroodorsal</td>\n      <td>85.0</td>\n      <td>7.0</td>\n      <td>VENTRAL_ATTENTION_NETWORK_and_SALIENCE_NETWORK...</td>\n      <td>LATERAL_VISUAL_NETWORK_dorsoposterior</td>\n      <td>43.0</td>\n      <td>4.0</td>\n      <td>VISUAL_NETWORK</td>\n    </tr>\n    <tr>\n      <th>6</th>\n      <td>[DMPFC_ar, STgyr_m]</td>\n      <td>6.769029</td>\n      <td>DORSOMEDIAL_PREFRONTAL_CORTEX_anterororstral</td>\n      <td>87.0</td>\n      <td>5.0</td>\n      <td>DEFAULT_MODE_NETWORK</td>\n      <td>SUPERIOR_TEMPORAL_GYRUS_middle</td>\n      <td>88.0</td>\n      <td>7.0</td>\n      <td>VENTRAL_ATTENTION_NETWORK_and_SALIENCE_NETWORK...</td>\n    </tr>\n  </tbody>\n</table>\n</div>"
     },
     "execution_count": 8,
     "metadata": {},
     "output_type": "execute_result"
    }
   ],
   "source": [
    "# show the connections in table format\n",
    "connectivitylabelname(m_scr,listoflabelpairs)\n"
   ],
   "metadata": {
    "collapsed": false,
    "pycharm": {
     "name": "#%%\n"
    }
   }
  }
 ],
 "metadata": {
  "kernelspec": {
   "display_name": "Python 3",
   "language": "python",
   "name": "python3"
  },
  "language_info": {
   "codemirror_mode": {
    "name": "ipython",
    "version": 2
   },
   "file_extension": ".py",
   "mimetype": "text/x-python",
   "name": "python",
   "nbconvert_exporter": "python",
   "pygments_lexer": "ipython2",
   "version": "2.7.6"
  }
 },
 "nbformat": 4,
 "nbformat_minor": 0
}