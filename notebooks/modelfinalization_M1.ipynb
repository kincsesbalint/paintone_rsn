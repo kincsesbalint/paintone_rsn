{
 "cells": [
  {
   "cell_type": "code",
   "execution_count": 70,
   "metadata": {
    "collapsed": true
   },
   "outputs": [],
   "source": [
    "# import necessary packages\n",
    "import os\n",
    "import seaborn as sns\n",
    "import pandas as pd\n",
    "import pingouin as pg\n",
    "import numpy as np\n",
    "from tqdm import tqdm\n",
    "from IPython.display import display\n",
    "from random import choices\n",
    "import pickle\n",
    "\n",
    "import scipy.stats as st\n",
    "from scipy import stats\n",
    "import statsmodels.api as sm\n",
    "import matplotlib.pyplot as plt\n",
    "from mlxtend.evaluate import permutation_test\n",
    "from matplotlib.colors import ListedColormap\n",
    "\n",
    "from nilearn.connectome import ConnectivityMeasure\n",
    "\n",
    "from sklearn.preprocessing import StandardScaler, RobustScaler\n",
    "from sklearn.covariance import LedoitWolf, EmpiricalCovariance\n",
    "from sklearn.model_selection import cross_val_score, cross_validate, cross_val_predict, GridSearchCV, LeaveOneOut, KFold\n",
    "from sklearn.linear_model import Ridge, RidgeCV, ElasticNet, ElasticNetCV, LinearRegression\n",
    "from sklearn.feature_selection import SelectKBest, f_regression\n",
    "from sklearn.pipeline import Pipeline\n",
    "from sklearn.metrics import mean_squared_error, mean_absolute_error, median_absolute_error, r2_score, explained_variance_score"
   ]
  },
  {
   "cell_type": "code",
   "execution_count": 51,
   "outputs": [],
   "source": [
    "# here are the functions which we use later\n",
    "def load_timeseries_roi(ts_files,subjid_kept,keepgs=True,standardise=True):\n",
    "    timeseries = []\n",
    "    perc_scrubbed = []\n",
    "    loadedsubjpath = []\n",
    "    for i, f in enumerate(ts_files):\n",
    "\n",
    "        if i in subjid_kept:\n",
    "            print('This is the ordered ID of our included participant:' + str(i)+'\\nthis is the file what we read in:\\n' + f)\n",
    "            print('-'*65)\n",
    "\n",
    "            if keepgs:\n",
    "                ts = pd.read_csv(f, sep=\"\\t\") #keep the global signal\n",
    "                labels = pd.read_csv(ts_files[0], sep=\"\\t\").columns\n",
    "            else:\n",
    "                ts = pd.read_csv(f, sep=\"\\t\").drop('GlobSig', 1).values # delet the global signal\n",
    "                labels = pd.read_csv(ts_files[0], sep=\"\\t\").columns[1:]\n",
    "            ts_pd=pd.DataFrame(ts)\n",
    "            loadedsubjpath.append(f)\n",
    "        # standardise timeseries\n",
    "            if standardise:\n",
    "                ts = StandardScaler().fit_transform(ts)\n",
    "            else:\n",
    "                ts = np.array(ts)\n",
    "\n",
    "            timeseries.append(ts)\n",
    "        else:\n",
    "            print('We do not include participant with:\\t'+str(i)+'\\torderedID\\n who has the following path:'+f)\n",
    "            print('-'*65)\n",
    "\n",
    "    labels = pd.read_csv(ts_files[0], sep=\"\\t\").columns\n",
    "    return timeseries, labels, ts_pd, loadedsubjpath\n",
    "\n",
    "def connectivity_matrix(timeseries, roilabelid,kind='partial correlation',vect=True,allroi=True,covest=LedoitWolf()):\n",
    "    # timeseries: as output by load_timeseries\n",
    "    correlation_measure = ConnectivityMeasure(kind=kind, vectorize=vect, discard_diagonal=True)\n",
    "    correlation_measure.cov_estimator = covest\n",
    "    if allroi:\n",
    "        correlation_matrix = correlation_measure.fit_transform(timeseries)\n",
    "        print('we calculated the ',kind, 'between allroi.')\n",
    "    else:\n",
    "        templist=list()\n",
    "        for i in range(0,len(timeseries)):\n",
    "            timeseries[i] = timeseries[i][:,roilabelid]\n",
    "\n",
    "        correlation_matrix = correlation_measure.fit_transform(timeseries)\n",
    "    return correlation_matrix, correlation_measure\n",
    "\n",
    "def pipe_scale_fsel_ridge_noscaler( fsel=SelectKBest(f_regression),\n",
    "                          model=Ridge(max_iter=100000),\n",
    "                        #p_grid = {'fsel__k': [20, 25, 30, 35, 40, 45, 50, 60, 70, 80], 'model__alpha': [.001, .005, .01, .05, .1, .5]} # for fast re-calculation\n",
    "                        p_grid = {'fsel__k': np.linspace(10, 200, 39,dtype=int), 'model__alpha': [.001, .005, .01, .05, .1, .5, 1, 10]} # exhaustive, takes a lot of time\n",
    "                          ):\n",
    "    mymodel = Pipeline(\n",
    "        [ ('fsel', fsel),\n",
    "         ('model', model)])\n",
    "    return mymodel, p_grid\n",
    "\n",
    "def mytrain(X, y, model, p_grid, nested=False, score=\"neg_mean_squared_error\",model_averaging=True ):\n",
    "\n",
    "    inner_cv = LeaveOneOut()\n",
    "    outer_cv = LeaveOneOut() #KFold(n_splits=10)\n",
    "    predicted = np.array([])\n",
    "\n",
    "    clf = GridSearchCV(estimator=model, param_grid=p_grid, cv=inner_cv,\n",
    "                       scoring=score, verbose=False, return_train_score=False, n_jobs=10,refit=True)\n",
    "                      #pre_dispatch=6)\n",
    "    clf.fit(X, y)\n",
    "\n",
    "    print(\"**** Non-nested analysis ****\")\n",
    "    print (\"** Best hyperparameters: \" + str(clf.best_params_))\n",
    "\n",
    "    print (\"** Score on full data as training set:\\t\" + str(-mean_squared_error(y_pred=clf.best_estimator_.predict(X), y_true=y)))\n",
    "    print( \"** Score on mean as model: \" + str(-mean_squared_error(np.repeat(y.mean(), len(y)), y)))\n",
    "    print (\"** Best Non-nested cross-validated score on test:\\t\" + str(clf.best_score_))\n",
    "\n",
    "    model=clf.best_estimator_\n",
    "\n",
    "    print(\"XXXXX Explained Variance: \" + str(1 - clf.best_score_ / -mean_squared_error(np.repeat(y.mean(), len(y)), y)))\n",
    "\n",
    "    avg_model = None\n",
    "    all_models = []\n",
    "    if nested:\n",
    "        print (\"**** Nested analysis ****\")\n",
    "\n",
    "        #nested_scores = cross_val_score(clf, X, y, cv=outer_cv, scoring=\"explained_variance\")\n",
    "        #print \"** Nested Score on test:\\t\" + str(nested_scores.mean())\n",
    "        # this above has the same output as this below:\n",
    "\n",
    "        best_params = []\n",
    "        predicted = np.zeros(len(y))\n",
    "        actual = np.zeros(len(y))\n",
    "        nested_scores_train = np.zeros(outer_cv.get_n_splits(X))\n",
    "        nested_scores_test = np.zeros(outer_cv.get_n_splits(X))\n",
    "        nested_scores_test2 = np.zeros(outer_cv.get_n_splits(X))\n",
    "        i = 0\n",
    "        avg = []\n",
    "        # doing the crossval itewrations manually\n",
    "        print (\"model\\tinner_cv mean score\\touter vc score\")\n",
    "        for train, test in outer_cv.split(X, y):\n",
    "            clf.fit(X[train], y[train])\n",
    "\n",
    "            # model avaraging\n",
    "            #RES, mat, labels = get_full_coef(X[train], clf.best_estimator_, plot=False)\n",
    "            #avg.append(RES)\n",
    "            all_models.append(clf.best_estimator_)\n",
    "            # plot histograms to check distributions\n",
    "            #bins = np.linspace(-1.5, 1.5, 6)\n",
    "            #pyplot.hist(y[train], bins, alpha=0.5, label='train')\n",
    "            #pyplot.hist(y[test], bins, alpha=0.5, label='test')\n",
    "            #pyplot.legend(loc='upper right')\n",
    "            #pyplot.show()\n",
    "\n",
    "            print(str(clf.best_params_) + \" \" + str(clf.best_score_) + \" \" + str(clf.score(X[test], y[test])))\n",
    "            predicted[i] = clf.predict(X[test])\n",
    "            actual[i] = y[test]\n",
    "\n",
    "            best_params.append(clf.best_params_)\n",
    "            nested_scores_train[i] = clf.best_score_\n",
    "            nested_scores_test[i] = clf.score(X[test], y[test])\n",
    "            # clf.score is the same as calculating the score to the prediced values of the test dataset:\n",
    "            #nested_scores_test2[i] = explained_variance_score(y_pred=clf.predict(X[test]), y_true=y[test])\n",
    "            i = i+1\n",
    "\n",
    "        print (\"*** Score on mean as model:\\t\" + str(-mean_squared_error(np.repeat(y.mean(), len(y)), y)))\n",
    "        print (\"** Mean score in the inner crossvaludation (inner_cv):\\t\" + str(nested_scores_train.mean()))\n",
    "        print (\"** Std score in the inner crossvaludation (inner_cv):\\t\" + str(nested_scores_train.std()))\n",
    "        print (\"** Mean Nested Crossvalidation Score (outer_cv):\\t\" + str(nested_scores_test.mean()))\n",
    "        print (\"** Std Nested Crossvalidation Score (outer_cv):\\t\" + str(nested_scores_test.std()))\n",
    "\n",
    "        print (\"Explained Variance: \" +  str( 1- nested_scores_test.mean()/-mean_squared_error(np.repeat(y.mean(), len(y)), y) ))\n",
    "        print (\"Correlation: \" + str(np.corrcoef(actual, predicted)[0,1]))\n",
    "\n",
    "        avg_model = np.mean(np.array(avg), axis=0)\n",
    "\n",
    "        #plot the prediction of the outer cv\n",
    "        fig, ax = plt.subplots()\n",
    "        ax.scatter(actual, predicted, edgecolors=(0, 0, 0))\n",
    "       # ax.plot([y.min(), y.max()],\n",
    "        #           [y.min(), y.max()],\n",
    "         #          'k--',\n",
    "          #         lw=2)\n",
    "        ax.set_xlabel('Observed value')\n",
    "        ax.set_ylabel('Predicted (Nested LOO)')\n",
    "        plt.title(\"Expl. Var.:\" +  str( 1- nested_scores_test.mean()/-mean_squared_error(np.repeat(y.mean(), len(y)), y) ) +\n",
    "        \"\\nCorrelation: \" + str(np.corrcoef(actual, predicted)[0, 1]) )\n",
    "        plt.show()\n",
    "    else:\n",
    "        all_models = [model]\n",
    "        fig = []\n",
    "\n",
    "    model.fit(X, y) # fit to whole data\n",
    "\n",
    "    return model, avg_model, all_models, clf, fig, predicted\n",
    "\n",
    "def evaluate_crossval_prediction(model, X, y, outfile=\"\", cv=LeaveOneOut(), robust=False):\n",
    "    predicted = cross_val_predict(model, X, y, cv=cv)\n",
    "    p_value, r_2, residual, regline = pred_stat(y, predicted, robust=robust)\n",
    "\n",
    "    expl_var = ( 1- (-mean_squared_error(y_pred=predicted, y_true=y)\n",
    "                   /\n",
    "                   -mean_squared_error(np.repeat(y.mean(), len(y)), y) ))*100\n",
    "\n",
    "    print (\"R2=\" + \"{:.3f}\".format(r_2) + \"  R=\" + \"{:.3f}\".format(np.sqrt(r_2)) \\\n",
    "          + \"   p=\" + \"{:.6f}\".format(p_value) + \"  Expl. Var.: \" + \"{:.1f}\".format(expl_var) + \"%\" \\\n",
    "          + \"  Expl. Var.2: \" + \"{:.1f}\".format(explained_variance_score(y_pred=predicted, y_true=y)*100) + \"%\" \\\n",
    "          + \"  MSE=\" + \"{:.3f}\".format(mean_squared_error(y_pred=predicted, y_true=y)) \\\n",
    "          + \" RMSE=\" + \"{:.3f}\".format(np.sqrt(mean_squared_error(y_pred=predicted, y_true=y))) \\\n",
    "          + \"  MAE=\" + \"{:.3f}\".format(mean_absolute_error(y_pred=predicted, y_true=y)) \\\n",
    "          + \" MedAE=\" + \"{:.3f}\".format(median_absolute_error(y_pred=predicted, y_true=y)) \\\n",
    "          + \"  R^2=\" + \"{:.3f}\".format(r2_score(y_pred=predicted, y_true=y)))\n",
    "\n",
    "\n",
    "    plot_prediction(y, predicted, outfile, robust=robust, sd=True,\n",
    "                         text=\"$R2$=\" + \"{:.3f}\".format(r_2) +\n",
    "                              \"  p=\" + \"{:.3f}\".format(p_value) +\n",
    "                              \"  Expl. Var.: \" + \"{:.1f}\".format(expl_var) + \"%\"\n",
    "                         )\n",
    "    return predicted\n",
    "\n",
    "def plot_prediction(observed, predicted, outfile=\"\", covar=[], robust=False, sd=True, text=\"\"):\n",
    "    color = \"black\"\n",
    "    if len(covar):\n",
    "        g = sns.jointplot(observed, predicted, scatter=False, color=color, kind=\"reg\", robust=robust, x_ci=\"sd\", )\n",
    "        plt.scatter(observed, predicted,\n",
    "                    c=covar, cmap=ListedColormap(sns.color_palette([\"#5B5BFF\",\"#D73E68\"])))\n",
    "    else:\n",
    "        g = sns.jointplot(observed, predicted, kind=\"reg\", color=color, robust=robust, x_ci=\"sd\")\n",
    "    #sns.regplot(observed, predicted, color=\"b\", x_bins=10, x_ci=None)\n",
    "\n",
    "\n",
    "\n",
    "    if sd:\n",
    "        xlims=np.array(g.ax_joint.get_xlim())\n",
    "        if robust:\n",
    "            res = sm.RLM(predicted, sm.add_constant(observed)).fit()\n",
    "            coefs = res.params\n",
    "            residual = res.resid\n",
    "        else:\n",
    "            slope, intercept, r_value, p_value, std_err = stats.linregress(observed, predicted)\n",
    "            coefs=[intercept, slope]\n",
    "            regline = slope * observed + intercept\n",
    "            residual = observed - regline\n",
    "\n",
    "        S = np.sqrt(np.mean(residual**2))\n",
    "        upper = coefs[1] * xlims + coefs[0] + S/2\n",
    "        lower = coefs[1] * xlims + coefs[0] - S/2\n",
    "\n",
    "        plt.plot(xlims, upper, ':', color=color, linewidth=1, alpha=0.3)\n",
    "        plt.plot(xlims, lower, ':', color=color, linewidth=1, alpha=0.3)\n",
    "\n",
    "    if text:\n",
    "        plt.text(np.min(observed) - (np.max(predicted)-np.min(predicted))/3,\n",
    "                 np.max(predicted) + (np.max(predicted)-np.min(predicted))/3,\n",
    "                 text, fontsize=10)\n",
    "\n",
    "    if outfile:\n",
    "        figure = plt.gcf()\n",
    "        figure.savefig(outfile, bbox_inches='tight')\n",
    "        plt.close(figure)\n",
    "    else:\n",
    "        plt.show()\n",
    "\n",
    "def pred_stat(observed, predicted, robust=False):\n",
    "\n",
    "    # convert to np.array\n",
    "    observed = np.array(observed)\n",
    "    predicted = np.array(predicted)\n",
    "\n",
    "    #EXCLUDE NA-s:\n",
    "    predicted = predicted[~np.isnan(observed)]\n",
    "    observed = observed[~np.isnan(observed)]\n",
    "\n",
    "    if robust:\n",
    "        res = sm.RLM(observed, sm.add_constant(predicted)).fit()\n",
    "        p_value = res.pvalues[1]\n",
    "        regline = res.fittedvalues\n",
    "        residual = res.sresid\n",
    "\n",
    "        # this is a pseudo r_squared, see: https://stackoverflow.com/questions/31655196/how-to-get-r-squared-for-robust-regression-rlm-in-statsmodels\n",
    "        r_2 = sm.WLS(observed, sm.add_constant(predicted), weights=res.weights).fit().rsquared\n",
    "\n",
    "    else:\n",
    "        slope, intercept, r_value, p_value, std_err = stats.linregress(observed, predicted)\n",
    "        regline = slope*observed+intercept\n",
    "        r_2 = r_value**2\n",
    "        residual = observed - regline\n",
    "\n",
    "    return p_value, r_2, residual, regline"
   ],
   "metadata": {
    "collapsed": false,
    "pycharm": {
     "name": "#%%\n"
    }
   }
  },
  {
   "cell_type": "code",
   "execution_count": 52,
   "outputs": [],
   "source": [
    "# define paths\n",
    "# for subjectID (to map the RPN and original subject ID)\n",
    "# Load the sujectID file from the RPN output to easliy pair the indices with the appropriate participants:\n",
    "subjID_idx = pd.read_csv('/home/balint/Documents/Katistudy/rpnresults/subjectsIDs.txt',header=None)\n",
    "# motion information\n",
    "motioninf = pd.read_csv(\"/home/balint/Documents/Katistudy/rpnresults/motion_summary.csv\")\n",
    "\n",
    "# define path to the timeseries data\n",
    "ts_directory = \"/home/balint/Documents/Katistudy/rpnresults/timeseries/\"\n",
    "#add label information from the used MIST atlas\n",
    "labelinf = pd.read_csv('/home/balint/DATA/MIST_atlas/Parcel_Information/MIST_122.csv',sep=';')"
   ],
   "metadata": {
    "collapsed": false,
    "pycharm": {
     "name": "#%%\n"
    }
   }
  },
  {
   "cell_type": "code",
   "execution_count": 53,
   "outputs": [],
   "source": [
    "# define subject IDs for exclusion(missing values, fall asleep) and values for exclusion\n",
    "# collect all the particpants subjID who we would like to exclude and include based on the info from the measurement and the motion info\n",
    "# we exclude three of them because:\n",
    "# -subj 8 felt asleep in the scanner\n",
    "# -subj 18 - missing behavior data (bad eyesight)\n",
    "# -subj 31 - missing mri data (basically we do not have to exclude him but for the sake of fullness)\n",
    "excl_subnum = [8, 18,31]\n",
    "#define motion limits\n",
    "FDlimit = 0.15\n",
    "percscrublimit = 25"
   ],
   "metadata": {
    "collapsed": false,
    "pycharm": {
     "name": "#%%\n"
    }
   }
  },
  {
   "cell_type": "code",
   "execution_count": 54,
   "outputs": [
    {
     "name": "stdout",
     "output_type": "stream",
     "text": [
      "These are the subjects subjectID who were excluded:\tdict_keys([4, 7, 8, 14, 16, 18, 22, 24, 25, 29, 36, 43, 44])\n",
      "These are the subjects ordererID who were excluded:\tdict_values([1, 3, 4, 7, 9, 11, 15, 17, 18, 21, 26, 33, 34])\n",
      "These are the subjects subjectID who were included:\tdict_keys([3, 5, 9, 12, 15, 17, 19, 20, 21, 23, 27, 28, 32, 33, 34, 35, 37, 38, 39, 40, 41, 42, 45, 46, 47])\n",
      "These are the subjects ordererID who were included:\tdict_values([0, 2, 5, 6, 8, 10, 12, 13, 14, 16, 19, 20, 22, 23, 24, 25, 27, 28, 29, 30, 31, 32, 35, 36, 37])\n",
      "In total we work with\t25\t participants.\n",
      " Check if all the aprticipanst have behavior data!!!!\n",
      "Number of participant excluded based in the motion parameters(FD>0.15,scrubbed percent>25):11\n",
      "this is their subjID \t4\tand this is thier orderID:\t1\n",
      "this is their subjID \t7\tand this is thier orderID:\t3\n",
      "this is their subjID \t8\tand this is thier orderID:\t4\n",
      "this is their subjID \t14\tand this is thier orderID:\t7\n",
      "this is their subjID \t16\tand this is thier orderID:\t9\n",
      "this is their subjID \t18\tand this is thier orderID:\t11\n",
      "this is their subjID \t22\tand this is thier orderID:\t15\n",
      "this is their subjID \t24\tand this is thier orderID:\t17\n",
      "this is their subjID \t25\tand this is thier orderID:\t18\n",
      "this is their subjID \t29\tand this is thier orderID:\t21\n",
      "this is their subjID \t36\tand this is thier orderID:\t26\n",
      "this is their subjID \t43\tand this is thier orderID:\t33\n",
      "this is their subjID \t44\tand this is thier orderID:\t34\n",
      "These are the participants subjID whose excluded beforehand:\t[8, 18, 31]\n"
     ]
    },
    {
     "name": "stderr",
     "output_type": "stream",
     "text": [
      "/tmp/ipykernel_45543/1268904467.py:4: DeprecationWarning: `np.int` is a deprecated alias for the builtin `int`. To silence this warning, use `int` by itself. Doing this will not modify any behavior and is safe. When replacing `np.int`, you may wish to use e.g. `np.int64` or `np.int32` to specify the precision. If you wish to review your current use, check the release note link for additional information.\n",
      "Deprecated in NumPy 1.20; for more details and guidance: https://numpy.org/devdocs/release/1.20.0-notes.html#deprecations\n",
      "  dict_subjID_idx[np.int((my_string.split(\"func/sub-\",1)[1].split('_task',1)[0]))] = idx\n"
     ]
    }
   ],
   "source": [
    "# create a dictionary in which the keys are the subject IDs defined in the study and the values are the ids in the RPN(the output simple an increasing\n",
    "dict_subjID_idx={}\n",
    "for idx, my_string in enumerate(subjID_idx[0].values):\n",
    "    dict_subjID_idx[np.int((my_string.split(\"func/sub-\",1)[1].split('_task',1)[0]))] = idx\n",
    "# exclude subject based on measurement info\n",
    "excl_indices = list(dict_subjID_idx[k] for k in excl_subnum if k in dict_subjID_idx.keys())\n",
    "\n",
    "\n",
    "orderidx_incl = motioninf.loc[(motioninf['meanFD'] < FDlimit) &\n",
    "                              (motioninf['perc_scrubbed'] < percscrublimit) &\n",
    "                                #(motioninf['maxFD'] < 1) &\n",
    "                              (~motioninf['Unnamed: 0'].isin(excl_indices)) ,:].index.values\n",
    "dict_subjID_idx_incl = {}\n",
    "dict_subjID_idx_excl = {}\n",
    "for key, value in dict_subjID_idx.items():\n",
    "    if value in orderidx_incl:\n",
    "        dict_subjID_idx_incl[key]=value\n",
    "    else:\n",
    "        dict_subjID_idx_excl[key]=value\n",
    "print('These are the subjects subjectID who were excluded:\\t' + str(dict_subjID_idx_excl.keys()))\n",
    "print('These are the subjects ordererID who were excluded:\\t' + str(dict_subjID_idx_excl.values()))\n",
    "print('These are the subjects subjectID who were included:\\t' + str(dict_subjID_idx_incl.keys()))\n",
    "print('These are the subjects ordererID who were included:\\t' + str(dict_subjID_idx_incl.values()))\n",
    "print('In total we work with\\t'+ str(len(orderidx_incl)) + '\\t participants.\\n Check if all the aprticipanst have behavior data!!!!')\n",
    "nexclbasedonmotion = len(subjID_idx) - len(excl_indices) - len(orderidx_incl)\n",
    "print('Number of participant excluded based in the motion parameters(FD>' +str(FDlimit)+ ',scrubbed percent>' +str(percscrublimit)+'):' +str(nexclbasedonmotion))\n",
    "for key, value in dict_subjID_idx.items():\n",
    "    if value in motioninf.drop(orderidx_incl)['Unnamed: 0']:\n",
    "        print('this is their subjID \\t'+str(key)+'\\tand this is thier orderID:\\t'+str(value))\n",
    "print('These are the participants subjID whose excluded beforehand:\\t' + str(excl_subnum))"
   ],
   "metadata": {
    "collapsed": false,
    "pycharm": {
     "name": "#%%\n"
    }
   }
  },
  {
   "cell_type": "code",
   "execution_count": 55,
   "outputs": [
    {
     "name": "stdout",
     "output_type": "stream",
     "text": [
      "These are the paths to the mri timeseries file:\n"
     ]
    },
    {
     "data": {
      "text/plain": "['/home/balint/Documents/Katistudy/rpnresults/timeseries/subj_00_ts.tsv',\n '/home/balint/Documents/Katistudy/rpnresults/timeseries/subj_01_ts.tsv',\n '/home/balint/Documents/Katistudy/rpnresults/timeseries/subj_02_ts.tsv',\n '/home/balint/Documents/Katistudy/rpnresults/timeseries/subj_03_ts.tsv',\n '/home/balint/Documents/Katistudy/rpnresults/timeseries/subj_04_ts.tsv',\n '/home/balint/Documents/Katistudy/rpnresults/timeseries/subj_05_ts.tsv',\n '/home/balint/Documents/Katistudy/rpnresults/timeseries/subj_06_ts.tsv',\n '/home/balint/Documents/Katistudy/rpnresults/timeseries/subj_07_ts.tsv',\n '/home/balint/Documents/Katistudy/rpnresults/timeseries/subj_08_ts.tsv',\n '/home/balint/Documents/Katistudy/rpnresults/timeseries/subj_09_ts.tsv',\n '/home/balint/Documents/Katistudy/rpnresults/timeseries/subj_10_ts.tsv',\n '/home/balint/Documents/Katistudy/rpnresults/timeseries/subj_11_ts.tsv',\n '/home/balint/Documents/Katistudy/rpnresults/timeseries/subj_12_ts.tsv',\n '/home/balint/Documents/Katistudy/rpnresults/timeseries/subj_13_ts.tsv',\n '/home/balint/Documents/Katistudy/rpnresults/timeseries/subj_14_ts.tsv',\n '/home/balint/Documents/Katistudy/rpnresults/timeseries/subj_15_ts.tsv',\n '/home/balint/Documents/Katistudy/rpnresults/timeseries/subj_16_ts.tsv',\n '/home/balint/Documents/Katistudy/rpnresults/timeseries/subj_17_ts.tsv',\n '/home/balint/Documents/Katistudy/rpnresults/timeseries/subj_18_ts.tsv',\n '/home/balint/Documents/Katistudy/rpnresults/timeseries/subj_19_ts.tsv',\n '/home/balint/Documents/Katistudy/rpnresults/timeseries/subj_20_ts.tsv',\n '/home/balint/Documents/Katistudy/rpnresults/timeseries/subj_21_ts.tsv',\n '/home/balint/Documents/Katistudy/rpnresults/timeseries/subj_22_ts.tsv',\n '/home/balint/Documents/Katistudy/rpnresults/timeseries/subj_23_ts.tsv',\n '/home/balint/Documents/Katistudy/rpnresults/timeseries/subj_24_ts.tsv',\n '/home/balint/Documents/Katistudy/rpnresults/timeseries/subj_25_ts.tsv',\n '/home/balint/Documents/Katistudy/rpnresults/timeseries/subj_26_ts.tsv',\n '/home/balint/Documents/Katistudy/rpnresults/timeseries/subj_27_ts.tsv',\n '/home/balint/Documents/Katistudy/rpnresults/timeseries/subj_28_ts.tsv',\n '/home/balint/Documents/Katistudy/rpnresults/timeseries/subj_29_ts.tsv',\n '/home/balint/Documents/Katistudy/rpnresults/timeseries/subj_30_ts.tsv',\n '/home/balint/Documents/Katistudy/rpnresults/timeseries/subj_31_ts.tsv',\n '/home/balint/Documents/Katistudy/rpnresults/timeseries/subj_32_ts.tsv',\n '/home/balint/Documents/Katistudy/rpnresults/timeseries/subj_33_ts.tsv',\n '/home/balint/Documents/Katistudy/rpnresults/timeseries/subj_34_ts.tsv',\n '/home/balint/Documents/Katistudy/rpnresults/timeseries/subj_35_ts.tsv',\n '/home/balint/Documents/Katistudy/rpnresults/timeseries/subj_36_ts.tsv',\n '/home/balint/Documents/Katistudy/rpnresults/timeseries/subj_37_ts.tsv']"
     },
     "execution_count": 55,
     "metadata": {},
     "output_type": "execute_result"
    }
   ],
   "source": [
    "# define timeseries path\n",
    "ts_filelist=os.listdir(ts_directory)\n",
    "ts_filelist.sort(key=lambda x: int(''.join(filter(str.isdigit, x))))\n",
    "ts_fullpathfs=[]\n",
    "for ff in ts_filelist:\n",
    "    ts_fullpathfs.append(os.path.join(ts_directory,ff))\n",
    "print('These are the paths to the mri timeseries file:')\n",
    "ts_fullpathfs"
   ],
   "metadata": {
    "collapsed": false,
    "pycharm": {
     "name": "#%%\n"
    }
   }
  },
  {
   "cell_type": "code",
   "execution_count": 56,
   "outputs": [
    {
     "name": "stdout",
     "output_type": "stream",
     "text": [
      "This is the ordered ID of our included participant:0\n",
      "this is the file what we read in:\n",
      "/home/balint/Documents/Katistudy/rpnresults/timeseries/subj_00_ts.tsv\n",
      "-----------------------------------------------------------------\n",
      "We do not include participant with:\t1\torderedID\n",
      " who has the following path:/home/balint/Documents/Katistudy/rpnresults/timeseries/subj_01_ts.tsv\n",
      "-----------------------------------------------------------------\n",
      "This is the ordered ID of our included participant:2\n",
      "this is the file what we read in:\n",
      "/home/balint/Documents/Katistudy/rpnresults/timeseries/subj_02_ts.tsv\n",
      "-----------------------------------------------------------------\n",
      "We do not include participant with:\t3\torderedID\n",
      " who has the following path:/home/balint/Documents/Katistudy/rpnresults/timeseries/subj_03_ts.tsv\n",
      "-----------------------------------------------------------------\n",
      "We do not include participant with:\t4\torderedID\n",
      " who has the following path:/home/balint/Documents/Katistudy/rpnresults/timeseries/subj_04_ts.tsv\n",
      "-----------------------------------------------------------------\n",
      "This is the ordered ID of our included participant:5\n",
      "this is the file what we read in:\n",
      "/home/balint/Documents/Katistudy/rpnresults/timeseries/subj_05_ts.tsv\n",
      "-----------------------------------------------------------------\n",
      "This is the ordered ID of our included participant:6\n",
      "this is the file what we read in:\n",
      "/home/balint/Documents/Katistudy/rpnresults/timeseries/subj_06_ts.tsv\n",
      "-----------------------------------------------------------------\n",
      "We do not include participant with:\t7\torderedID\n",
      " who has the following path:/home/balint/Documents/Katistudy/rpnresults/timeseries/subj_07_ts.tsv\n",
      "-----------------------------------------------------------------\n",
      "This is the ordered ID of our included participant:8\n",
      "this is the file what we read in:\n",
      "/home/balint/Documents/Katistudy/rpnresults/timeseries/subj_08_ts.tsv\n",
      "-----------------------------------------------------------------\n",
      "We do not include participant with:\t9\torderedID\n",
      " who has the following path:/home/balint/Documents/Katistudy/rpnresults/timeseries/subj_09_ts.tsv\n",
      "-----------------------------------------------------------------\n",
      "This is the ordered ID of our included participant:10\n",
      "this is the file what we read in:\n",
      "/home/balint/Documents/Katistudy/rpnresults/timeseries/subj_10_ts.tsv\n",
      "-----------------------------------------------------------------\n",
      "We do not include participant with:\t11\torderedID\n",
      " who has the following path:/home/balint/Documents/Katistudy/rpnresults/timeseries/subj_11_ts.tsv\n",
      "-----------------------------------------------------------------\n",
      "This is the ordered ID of our included participant:12\n",
      "this is the file what we read in:\n",
      "/home/balint/Documents/Katistudy/rpnresults/timeseries/subj_12_ts.tsv\n",
      "-----------------------------------------------------------------\n",
      "This is the ordered ID of our included participant:13\n",
      "this is the file what we read in:\n",
      "/home/balint/Documents/Katistudy/rpnresults/timeseries/subj_13_ts.tsv\n",
      "-----------------------------------------------------------------\n",
      "This is the ordered ID of our included participant:14\n",
      "this is the file what we read in:\n",
      "/home/balint/Documents/Katistudy/rpnresults/timeseries/subj_14_ts.tsv\n",
      "-----------------------------------------------------------------\n",
      "We do not include participant with:\t15\torderedID\n",
      " who has the following path:/home/balint/Documents/Katistudy/rpnresults/timeseries/subj_15_ts.tsv\n",
      "-----------------------------------------------------------------\n",
      "This is the ordered ID of our included participant:16\n",
      "this is the file what we read in:\n",
      "/home/balint/Documents/Katistudy/rpnresults/timeseries/subj_16_ts.tsv\n",
      "-----------------------------------------------------------------\n",
      "We do not include participant with:\t17\torderedID\n",
      " who has the following path:/home/balint/Documents/Katistudy/rpnresults/timeseries/subj_17_ts.tsv\n",
      "-----------------------------------------------------------------\n",
      "We do not include participant with:\t18\torderedID\n",
      " who has the following path:/home/balint/Documents/Katistudy/rpnresults/timeseries/subj_18_ts.tsv\n",
      "-----------------------------------------------------------------\n",
      "This is the ordered ID of our included participant:19\n",
      "this is the file what we read in:\n",
      "/home/balint/Documents/Katistudy/rpnresults/timeseries/subj_19_ts.tsv\n",
      "-----------------------------------------------------------------\n",
      "This is the ordered ID of our included participant:20\n",
      "this is the file what we read in:\n",
      "/home/balint/Documents/Katistudy/rpnresults/timeseries/subj_20_ts.tsv\n",
      "-----------------------------------------------------------------\n",
      "We do not include participant with:\t21\torderedID\n",
      " who has the following path:/home/balint/Documents/Katistudy/rpnresults/timeseries/subj_21_ts.tsv\n",
      "-----------------------------------------------------------------\n",
      "This is the ordered ID of our included participant:22\n",
      "this is the file what we read in:\n",
      "/home/balint/Documents/Katistudy/rpnresults/timeseries/subj_22_ts.tsv\n",
      "-----------------------------------------------------------------\n",
      "This is the ordered ID of our included participant:23\n",
      "this is the file what we read in:\n",
      "/home/balint/Documents/Katistudy/rpnresults/timeseries/subj_23_ts.tsv\n",
      "-----------------------------------------------------------------\n",
      "This is the ordered ID of our included participant:24\n",
      "this is the file what we read in:\n",
      "/home/balint/Documents/Katistudy/rpnresults/timeseries/subj_24_ts.tsv\n",
      "-----------------------------------------------------------------\n",
      "This is the ordered ID of our included participant:25\n",
      "this is the file what we read in:\n",
      "/home/balint/Documents/Katistudy/rpnresults/timeseries/subj_25_ts.tsv\n",
      "-----------------------------------------------------------------\n",
      "We do not include participant with:\t26\torderedID\n",
      " who has the following path:/home/balint/Documents/Katistudy/rpnresults/timeseries/subj_26_ts.tsv\n",
      "-----------------------------------------------------------------\n",
      "This is the ordered ID of our included participant:27\n",
      "this is the file what we read in:\n",
      "/home/balint/Documents/Katistudy/rpnresults/timeseries/subj_27_ts.tsv\n",
      "-----------------------------------------------------------------\n",
      "This is the ordered ID of our included participant:28\n",
      "this is the file what we read in:\n",
      "/home/balint/Documents/Katistudy/rpnresults/timeseries/subj_28_ts.tsv\n",
      "-----------------------------------------------------------------\n",
      "This is the ordered ID of our included participant:29\n",
      "this is the file what we read in:\n",
      "/home/balint/Documents/Katistudy/rpnresults/timeseries/subj_29_ts.tsv\n",
      "-----------------------------------------------------------------\n",
      "This is the ordered ID of our included participant:30\n",
      "this is the file what we read in:\n",
      "/home/balint/Documents/Katistudy/rpnresults/timeseries/subj_30_ts.tsv\n",
      "-----------------------------------------------------------------\n",
      "This is the ordered ID of our included participant:31\n",
      "this is the file what we read in:\n",
      "/home/balint/Documents/Katistudy/rpnresults/timeseries/subj_31_ts.tsv\n",
      "-----------------------------------------------------------------\n",
      "This is the ordered ID of our included participant:32\n",
      "this is the file what we read in:\n",
      "/home/balint/Documents/Katistudy/rpnresults/timeseries/subj_32_ts.tsv\n",
      "-----------------------------------------------------------------\n",
      "We do not include participant with:\t33\torderedID\n",
      " who has the following path:/home/balint/Documents/Katistudy/rpnresults/timeseries/subj_33_ts.tsv\n",
      "-----------------------------------------------------------------\n",
      "We do not include participant with:\t34\torderedID\n",
      " who has the following path:/home/balint/Documents/Katistudy/rpnresults/timeseries/subj_34_ts.tsv\n",
      "-----------------------------------------------------------------\n",
      "This is the ordered ID of our included participant:35\n",
      "this is the file what we read in:\n",
      "/home/balint/Documents/Katistudy/rpnresults/timeseries/subj_35_ts.tsv\n",
      "-----------------------------------------------------------------\n",
      "This is the ordered ID of our included participant:36\n",
      "this is the file what we read in:\n",
      "/home/balint/Documents/Katistudy/rpnresults/timeseries/subj_36_ts.tsv\n",
      "-----------------------------------------------------------------\n",
      "This is the ordered ID of our included participant:37\n",
      "this is the file what we read in:\n",
      "/home/balint/Documents/Katistudy/rpnresults/timeseries/subj_37_ts.tsv\n",
      "-----------------------------------------------------------------\n"
     ]
    }
   ],
   "source": [
    "# load timeseries file\n",
    "\n",
    "ts, labels, examplets_pd, loadedsubj = load_timeseries_roi(ts_fullpathfs,dict_subjID_idx_incl.values(),\n",
    "                                                   keepgs=True,standardise=True)"
   ],
   "metadata": {
    "collapsed": false,
    "pycharm": {
     "name": "#%%\n"
    }
   }
  },
  {
   "cell_type": "code",
   "execution_count": 57,
   "outputs": [
    {
     "name": "stdout",
     "output_type": "stream",
     "text": [
      "7503\n"
     ]
    },
    {
     "name": "stderr",
     "output_type": "stream",
     "text": [
      "/tmp/ipykernel_45543/2672382983.py:4: DeprecationWarning: `np.int` is a deprecated alias for the builtin `int`. To silence this warning, use `int` by itself. Doing this will not modify any behavior and is safe. When replacing `np.int`, you may wish to use e.g. `np.int64` or `np.int32` to specify the precision. If you wish to review your current use, check the release note link for additional information.\n",
      "Deprecated in NumPy 1.20; for more details and guidance: https://numpy.org/devdocs/release/1.20.0-notes.html#deprecations\n",
      "  numberofpredictors=np.int(((len(labels)*len(labels))-len(labels))/2)\n"
     ]
    }
   ],
   "source": [
    "# The issue is that the order in the vectorized form of the connectivity matrix is not known.\n",
    "# With this custom built modul we solve this:\n",
    "# one has to define the number of predictors to determine the vectorized format of the connectivity matricies\n",
    "numberofpredictors=np.int(((len(labels)*len(labels))-len(labels))/2)\n",
    "pairofrois=np.zeros(shape=(numberofpredictors,2),dtype=int)\n",
    "i=0\n",
    "for ff in range(0,len(labels)):\n",
    "    for gg in range(0,ff):\n",
    "        pairofrois[i]= [gg,ff]\n",
    "        i=i+1\n",
    "\n",
    "# we tested it and it works. That is, the place in the vectorized matrix and the place in the variable of pairofrois\n",
    "# is the same. while the former is the exact correlation value, the latter is the labels of ROIs\n",
    "# so call as roilabels[pairofrois[z]]\n",
    "vectorzedlabels = []\n",
    "listoflabelpairs = []\n",
    "for ii in pairofrois:\n",
    "    vectorzedlabels.append(labels[ii][0]+'+'+labels[ii][1])\n",
    "    listoflabelpairs.append([labels[ii][0],labels[ii][1]])\n",
    "# checked again and it works properly. So in the vectorized format and the matrix format the certain cells match.\n",
    "print(len(listoflabelpairs))"
   ],
   "metadata": {
    "collapsed": false,
    "pycharm": {
     "name": "#%%\n"
    }
   }
  },
  {
   "cell_type": "code",
   "execution_count": 58,
   "outputs": [
    {
     "name": "stdout",
     "output_type": "stream",
     "text": [
      "we calculated the  partial correlation between allroi.\n"
     ]
    }
   ],
   "source": [
    "# calculate the connectivity matricies for all the individual who we include.\n",
    "X, cm = connectivity_matrix(ts,roilabelid= True,\n",
    "                                    kind='partial correlation',\n",
    "                                    vect=True,\n",
    "                                    allroi=True)\n",
    "data_conn = pd.DataFrame(X,\n",
    "            columns=(vectorzedlabels),\n",
    "            index = dict_subjID_idx_incl.keys())"
   ],
   "metadata": {
    "collapsed": false,
    "pycharm": {
     "name": "#%%\n"
    }
   }
  },
  {
   "cell_type": "code",
   "execution_count": 59,
   "outputs": [
    {
     "data": {
      "text/plain": "     sex  age  hab_UCS_pain_vas  hab_UCS_tone_vas  acqkon_CS_tone_transf  \\\nsub                                                                        \n3      2   21                22                29                     90   \n5      2   31                39                65                    100   \n9      1   25                77                58                     70   \n12     1   32                80                77                      0   \n15     1   25                59                68                     68   \n\n     acqkon_CS_pain_transf  acqkon_CS_minus_transf  extkon_CS_tone_transf  \\\nsub                                                                         \n3                        0                       8                     90   \n5                       90                       4                     80   \n9                       68                       0                     38   \n12                      -2                       0                      2   \n15                      66                       0                      4   \n\n     extkon_CS_pain_transf  extkon_CS_minus_transf   PASS_D1  PASS_D2  \\\nsub                                                                     \n3                       62                       6  1.000000      0.8   \n5                       48                       0  3.666667      2.2   \n9                       34                       0  3.000000      2.2   \n12                      -2                      -2  3.000000      2.4   \n15                      28                       2  3.333333      2.2   \n\n     PASS_D3  PASS_D4   PCS   ADS  \nsub                                \n3       0.25      0.2  12.0   2.0  \n5       3.25      2.4  34.0  11.0  \n9       0.75      2.2  22.0   3.0  \n12      0.25      1.4  25.0   7.0  \n15      1.75      1.2  25.0   4.0  ",
      "text/html": "<div>\n<style scoped>\n    .dataframe tbody tr th:only-of-type {\n        vertical-align: middle;\n    }\n\n    .dataframe tbody tr th {\n        vertical-align: top;\n    }\n\n    .dataframe thead th {\n        text-align: right;\n    }\n</style>\n<table border=\"1\" class=\"dataframe\">\n  <thead>\n    <tr style=\"text-align: right;\">\n      <th></th>\n      <th>sex</th>\n      <th>age</th>\n      <th>hab_UCS_pain_vas</th>\n      <th>hab_UCS_tone_vas</th>\n      <th>acqkon_CS_tone_transf</th>\n      <th>acqkon_CS_pain_transf</th>\n      <th>acqkon_CS_minus_transf</th>\n      <th>extkon_CS_tone_transf</th>\n      <th>extkon_CS_pain_transf</th>\n      <th>extkon_CS_minus_transf</th>\n      <th>PASS_D1</th>\n      <th>PASS_D2</th>\n      <th>PASS_D3</th>\n      <th>PASS_D4</th>\n      <th>PCS</th>\n      <th>ADS</th>\n    </tr>\n    <tr>\n      <th>sub</th>\n      <th></th>\n      <th></th>\n      <th></th>\n      <th></th>\n      <th></th>\n      <th></th>\n      <th></th>\n      <th></th>\n      <th></th>\n      <th></th>\n      <th></th>\n      <th></th>\n      <th></th>\n      <th></th>\n      <th></th>\n      <th></th>\n    </tr>\n  </thead>\n  <tbody>\n    <tr>\n      <th>3</th>\n      <td>2</td>\n      <td>21</td>\n      <td>22</td>\n      <td>29</td>\n      <td>90</td>\n      <td>0</td>\n      <td>8</td>\n      <td>90</td>\n      <td>62</td>\n      <td>6</td>\n      <td>1.000000</td>\n      <td>0.8</td>\n      <td>0.25</td>\n      <td>0.2</td>\n      <td>12.0</td>\n      <td>2.0</td>\n    </tr>\n    <tr>\n      <th>5</th>\n      <td>2</td>\n      <td>31</td>\n      <td>39</td>\n      <td>65</td>\n      <td>100</td>\n      <td>90</td>\n      <td>4</td>\n      <td>80</td>\n      <td>48</td>\n      <td>0</td>\n      <td>3.666667</td>\n      <td>2.2</td>\n      <td>3.25</td>\n      <td>2.4</td>\n      <td>34.0</td>\n      <td>11.0</td>\n    </tr>\n    <tr>\n      <th>9</th>\n      <td>1</td>\n      <td>25</td>\n      <td>77</td>\n      <td>58</td>\n      <td>70</td>\n      <td>68</td>\n      <td>0</td>\n      <td>38</td>\n      <td>34</td>\n      <td>0</td>\n      <td>3.000000</td>\n      <td>2.2</td>\n      <td>0.75</td>\n      <td>2.2</td>\n      <td>22.0</td>\n      <td>3.0</td>\n    </tr>\n    <tr>\n      <th>12</th>\n      <td>1</td>\n      <td>32</td>\n      <td>80</td>\n      <td>77</td>\n      <td>0</td>\n      <td>-2</td>\n      <td>0</td>\n      <td>2</td>\n      <td>-2</td>\n      <td>-2</td>\n      <td>3.000000</td>\n      <td>2.4</td>\n      <td>0.25</td>\n      <td>1.4</td>\n      <td>25.0</td>\n      <td>7.0</td>\n    </tr>\n    <tr>\n      <th>15</th>\n      <td>1</td>\n      <td>25</td>\n      <td>59</td>\n      <td>68</td>\n      <td>68</td>\n      <td>66</td>\n      <td>0</td>\n      <td>4</td>\n      <td>28</td>\n      <td>2</td>\n      <td>3.333333</td>\n      <td>2.2</td>\n      <td>1.75</td>\n      <td>1.2</td>\n      <td>25.0</td>\n      <td>4.0</td>\n    </tr>\n  </tbody>\n</table>\n</div>"
     },
     "execution_count": 59,
     "metadata": {},
     "output_type": "execute_result"
    }
   ],
   "source": [
    "# get the demograhpical data\n",
    "contingencyvals_list= ['sub','sex','age','acqkon_CS_tone_transf', 'acqkon_CS_pain_transf',\n",
    "       'acqkon_CS_minus_transf', 'extkon_CS_tone_transf',\n",
    "       'extkon_CS_pain_transf', 'extkon_CS_minus_transf',\n",
    "                       'hab_UCS_pain_vas', 'hab_UCS_tone_vas',\n",
    "                       'PASS_D1', 'PASS_D2', 'PASS_D3', 'PASS_D4', 'PCS', 'ADS'\n",
    "                       ]\n",
    "contingencyrat = pd.read_csv('/home/balint/Documents/Katistudy/C_statistics/data/df_allsubs.csv',\n",
    "                             usecols=contingencyvals_list,\n",
    "                             index_col='sub')\n",
    "contingencyrat_incl = contingencyrat.loc[dict_subjID_idx_incl.keys(),:]\n",
    "contingencyrat_incl.head()"
   ],
   "metadata": {
    "collapsed": false,
    "pycharm": {
     "name": "#%%\n"
    }
   }
  },
  {
   "cell_type": "code",
   "execution_count": 60,
   "outputs": [
    {
     "name": "stdout",
     "output_type": "stream",
     "text": [
      "<bound method MultiIndex.get_level_values of MultiIndex([('acq', 'minus', 1),\n",
      "            ('acq', 'minus', 2),\n",
      "            ('acq', 'minus', 3),\n",
      "            ('acq', 'minus', 4),\n",
      "            ('acq',  'pain', 1),\n",
      "            ('acq',  'pain', 2),\n",
      "            ('acq',  'pain', 3),\n",
      "            ('acq',  'pain', 4),\n",
      "            ('acq',  'tone', 1),\n",
      "            ('acq',  'tone', 2),\n",
      "            ('acq',  'tone', 3),\n",
      "            ('acq',  'tone', 4),\n",
      "            ('ext', 'minus', 1),\n",
      "            ('ext', 'minus', 2),\n",
      "            ('ext', 'minus', 3),\n",
      "            ('ext',  'pain', 1),\n",
      "            ('ext',  'pain', 2),\n",
      "            ('ext',  'pain', 3),\n",
      "            ('ext',  'tone', 1),\n",
      "            ('ext',  'tone', 2),\n",
      "            ('ext',  'tone', 3),\n",
      "            ('hab', 'minus', 0),\n",
      "            ('hab',  'pain', 0),\n",
      "            ('hab',  'tone', 0)],\n",
      "           names=['phase', 'CS', 'timepoint_phase'])>\n"
     ]
    },
    {
     "data": {
      "text/plain": "     age  anxiety_pain  anxiety_tone  diff_anxiety    hpt  sex\nsub                                                           \n3     21            47            14            33  44.67    2\n5     31            56            17            39  44.00    2\n9     25            64            13            51  44.90    1\n12    32            28            34            -6  43.93    1\n15    25            49            30            19  46.53    1",
      "text/html": "<div>\n<style scoped>\n    .dataframe tbody tr th:only-of-type {\n        vertical-align: middle;\n    }\n\n    .dataframe tbody tr th {\n        vertical-align: top;\n    }\n\n    .dataframe thead th {\n        text-align: right;\n    }\n</style>\n<table border=\"1\" class=\"dataframe\">\n  <thead>\n    <tr style=\"text-align: right;\">\n      <th></th>\n      <th>age</th>\n      <th>anxiety_pain</th>\n      <th>anxiety_tone</th>\n      <th>diff_anxiety</th>\n      <th>hpt</th>\n      <th>sex</th>\n    </tr>\n    <tr>\n      <th>sub</th>\n      <th></th>\n      <th></th>\n      <th></th>\n      <th></th>\n      <th></th>\n      <th></th>\n    </tr>\n  </thead>\n  <tbody>\n    <tr>\n      <th>3</th>\n      <td>21</td>\n      <td>47</td>\n      <td>14</td>\n      <td>33</td>\n      <td>44.67</td>\n      <td>2</td>\n    </tr>\n    <tr>\n      <th>5</th>\n      <td>31</td>\n      <td>56</td>\n      <td>17</td>\n      <td>39</td>\n      <td>44.00</td>\n      <td>2</td>\n    </tr>\n    <tr>\n      <th>9</th>\n      <td>25</td>\n      <td>64</td>\n      <td>13</td>\n      <td>51</td>\n      <td>44.90</td>\n      <td>1</td>\n    </tr>\n    <tr>\n      <th>12</th>\n      <td>32</td>\n      <td>28</td>\n      <td>34</td>\n      <td>-6</td>\n      <td>43.93</td>\n      <td>1</td>\n    </tr>\n    <tr>\n      <th>15</th>\n      <td>25</td>\n      <td>49</td>\n      <td>30</td>\n      <td>19</td>\n      <td>46.53</td>\n      <td>1</td>\n    </tr>\n  </tbody>\n</table>\n</div>"
     },
     "execution_count": 60,
     "metadata": {},
     "output_type": "execute_result"
    }
   ],
   "source": [
    "# In this part we load our data in pandas format and identify behvaior variables which might be important\n",
    "# The alldata.csv was saved from the last file which was sent by Kati(that was an .Rda file so I loaded it in R and saved a csv).\n",
    "col_list1 = ['sub','sex', 'age','hpt','CS','valence','timepoint_phase', 'timepoint_phase2', 'phase','anxiety_pain',\n",
    "       'anxiety_tone', 'diff_anxiety']\n",
    "alldata = pd.read_csv('/home/balint/Documents/Katistudy/C_statistics/alldata.csv',\n",
    "                      usecols=col_list1,\n",
    "                      index_col='sub')\n",
    "# get a table which include all the participants derived behavior data\n",
    "alldata_behav = alldata.pivot_table(index=['sub'],\n",
    "                                    values=['hpt','sex', 'age','anxiety_pain','anxiety_tone', 'diff_anxiety'])\n",
    "alldata_behav_incl = alldata_behav.loc[dict_subjID_idx_incl.keys(),:]\n",
    "\n",
    "# Reorganize the data in a wide format (long to wide) to get valence rating in an organized way\n",
    "valencedata_wide = alldata.pivot_table(index=['sub'], columns=['phase','CS','timepoint_phase'],\n",
    "                                       values='valence')\n",
    "#get the multilevel indexing names in the columns:\n",
    "print(valencedata_wide.columns.get_level_values)\n",
    "valencedata_wide_excl = valencedata_wide.loc[dict_subjID_idx_incl.keys(),:]\n",
    "alldata_behav_incl.head()"
   ],
   "metadata": {
    "collapsed": false,
    "pycharm": {
     "name": "#%%\n"
    }
   }
  },
  {
   "cell_type": "code",
   "execution_count": 61,
   "outputs": [],
   "source": [
    "# create new behavior variables, and save them in the alldata_behav df. examples:\n",
    "##########################################################\n",
    "######################### ACQUISITION ####################\n",
    "##########################################################\n",
    "# pain learning based on my defintion in acquisition phase\n",
    "alldata_behav_incl.loc[:,'y_valpainlearn_acq']=\\\n",
    "(valencedata_wide_excl.loc[:,('acq','pain',4)]-valencedata_wide_excl.loc[:,('hab','pain',0)])-\\\n",
    "(valencedata_wide_excl.loc[:,('acq','minus',4)]- valencedata_wide_excl.loc[:,('hab','minus',0)])\n",
    "# tone learning based on my definition in acquisition phase\n",
    "alldata_behav_incl.loc[:,'y_valtonelearn_acq']=\\\n",
    "(valencedata_wide_excl.loc[:,('acq','tone',4)]-valencedata_wide_excl.loc[:,('hab','tone',0)])-\\\n",
    "(valencedata_wide_excl.loc[:,('acq','minus',4)]- valencedata_wide_excl.loc[:,('hab','minus',0)])\n",
    "# fear learning, solely include the CS pain valence rating\n",
    "alldata_behav_incl.loc[:,'y_valpainlearn_onlypain_acq']=\\\n",
    "(valencedata_wide_excl.loc[:,('acq','pain',4)]-valencedata_wide_excl.loc[:,('hab','pain',0)])\n",
    "# fear learning solely include the CS tone valence ratings\n",
    "alldata_behav_incl.loc[:,'y_valtonelearn_onlytone_acq']=\\\n",
    "(valencedata_wide_excl.loc[:,('acq','tone',4)]-valencedata_wide_excl.loc[:,('hab','tone',0)])\n",
    "# safety learning, solely include the CS neutral valence ratings\n",
    "alldata_behav_incl.loc[:,'y_safetylearning_acq']=\\\n",
    "(valencedata_wide_excl.loc[:,('acq','minus',4)]- valencedata_wide_excl.loc[:,('hab','minus',0)])\n",
    "# all CS learn\n",
    "alldata_behav_incl.loc[:,'y_valpaintoneminus_learn_acq']=\\\n",
    "(valencedata_wide_excl.loc[:,('acq','pain',4)]-valencedata_wide_excl.loc[:,('hab','pain',0)])-\\\n",
    "(valencedata_wide_excl.loc[:,('acq','minus',4)]- valencedata_wide_excl.loc[:,('hab','minus',0)])+\\\n",
    "(valencedata_wide_excl.loc[:,('acq','tone',4)]-valencedata_wide_excl.loc[:,('hab','tone',0)])\n",
    "# fear learning only subtract the end of acquisition safety and cspain valence values(not include habituation valence ratings)\n",
    "alldata_behav_incl.loc[:,'y_valpainlearn_noHAB_acq']=\\\n",
    "(valencedata_wide_excl.loc[:,('acq','pain',4)])-\\\n",
    "(valencedata_wide_excl.loc[:,('acq','minus',4)])\n",
    "\n",
    "##########################################################\n",
    "######################### EXTINCTION #####################\n",
    "##########################################################\n",
    "# valence change in the extinction (calculated from the last valence rating of acquisition phase)\n",
    "alldata_behav_incl.loc[:,'y_valpainlearn_lastacq_ext']=\\\n",
    "(valencedata_wide_excl.loc[:,('ext','pain',3)]-valencedata_wide_excl.loc[:,('acq','pain',4)])-\\\n",
    "(valencedata_wide_excl.loc[:,('ext','minus',3)]- valencedata_wide_excl.loc[:,('acq','minus',4)])\n",
    "# valence change in the extinction (calculated from the last valence rating of acquisition phase)\n",
    "alldata_behav_incl.loc[:,'y_valtonelearn_lastacq_ext']=\\\n",
    "(valencedata_wide_excl.loc[:,('ext','tone',3)]-valencedata_wide_excl.loc[:,('acq','tone',4)])-\\\n",
    "(valencedata_wide_excl.loc[:,('ext','minus',3)]- valencedata_wide_excl.loc[:,('acq','minus',4)])\n",
    "# valence change solely on the pain valnce change(not contrasted to the neutral stimulus)\n",
    "alldata_behav_incl.loc[:,'y_valpainlearn_onlypain_lastacq_ext']=\\\n",
    "(valencedata_wide_excl.loc[:,('ext','pain',3)]-valencedata_wide_excl.loc[:,('acq','pain',4)])\n",
    "# solely tone learning during extinction\n",
    "alldata_behav_incl.loc[:,'y_valtonelearn_onlytone_lastacq_ext']=\\\n",
    "(valencedata_wide_excl.loc[:,('ext','tone',3)]-valencedata_wide_excl.loc[:,('acq','tone',4)])\n",
    "# safety learning, solely include the CS neutral valence ratings\n",
    "alldata_behav_incl.loc[:,'y_safetylearning_ext']=\\\n",
    "(valencedata_wide_excl.loc[:,('ext','minus',3)]- valencedata_wide_excl.loc[:,('acq','minus',4)])\n",
    "#alldata_behav_incl.head()"
   ],
   "metadata": {
    "collapsed": false,
    "pycharm": {
     "name": "#%%\n"
    }
   }
  },
  {
   "cell_type": "code",
   "execution_count": 62,
   "outputs": [],
   "source": [
    "# contingency ratings for the different stimuli\n",
    "# CSpain cont in acquisition\n",
    "alldata_behav_incl.loc[:,'y_paincont_acq']=\\\n",
    "contingencyrat_incl.loc[:,'acqkon_CS_pain_transf']\n",
    "# CStone cont in acquisition\n",
    "alldata_behav_incl.loc[:,'y_tonecont_acq']=\\\n",
    "contingencyrat_incl.loc[:,'acqkon_CS_tone_transf']\n",
    "#CS minus cont in acquisition\n",
    "alldata_behav_incl.loc[:,'y_safetycont_acq']=\\\n",
    "contingencyrat_incl.loc[:,'acqkon_CS_minus_transf']\n",
    "# CSpain cont in extinction\n",
    "alldata_behav_incl.loc[:,'y_paincont_ext']=\\\n",
    "contingencyrat_incl.loc[:,'extkon_CS_pain_transf']\n",
    "# CStone cont in extinction\n",
    "alldata_behav_incl.loc[:,'y_tonecont_ext']=\\\n",
    "contingencyrat_incl.loc[:,'extkon_CS_tone_transf']\n",
    "#CS minus cont in extinction\n",
    "alldata_behav_incl.loc[:,'y_safetycont_ext']=\\\n",
    "contingencyrat_incl.loc[:,'extkon_CS_minus_transf']"
   ],
   "metadata": {
    "collapsed": false,
    "pycharm": {
     "name": "#%%\n"
    }
   }
  },
  {
   "cell_type": "code",
   "execution_count": 63,
   "outputs": [],
   "source": [
    "# other secondary outcome variables\n",
    "alldata_behav_incl=alldata_behav_incl.join(contingencyrat_incl[['hab_UCS_pain_vas', 'hab_UCS_tone_vas','PASS_D1', 'PASS_D2', 'PASS_D3', 'PASS_D4', 'PCS', 'ADS']])"
   ],
   "metadata": {
    "collapsed": false,
    "pycharm": {
     "name": "#%%\n"
    }
   }
  },
  {
   "cell_type": "code",
   "execution_count": 64,
   "outputs": [
    {
     "name": "stdout",
     "output_type": "stream",
     "text": [
      "Index(['age', 'anxiety_pain', 'anxiety_tone', 'diff_anxiety', 'hpt', 'sex',\n",
      "       'y_valpainlearn_acq', 'y_valtonelearn_acq',\n",
      "       'y_valpainlearn_onlypain_acq', 'y_valtonelearn_onlytone_acq',\n",
      "       'y_safetylearning_acq', 'y_valpaintoneminus_learn_acq',\n",
      "       'y_valpainlearn_noHAB_acq', 'y_valpainlearn_lastacq_ext',\n",
      "       'y_valtonelearn_lastacq_ext', 'y_valpainlearn_onlypain_lastacq_ext',\n",
      "       'y_valtonelearn_onlytone_lastacq_ext', 'y_safetylearning_ext',\n",
      "       'y_paincont_acq', 'y_tonecont_acq', 'y_safetycont_acq',\n",
      "       'y_paincont_ext', 'y_tonecont_ext', 'y_safetycont_ext',\n",
      "       'hab_UCS_pain_vas', 'hab_UCS_tone_vas', 'PASS_D1', 'PASS_D2', 'PASS_D3',\n",
      "       'PASS_D4', 'PCS', 'ADS'],\n",
      "      dtype='object')\n",
      "The shape of our predictor matrix: (25, 7503)\n",
      "The shape of our outcome variable: (25,)\n"
     ]
    }
   ],
   "source": [
    "print(alldata_behav_incl.columns)\n",
    "yvar = 'y_valpainlearn_acq'\n",
    "X_predictor = data_conn.to_numpy()\n",
    "print('The shape of our predictor matrix:',X_predictor.shape)\n",
    "y_predictor = alldata_behav_incl[yvar].to_numpy()\n",
    "#y_predictor = behavforcorr['medianFD'].values\n",
    "\n",
    "print('The shape of our outcome variable:', y_predictor.shape)"
   ],
   "metadata": {
    "collapsed": false,
    "pycharm": {
     "name": "#%%\n"
    }
   }
  },
  {
   "cell_type": "code",
   "execution_count": 65,
   "outputs": [
    {
     "name": "stdout",
     "output_type": "stream",
     "text": [
      "**** Non-nested analysis ****\n",
      "** Best hyperparameters: {'fsel__k': 30, 'model__alpha': 0.005}\n",
      "** Score on full data as training set:\t-1.0521850391342011\n",
      "** Score on mean as model: -543.4399999999999\n",
      "** Best Non-nested cross-validated score on test:\t-320.58734778131196\n",
      "XXXXX Explained Variance: 0.41007774955595466\n",
      "**** Nested analysis ****\n",
      "model\tinner_cv mean score\touter vc score\n",
      "{'fsel__k': 30, 'model__alpha': 0.001} -429.6771098710048 -461.7373455149988\n",
      "{'fsel__k': 30, 'model__alpha': 0.001} -345.414306580669 -195.2439336596395\n",
      "{'fsel__k': 40, 'model__alpha': 0.001} -456.8376926602004 -180.93994611304544\n",
      "{'fsel__k': 40, 'model__alpha': 0.001} -397.2534493944215 -869.8527555363278\n",
      "{'fsel__k': 40, 'model__alpha': 0.001} -378.6260605637852 -10.695561863718014\n",
      "{'fsel__k': 30, 'model__alpha': 0.005} -447.9470352525797 -215.18820066625887\n",
      "{'fsel__k': 20, 'model__alpha': 0.005} -358.4506576529325 -381.3689560370901\n",
      "{'fsel__k': 25, 'model__alpha': 0.001} -413.22360018788646 -669.2794833271723\n",
      "{'fsel__k': 20, 'model__alpha': 0.005} -279.45737407214716 -1151.6173782103422\n",
      "{'fsel__k': 45, 'model__alpha': 0.001} -513.1679273790016 -4.18862922198829\n",
      "{'fsel__k': 35, 'model__alpha': 0.005} -389.7531087345355 -2.5334039596343803\n",
      "{'fsel__k': 35, 'model__alpha': 0.01} -378.8021749517927 -1414.3857868825621\n",
      "{'fsel__k': 35, 'model__alpha': 0.001} -359.60974876754625 -53.223108923100845\n",
      "{'fsel__k': 25, 'model__alpha': 0.005} -328.62436605721956 -124.34807030526837\n",
      "{'fsel__k': 20, 'model__alpha': 0.005} -305.0102297597717 -649.8823894031185\n",
      "{'fsel__k': 35, 'model__alpha': 0.005} -319.14423405521853 -114.6357199069005\n",
      "{'fsel__k': 30, 'model__alpha': 0.001} -316.40408742166875 -157.9909506460644\n",
      "{'fsel__k': 80, 'model__alpha': 0.001} -470.30738358064855 -855.247082031764\n",
      "{'fsel__k': 35, 'model__alpha': 0.001} -362.8412427307837 -728.0532853939272\n",
      "{'fsel__k': 40, 'model__alpha': 0.001} -402.8649559412679 -1.4523546161119016\n",
      "{'fsel__k': 25, 'model__alpha': 0.005} -389.0945266390401 -118.2561406966607\n",
      "{'fsel__k': 40, 'model__alpha': 0.001} -389.73972691345267 -233.04844007431262\n",
      "{'fsel__k': 25, 'model__alpha': 0.01} -431.9669064226819 -363.1894588956743\n",
      "{'fsel__k': 40, 'model__alpha': 0.001} -357.917632417234 -803.3372566537686\n",
      "{'fsel__k': 20, 'model__alpha': 0.001} -307.97668464644465 -588.7226142095602\n",
      "*** Score on mean as model:\t-543.4399999999999\n",
      "** Mean score in the inner crossvaludation (inner_cv):\t-381.20448890615734\n",
      "** Std score in the inner crossvaludation (inner_cv):\t55.82389931965925\n",
      "** Mean Nested Crossvalidation Score (outer_cv):\t-413.9367301099604\n",
      "** Std Nested Crossvalidation Score (outer_cv):\t382.41597033896574\n",
      "Explained Variance: 0.23830279311430802\n",
      "Correlation: 0.5170303351033456\n"
     ]
    },
    {
     "name": "stderr",
     "output_type": "stream",
     "text": [
      "/home/balint/PROGRAMS/anaconda3/envs/paintone/lib/python3.8/site-packages/numpy/core/fromnumeric.py:3419: RuntimeWarning: Mean of empty slice.\n",
      "  return _methods._mean(a, axis=axis, dtype=dtype,\n",
      "/home/balint/PROGRAMS/anaconda3/envs/paintone/lib/python3.8/site-packages/numpy/core/_methods.py:188: RuntimeWarning: invalid value encountered in double_scalars\n",
      "  ret = ret.dtype.type(ret / rcount)\n"
     ]
    },
    {
     "data": {
      "text/plain": "<Figure size 432x288 with 1 Axes>",
      "image/png": "[encoded data removed]"
     },
     "metadata": {
      "needs_background": "light"
     },
     "output_type": "display_data"
    },
    {
     "name": "stdout",
     "output_type": "stream",
     "text": [
      "R2=0.509  R=0.714   p=0.000062  Expl. Var.: 41.0%  Expl. Var.2: 41.5%  MSE=320.587 RMSE=17.905  MAE=15.015 MedAE=11.913  R^2=0.410\n"
     ]
    },
    {
     "name": "stderr",
     "output_type": "stream",
     "text": [
      "/home/balint/PROGRAMS/anaconda3/envs/paintone/lib/python3.8/site-packages/seaborn/_decorators.py:36: FutureWarning: Pass the following variables as keyword args: x, y. From version 0.12, the only valid positional argument will be `data`, and passing other arguments without an explicit keyword will result in an error or misinterpretation.\n",
      "  warnings.warn(\n"
     ]
    },
    {
     "data": {
      "text/plain": "<Figure size 432x432 with 3 Axes>",
      "image/png": "[encoded data removed]"
     },
     "metadata": {
      "needs_background": "light"
     },
     "output_type": "display_data"
    }
   ],
   "source": [
    "X_ridg = X_predictor\n",
    "y_ridg = y_predictor #y_predictor\n",
    "\n",
    "mymodel, p_grid = pipe_scale_fsel_ridge_noscaler()\n",
    "#p_grid = {'fsel__k': [35], 'model__alpha': [.005]}\n",
    "m, avg_model, all_models, mycrossval, myfig, nestedpredictedvals = mytrain(X_ridg, y_ridg, mymodel, p_grid,\n",
    "                                                                              nested=True,\n",
    "                                                                              score='neg_mean_squared_error')\n",
    "myprediction = evaluate_crossval_prediction(m,X_ridg, y_ridg,outfile=[])"
   ],
   "metadata": {
    "collapsed": false,
    "pycharm": {
     "name": "#%%\n"
    }
   }
  },
  {
   "cell_type": "code",
   "execution_count": 71,
   "outputs": [],
   "source": [
    "# save the model\n",
    "filename = '/home/balint/CODE/Fear-conditiong-and-Rsns/data_out/finalmodel/finale_model_M1.sav'\n",
    "#pickle.dump(m, open(filename, 'wb'))\n",
    "loaded_model = pickle.load(open(filename, 'rb'))\n",
    "#result = loaded_model.score(X_test, Y_test)"
   ],
   "metadata": {
    "collapsed": false,
    "pycharm": {
     "name": "#%%\n"
    }
   }
  },
  {
   "cell_type": "code",
   "execution_count": 67,
   "outputs": [
    {
     "name": "stdout",
     "output_type": "stream",
     "text": [
      "This is the main model. The connections are listed in strength order.\n",
      "the total number of predictive connections:30\n"
     ]
    },
    {
     "data": {
      "text/plain": "                        conn   strenght\n0           [CERCR1, CER6_d]  19.936245\n1    [R_CERCR2_p, L_IPlob.1] -20.626237\n2         [CER7b_m, PRC_d.1] -12.664019\n3         [PRC_v, R_MFgyr_a]  22.326984\n4               [CER9_d, FP]   2.825834\n5         [POsul_v, SPlob.1]  20.670183\n6      [SPlob.1, L_MFgyr_pr]   6.547995\n7         [L_DVIS_v, R_PORB] -36.199498\n8         [R_IPsul, L_IPsul]  33.612956\n9        [R_ANGgyr, DVIS_vl] -15.201830\n10         [CER7b_m, COLsul]  41.789489\n11         [PGACcor, PINS_v]  27.580315\n12            [DVIS_vl, AMY] -15.078537\n13     [PINS_v, L_MOTnet_dl]  45.758609\n14        [LORBgyr, PCsul_d]   6.456261\n15        [L_IPlob.1, IMsul]  -3.762365\n16     [DMPFcor_ac, STgyr_p]   7.246412\n17      [CAUDNH_NACC, PUT_a]  26.762979\n18        [DMPFC_ar, THAL_v]   2.870853\n19       [DMPFC_ar, STgyr_m]   2.914409\n20   [L_MTgyr_a, MDVISnet_p]  15.597163\n21     [L_IPlob, MDVISnet_p]  28.798373\n22       [PCcor, LVISnet_vp] -28.120602\n23   [L_MTgyr_a, PVISnet_dm]  11.521963\n24       [PIsul, PVISnet_dm]  21.065325\n25       [PUT_p, PVISnet_dm] -29.782826\n26  [L_CERCR2_a, MVISnet_ad]  28.867435\n27        [CER5, MVISnet_ad] -29.406609\n28     [AINS_ad, LVISnet_DP] -21.133040\n29       [THAL_d, VVISnet_m] -45.549817",
      "text/html": "<div>\n<style scoped>\n    .dataframe tbody tr th:only-of-type {\n        vertical-align: middle;\n    }\n\n    .dataframe tbody tr th {\n        vertical-align: top;\n    }\n\n    .dataframe thead th {\n        text-align: right;\n    }\n</style>\n<table border=\"1\" class=\"dataframe\">\n  <thead>\n    <tr style=\"text-align: right;\">\n      <th></th>\n      <th>conn</th>\n      <th>strenght</th>\n    </tr>\n  </thead>\n  <tbody>\n    <tr>\n      <th>0</th>\n      <td>[CERCR1, CER6_d]</td>\n      <td>19.936245</td>\n    </tr>\n    <tr>\n      <th>1</th>\n      <td>[R_CERCR2_p, L_IPlob.1]</td>\n      <td>-20.626237</td>\n    </tr>\n    <tr>\n      <th>2</th>\n      <td>[CER7b_m, PRC_d.1]</td>\n      <td>-12.664019</td>\n    </tr>\n    <tr>\n      <th>3</th>\n      <td>[PRC_v, R_MFgyr_a]</td>\n      <td>22.326984</td>\n    </tr>\n    <tr>\n      <th>4</th>\n      <td>[CER9_d, FP]</td>\n      <td>2.825834</td>\n    </tr>\n    <tr>\n      <th>5</th>\n      <td>[POsul_v, SPlob.1]</td>\n      <td>20.670183</td>\n    </tr>\n    <tr>\n      <th>6</th>\n      <td>[SPlob.1, L_MFgyr_pr]</td>\n      <td>6.547995</td>\n    </tr>\n    <tr>\n      <th>7</th>\n      <td>[L_DVIS_v, R_PORB]</td>\n      <td>-36.199498</td>\n    </tr>\n    <tr>\n      <th>8</th>\n      <td>[R_IPsul, L_IPsul]</td>\n      <td>33.612956</td>\n    </tr>\n    <tr>\n      <th>9</th>\n      <td>[R_ANGgyr, DVIS_vl]</td>\n      <td>-15.201830</td>\n    </tr>\n    <tr>\n      <th>10</th>\n      <td>[CER7b_m, COLsul]</td>\n      <td>41.789489</td>\n    </tr>\n    <tr>\n      <th>11</th>\n      <td>[PGACcor, PINS_v]</td>\n      <td>27.580315</td>\n    </tr>\n    <tr>\n      <th>12</th>\n      <td>[DVIS_vl, AMY]</td>\n      <td>-15.078537</td>\n    </tr>\n    <tr>\n      <th>13</th>\n      <td>[PINS_v, L_MOTnet_dl]</td>\n      <td>45.758609</td>\n    </tr>\n    <tr>\n      <th>14</th>\n      <td>[LORBgyr, PCsul_d]</td>\n      <td>6.456261</td>\n    </tr>\n    <tr>\n      <th>15</th>\n      <td>[L_IPlob.1, IMsul]</td>\n      <td>-3.762365</td>\n    </tr>\n    <tr>\n      <th>16</th>\n      <td>[DMPFcor_ac, STgyr_p]</td>\n      <td>7.246412</td>\n    </tr>\n    <tr>\n      <th>17</th>\n      <td>[CAUDNH_NACC, PUT_a]</td>\n      <td>26.762979</td>\n    </tr>\n    <tr>\n      <th>18</th>\n      <td>[DMPFC_ar, THAL_v]</td>\n      <td>2.870853</td>\n    </tr>\n    <tr>\n      <th>19</th>\n      <td>[DMPFC_ar, STgyr_m]</td>\n      <td>2.914409</td>\n    </tr>\n    <tr>\n      <th>20</th>\n      <td>[L_MTgyr_a, MDVISnet_p]</td>\n      <td>15.597163</td>\n    </tr>\n    <tr>\n      <th>21</th>\n      <td>[L_IPlob, MDVISnet_p]</td>\n      <td>28.798373</td>\n    </tr>\n    <tr>\n      <th>22</th>\n      <td>[PCcor, LVISnet_vp]</td>\n      <td>-28.120602</td>\n    </tr>\n    <tr>\n      <th>23</th>\n      <td>[L_MTgyr_a, PVISnet_dm]</td>\n      <td>11.521963</td>\n    </tr>\n    <tr>\n      <th>24</th>\n      <td>[PIsul, PVISnet_dm]</td>\n      <td>21.065325</td>\n    </tr>\n    <tr>\n      <th>25</th>\n      <td>[PUT_p, PVISnet_dm]</td>\n      <td>-29.782826</td>\n    </tr>\n    <tr>\n      <th>26</th>\n      <td>[L_CERCR2_a, MVISnet_ad]</td>\n      <td>28.867435</td>\n    </tr>\n    <tr>\n      <th>27</th>\n      <td>[CER5, MVISnet_ad]</td>\n      <td>-29.406609</td>\n    </tr>\n    <tr>\n      <th>28</th>\n      <td>[AINS_ad, LVISnet_DP]</td>\n      <td>-21.133040</td>\n    </tr>\n    <tr>\n      <th>29</th>\n      <td>[THAL_d, VVISnet_m]</td>\n      <td>-45.549817</td>\n    </tr>\n  </tbody>\n</table>\n</div>"
     },
     "execution_count": 67,
     "metadata": {},
     "output_type": "execute_result"
    }
   ],
   "source": [
    "# get the most important connections from our model\n",
    "finalemodel = m\n",
    "print('This is the main model. The connections are listed in strength order.')\n",
    "\n",
    "zip_dict_labelnames=zip(list(labelinf['label']),list(labelinf['name']))\n",
    "dict_labelnames=dict(zip_dict_labelnames)\n",
    "# add global signal by hand\n",
    "dict_labelnames['GlobSig'] = 'Global Signal'\n",
    "#define the connections in our model, this include the short name of the connection pair and the strenght in the model\n",
    "connections = pd.DataFrame(list((listoflabelpairs[i],finalemodel[1].coef_[idx]) for idx,i in enumerate(finalemodel[0].get_support(indices=True))),\n",
    "                           columns=['conn','strenght'])\n",
    "#print(connections.head())\n",
    "print('the total number of predictive connections:'+str(len(connections)))\n",
    "connections"
   ],
   "metadata": {
    "collapsed": false,
    "pycharm": {
     "name": "#%%\n"
    }
   }
  },
  {
   "cell_type": "code",
   "execution_count": 68,
   "outputs": [
    {
     "name": "stdout",
     "output_type": "stream",
     "text": [
      "['R_CERCR2_p', 'L_IPlob.1']\n",
      "['CER7b_m', 'PRC_d.1']\n",
      "['POsul_v', 'SPlob.1']\n",
      "['SPlob.1', 'L_MFgyr_pr']\n",
      "['L_IPlob.1', 'IMsul']\n"
     ]
    },
    {
     "data": {
      "text/plain": "                        conn   strenght  \\\n13     [PINS_v, L_MOTnet_dl]  45.758609   \n29       [THAL_d, VVISnet_m] -45.549817   \n10         [CER7b_m, COLsul]  41.789489   \n7         [L_DVIS_v, R_PORB] -36.199498   \n8         [R_IPsul, L_IPsul]  33.612956   \n25       [PUT_p, PVISnet_dm] -29.782826   \n27        [CER5, MVISnet_ad] -29.406609   \n26  [L_CERCR2_a, MVISnet_ad]  28.867435   \n21     [L_IPlob, MDVISnet_p]  28.798373   \n22       [PCcor, LVISnet_vp] -28.120602   \n11         [PGACcor, PINS_v]  27.580315   \n17      [CAUDNH_NACC, PUT_a]  26.762979   \n3         [PRC_v, R_MFgyr_a]  22.326984   \n28     [AINS_ad, LVISnet_DP] -21.133040   \n24       [PIsul, PVISnet_dm]  21.065325   \n5         [POsul_v, SPlob.1]  20.670183   \n1    [R_CERCR2_p, L_IPlob.1] -20.626237   \n0           [CERCR1, CER6_d]  19.936245   \n20   [L_MTgyr_a, MDVISnet_p]  15.597163   \n9        [R_ANGgyr, DVIS_vl] -15.201830   \n12            [DVIS_vl, AMY] -15.078537   \n2         [CER7b_m, PRC_d.1] -12.664019   \n23   [L_MTgyr_a, PVISnet_dm]  11.521963   \n16     [DMPFcor_ac, STgyr_p]   7.246412   \n6      [SPlob.1, L_MFgyr_pr]   6.547995   \n14        [LORBgyr, PCsul_d]   6.456261   \n15        [L_IPlob.1, IMsul]  -3.762365   \n19       [DMPFC_ar, STgyr_m]   2.914409   \n18        [DMPFC_ar, THAL_v]   2.870853   \n4               [CER9_d, FP]   2.825834   \n\n                                         region1  roival_region1  \\\n13                      POSTERIOR_INSULA_ventral            21.0   \n29                               THALAMUS_dorsal            31.0   \n10                        CEREBELLUM_VIIb_medial            18.0   \n7              left_DORSAL_VISUAL_STREAM_ventral            50.0   \n8                     right_INTRAPARIETAL_SULCUS            20.0   \n25                             PUTAMEN_posterior            25.0   \n27                                CEREBELLUM_I-V            48.0   \n26               left_CEREBELLUM_CRUSII_anterior            54.0   \n21                 left_INFERIOR_PARIETAL_LOBULE             4.0   \n22                    POSTERIOR_CINGULATE_CORTEX            24.0   \n11          PERIGENUAL_ANTERIOR_CINGULATE_CORTEX           115.0   \n17    CAUDATE_NUCLEUS_HEAD_and_NUCLEUS_ACCUMBENS            78.0   \n3                              PRECUNEUS_ventral            17.0   \n28                 ANTERIOR_INSULA_anteroodorsal            85.0   \n24                           PERI_INSULAR_SULCUS            30.0   \n5               PARIETO_OCCIPITAL_SULCUS_ventral            72.0   \n1              right_CEREBELLUM_CRUSII_posterior           121.0   \n0                               CEREBELLUM_CRUSI            84.0   \n20           left_MIDDLE_TEMPORAL_GYRUS_anterior            89.0   \n9                            right_ANGULAR_GYRUS            15.0   \n12            DORSAL_VISUAL_STREAM_ventrolateral           100.0   \n2                         CEREBELLUM_VIIb_medial            18.0   \n23           left_MIDDLE_TEMPORAL_GYRUS_anterior            89.0   \n16    DORSOMEDIAL_PREFRONTAL_CORTEX_anterocaudal            55.0   \n6                       SUPERIOR_PARIETAL_LOBULE            76.0   \n14                         LATERAL_ORBITAL_GYRUS           109.0   \n15                 left_INFERIOR_PARIETAL_LOBULE           114.0   \n19  DORSOMEDIAL_PREFRONTAL_CORTEX_anterororstral            87.0   \n18  DORSOMEDIAL_PREFRONTAL_CORTEX_anterororstral            87.0   \n4                           CEREBELLUM_IX_dorsal            11.0   \n\n                                     region2  roival_region2  \n13     left_SOMATOMOTOR_NETWORK_dorsolateral             8.0  \n29             VENTRAL_VISUAL_NETWORK_medial            40.0  \n10                         COLLATERAL_SULCUS            79.0  \n7                       right_PARS_ORBITALIS            92.0  \n8                  left_INTRAPARIETAL_SULCUS            74.0  \n25      POSTERIOR_VISUAL_NETWORK_dorsomedial            16.0  \n27        MEDIAL_VISUAL_NETWORK_anterodorsal            19.0  \n26        MEDIAL_VISUAL_NETWORK_anterodorsal            19.0  \n21      MEDIODORSAL_VISUAL_NETWORK_posterior            57.0  \n22    LATERAL_VISUAL_NETWORK_ventroposterior            81.0  \n11                  POSTERIOR_INSULA_ventral            21.0  \n17                          PUTAMEN_anterior            13.0  \n3        right_MIDDLE_FRONTAL_GYRUS_anterior            58.0  \n28     LATERAL_VISUAL_NETWORK_dorsoposterior            43.0  \n24      POSTERIOR_VISUAL_NETWORK_dorsomedial            16.0  \n5                   SUPERIOR_PARIETAL_LOBULE            76.0  \n1              left_INFERIOR_PARIETAL_LOBULE           114.0  \n0                       CEREBELLUM_VI_dorsal            44.0  \n20      MEDIODORSAL_VISUAL_NETWORK_posterior            57.0  \n9         DORSAL_VISUAL_STREAM_ventrolateral           100.0  \n12                                  AMYGDALA            71.0  \n2                           PRECUNEUS_dorsal            64.0  \n23      POSTERIOR_VISUAL_NETWORK_dorsomedial            16.0  \n16         SUPERIOR_TEMPORAL_GYRUS_posterior           119.0  \n6   left_MIDDLE_FRONTAL_GYRUS_posterorostral             7.0  \n14                 POSTCENTRAL_SULCUS_dorsal           116.0  \n15                  INFERIOR_MARGINAL_SULCUS           118.0  \n19            SUPERIOR_TEMPORAL_GYRUS_middle            88.0  \n18                          THALAMUS_ventral            36.0  \n4                               FRONTAL_POLE            75.0  ",
      "text/html": "<div>\n<style scoped>\n    .dataframe tbody tr th:only-of-type {\n        vertical-align: middle;\n    }\n\n    .dataframe tbody tr th {\n        vertical-align: top;\n    }\n\n    .dataframe thead th {\n        text-align: right;\n    }\n</style>\n<table border=\"1\" class=\"dataframe\">\n  <thead>\n    <tr style=\"text-align: right;\">\n      <th></th>\n      <th>conn</th>\n      <th>strenght</th>\n      <th>region1</th>\n      <th>roival_region1</th>\n      <th>region2</th>\n      <th>roival_region2</th>\n    </tr>\n  </thead>\n  <tbody>\n    <tr>\n      <th>13</th>\n      <td>[PINS_v, L_MOTnet_dl]</td>\n      <td>45.758609</td>\n      <td>POSTERIOR_INSULA_ventral</td>\n      <td>21.0</td>\n      <td>left_SOMATOMOTOR_NETWORK_dorsolateral</td>\n      <td>8.0</td>\n    </tr>\n    <tr>\n      <th>29</th>\n      <td>[THAL_d, VVISnet_m]</td>\n      <td>-45.549817</td>\n      <td>THALAMUS_dorsal</td>\n      <td>31.0</td>\n      <td>VENTRAL_VISUAL_NETWORK_medial</td>\n      <td>40.0</td>\n    </tr>\n    <tr>\n      <th>10</th>\n      <td>[CER7b_m, COLsul]</td>\n      <td>41.789489</td>\n      <td>CEREBELLUM_VIIb_medial</td>\n      <td>18.0</td>\n      <td>COLLATERAL_SULCUS</td>\n      <td>79.0</td>\n    </tr>\n    <tr>\n      <th>7</th>\n      <td>[L_DVIS_v, R_PORB]</td>\n      <td>-36.199498</td>\n      <td>left_DORSAL_VISUAL_STREAM_ventral</td>\n      <td>50.0</td>\n      <td>right_PARS_ORBITALIS</td>\n      <td>92.0</td>\n    </tr>\n    <tr>\n      <th>8</th>\n      <td>[R_IPsul, L_IPsul]</td>\n      <td>33.612956</td>\n      <td>right_INTRAPARIETAL_SULCUS</td>\n      <td>20.0</td>\n      <td>left_INTRAPARIETAL_SULCUS</td>\n      <td>74.0</td>\n    </tr>\n    <tr>\n      <th>25</th>\n      <td>[PUT_p, PVISnet_dm]</td>\n      <td>-29.782826</td>\n      <td>PUTAMEN_posterior</td>\n      <td>25.0</td>\n      <td>POSTERIOR_VISUAL_NETWORK_dorsomedial</td>\n      <td>16.0</td>\n    </tr>\n    <tr>\n      <th>27</th>\n      <td>[CER5, MVISnet_ad]</td>\n      <td>-29.406609</td>\n      <td>CEREBELLUM_I-V</td>\n      <td>48.0</td>\n      <td>MEDIAL_VISUAL_NETWORK_anterodorsal</td>\n      <td>19.0</td>\n    </tr>\n    <tr>\n      <th>26</th>\n      <td>[L_CERCR2_a, MVISnet_ad]</td>\n      <td>28.867435</td>\n      <td>left_CEREBELLUM_CRUSII_anterior</td>\n      <td>54.0</td>\n      <td>MEDIAL_VISUAL_NETWORK_anterodorsal</td>\n      <td>19.0</td>\n    </tr>\n    <tr>\n      <th>21</th>\n      <td>[L_IPlob, MDVISnet_p]</td>\n      <td>28.798373</td>\n      <td>left_INFERIOR_PARIETAL_LOBULE</td>\n      <td>4.0</td>\n      <td>MEDIODORSAL_VISUAL_NETWORK_posterior</td>\n      <td>57.0</td>\n    </tr>\n    <tr>\n      <th>22</th>\n      <td>[PCcor, LVISnet_vp]</td>\n      <td>-28.120602</td>\n      <td>POSTERIOR_CINGULATE_CORTEX</td>\n      <td>24.0</td>\n      <td>LATERAL_VISUAL_NETWORK_ventroposterior</td>\n      <td>81.0</td>\n    </tr>\n    <tr>\n      <th>11</th>\n      <td>[PGACcor, PINS_v]</td>\n      <td>27.580315</td>\n      <td>PERIGENUAL_ANTERIOR_CINGULATE_CORTEX</td>\n      <td>115.0</td>\n      <td>POSTERIOR_INSULA_ventral</td>\n      <td>21.0</td>\n    </tr>\n    <tr>\n      <th>17</th>\n      <td>[CAUDNH_NACC, PUT_a]</td>\n      <td>26.762979</td>\n      <td>CAUDATE_NUCLEUS_HEAD_and_NUCLEUS_ACCUMBENS</td>\n      <td>78.0</td>\n      <td>PUTAMEN_anterior</td>\n      <td>13.0</td>\n    </tr>\n    <tr>\n      <th>3</th>\n      <td>[PRC_v, R_MFgyr_a]</td>\n      <td>22.326984</td>\n      <td>PRECUNEUS_ventral</td>\n      <td>17.0</td>\n      <td>right_MIDDLE_FRONTAL_GYRUS_anterior</td>\n      <td>58.0</td>\n    </tr>\n    <tr>\n      <th>28</th>\n      <td>[AINS_ad, LVISnet_DP]</td>\n      <td>-21.133040</td>\n      <td>ANTERIOR_INSULA_anteroodorsal</td>\n      <td>85.0</td>\n      <td>LATERAL_VISUAL_NETWORK_dorsoposterior</td>\n      <td>43.0</td>\n    </tr>\n    <tr>\n      <th>24</th>\n      <td>[PIsul, PVISnet_dm]</td>\n      <td>21.065325</td>\n      <td>PERI_INSULAR_SULCUS</td>\n      <td>30.0</td>\n      <td>POSTERIOR_VISUAL_NETWORK_dorsomedial</td>\n      <td>16.0</td>\n    </tr>\n    <tr>\n      <th>5</th>\n      <td>[POsul_v, SPlob.1]</td>\n      <td>20.670183</td>\n      <td>PARIETO_OCCIPITAL_SULCUS_ventral</td>\n      <td>72.0</td>\n      <td>SUPERIOR_PARIETAL_LOBULE</td>\n      <td>76.0</td>\n    </tr>\n    <tr>\n      <th>1</th>\n      <td>[R_CERCR2_p, L_IPlob.1]</td>\n      <td>-20.626237</td>\n      <td>right_CEREBELLUM_CRUSII_posterior</td>\n      <td>121.0</td>\n      <td>left_INFERIOR_PARIETAL_LOBULE</td>\n      <td>114.0</td>\n    </tr>\n    <tr>\n      <th>0</th>\n      <td>[CERCR1, CER6_d]</td>\n      <td>19.936245</td>\n      <td>CEREBELLUM_CRUSI</td>\n      <td>84.0</td>\n      <td>CEREBELLUM_VI_dorsal</td>\n      <td>44.0</td>\n    </tr>\n    <tr>\n      <th>20</th>\n      <td>[L_MTgyr_a, MDVISnet_p]</td>\n      <td>15.597163</td>\n      <td>left_MIDDLE_TEMPORAL_GYRUS_anterior</td>\n      <td>89.0</td>\n      <td>MEDIODORSAL_VISUAL_NETWORK_posterior</td>\n      <td>57.0</td>\n    </tr>\n    <tr>\n      <th>9</th>\n      <td>[R_ANGgyr, DVIS_vl]</td>\n      <td>-15.201830</td>\n      <td>right_ANGULAR_GYRUS</td>\n      <td>15.0</td>\n      <td>DORSAL_VISUAL_STREAM_ventrolateral</td>\n      <td>100.0</td>\n    </tr>\n    <tr>\n      <th>12</th>\n      <td>[DVIS_vl, AMY]</td>\n      <td>-15.078537</td>\n      <td>DORSAL_VISUAL_STREAM_ventrolateral</td>\n      <td>100.0</td>\n      <td>AMYGDALA</td>\n      <td>71.0</td>\n    </tr>\n    <tr>\n      <th>2</th>\n      <td>[CER7b_m, PRC_d.1]</td>\n      <td>-12.664019</td>\n      <td>CEREBELLUM_VIIb_medial</td>\n      <td>18.0</td>\n      <td>PRECUNEUS_dorsal</td>\n      <td>64.0</td>\n    </tr>\n    <tr>\n      <th>23</th>\n      <td>[L_MTgyr_a, PVISnet_dm]</td>\n      <td>11.521963</td>\n      <td>left_MIDDLE_TEMPORAL_GYRUS_anterior</td>\n      <td>89.0</td>\n      <td>POSTERIOR_VISUAL_NETWORK_dorsomedial</td>\n      <td>16.0</td>\n    </tr>\n    <tr>\n      <th>16</th>\n      <td>[DMPFcor_ac, STgyr_p]</td>\n      <td>7.246412</td>\n      <td>DORSOMEDIAL_PREFRONTAL_CORTEX_anterocaudal</td>\n      <td>55.0</td>\n      <td>SUPERIOR_TEMPORAL_GYRUS_posterior</td>\n      <td>119.0</td>\n    </tr>\n    <tr>\n      <th>6</th>\n      <td>[SPlob.1, L_MFgyr_pr]</td>\n      <td>6.547995</td>\n      <td>SUPERIOR_PARIETAL_LOBULE</td>\n      <td>76.0</td>\n      <td>left_MIDDLE_FRONTAL_GYRUS_posterorostral</td>\n      <td>7.0</td>\n    </tr>\n    <tr>\n      <th>14</th>\n      <td>[LORBgyr, PCsul_d]</td>\n      <td>6.456261</td>\n      <td>LATERAL_ORBITAL_GYRUS</td>\n      <td>109.0</td>\n      <td>POSTCENTRAL_SULCUS_dorsal</td>\n      <td>116.0</td>\n    </tr>\n    <tr>\n      <th>15</th>\n      <td>[L_IPlob.1, IMsul]</td>\n      <td>-3.762365</td>\n      <td>left_INFERIOR_PARIETAL_LOBULE</td>\n      <td>114.0</td>\n      <td>INFERIOR_MARGINAL_SULCUS</td>\n      <td>118.0</td>\n    </tr>\n    <tr>\n      <th>19</th>\n      <td>[DMPFC_ar, STgyr_m]</td>\n      <td>2.914409</td>\n      <td>DORSOMEDIAL_PREFRONTAL_CORTEX_anterororstral</td>\n      <td>87.0</td>\n      <td>SUPERIOR_TEMPORAL_GYRUS_middle</td>\n      <td>88.0</td>\n    </tr>\n    <tr>\n      <th>18</th>\n      <td>[DMPFC_ar, THAL_v]</td>\n      <td>2.870853</td>\n      <td>DORSOMEDIAL_PREFRONTAL_CORTEX_anterororstral</td>\n      <td>87.0</td>\n      <td>THALAMUS_ventral</td>\n      <td>36.0</td>\n    </tr>\n    <tr>\n      <th>4</th>\n      <td>[CER9_d, FP]</td>\n      <td>2.825834</td>\n      <td>CEREBELLUM_IX_dorsal</td>\n      <td>11.0</td>\n      <td>FRONTAL_POLE</td>\n      <td>75.0</td>\n    </tr>\n  </tbody>\n</table>\n</div>"
     },
     "execution_count": 68,
     "metadata": {},
     "output_type": "execute_result"
    }
   ],
   "source": [
    "# this part only\n",
    "dict_roivalues = dict(zip(list(labelinf['roi']),list(labelinf['label'])))\n",
    "#add global signal by hand\n",
    "dict_roivalues[123]='GlobSig'\n",
    "# we have to play around a little as the short names of certain ROIs are in the list two times because they are neighbouring areas in the MIST122 atlas.\n",
    "# (e.g. the superior parietal lobule is the 1st and 76th ROI as well, but that two region anatomical coordinates are differ a bit(see the MIST122 table for detail)\n",
    "for row, ind in enumerate(connections['conn']):\n",
    "    if ind[0][-2:]=='.1':\n",
    "        print(ind)\n",
    "        connections.loc[row,'region1'] = dict_labelnames[ind[0][:-2]]\n",
    "        connections.loc[row,'roival_region1'] = [list(dict_roivalues.keys())[i] for i, n in enumerate(list(dict_roivalues.values())) if n == ind[0][:-2]][1]\n",
    "    else:\n",
    "        connections.loc[row,'region1'] = dict_labelnames[ind[0]]\n",
    "        connections.loc[row,'roival_region1'] = [list(dict_roivalues.keys())[i] for i, n in enumerate(list(dict_roivalues.values())) if n == ind[0]][0]\n",
    "    if ind[1][-2:]=='.1':\n",
    "        print(ind)\n",
    "        connections.loc[row,'region2'] = dict_labelnames[ind[1][:-2]]\n",
    "        connections.loc[row,'roival_region2'] = [list(dict_roivalues.keys())[i] for i, n in enumerate(list(dict_roivalues.values())) if n == ind[1][:-2]][1]\n",
    "    else:\n",
    "        connections.loc[row,'region2'] = dict_labelnames[ind[1]]\n",
    "        connections.loc[row,'roival_region2'] = [list(dict_roivalues.keys())[i] for i, n in enumerate(list(dict_roivalues.values())) if n == ind[1]][0]\n",
    "\n",
    "ordered_connections = connections.reindex(connections.strenght.abs().sort_values(ascending=False).index)\n",
    "ordered_connections"
   ],
   "metadata": {
    "collapsed": false,
    "pycharm": {
     "name": "#%%\n"
    }
   }
  },
  {
   "cell_type": "code",
   "execution_count": 68,
   "outputs": [],
   "source": [
    "\n"
   ],
   "metadata": {
    "collapsed": false,
    "pycharm": {
     "name": "#%%\n"
    }
   }
  }
 ],
 "metadata": {
  "kernelspec": {
   "name": "pycharm-b531d5fd",
   "language": "python",
   "display_name": "PyCharm (Fear-conditiong-and-Rsns)"
  },
  "language_info": {
   "codemirror_mode": {
    "name": "ipython",
    "version": 2
   },
   "file_extension": ".py",
   "mimetype": "text/x-python",
   "name": "python",
   "nbconvert_exporter": "python",
   "pygments_lexer": "ipython2",
   "version": "2.7.6"
  }
 },
 "nbformat": 4,
 "nbformat_minor": 0
}