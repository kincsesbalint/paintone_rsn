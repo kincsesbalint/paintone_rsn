{
 "cells": [
  {
   "cell_type": "code",
   "execution_count": 1,
   "metadata": {
    "collapsed": true
   },
   "outputs": [],
   "source": [
    "# import necessary packages\n",
    "import os\n",
    "import seaborn as sns\n",
    "import pandas as pd\n",
    "import pingouin as pg\n",
    "import numpy as np\n",
    "from tqdm import tqdm\n",
    "from IPython.display import display\n",
    "from random import choices\n",
    "import pickle\n",
    "\n",
    "import scipy.stats as st\n",
    "from scipy import stats\n",
    "import statsmodels.api as sm\n",
    "import matplotlib.pyplot as plt\n",
    "from mlxtend.evaluate import permutation_test\n",
    "from matplotlib.colors import ListedColormap\n",
    "\n",
    "from nilearn.connectome import ConnectivityMeasure\n",
    "\n",
    "from sklearn.preprocessing import StandardScaler, RobustScaler\n",
    "from sklearn.covariance import LedoitWolf, EmpiricalCovariance\n",
    "from sklearn.model_selection import cross_val_score, cross_validate, cross_val_predict, GridSearchCV, LeaveOneOut, KFold\n",
    "from sklearn.linear_model import Ridge, RidgeCV, ElasticNet, ElasticNetCV, LinearRegression\n",
    "from sklearn.feature_selection import SelectKBest, f_regression\n",
    "from sklearn.pipeline import Pipeline\n",
    "from sklearn.metrics import mean_squared_error, mean_absolute_error, median_absolute_error, r2_score, explained_variance_score\n"
   ]
  },
  {
   "cell_type": "code",
   "execution_count": 88,
   "outputs": [],
   "source": [
    "# here are the functions which we use later\n",
    "def load_timeseries_roi(ts_files,subjid_kept,keepgs=True,standardise=True):\n",
    "    '''\n",
    "    We load the time series data of subjects who are included.\n",
    "    :param ts_files: the path to the time series data (output of the\n",
    "    :param subjid_kept: the IDs of participants (as ordered in the RPN-pipeline)\n",
    "    :param keepgs: if TRUE, keep the global signal as an additional \"ROI\"\n",
    "    :param standardise: if TRUE, standardise the time series upon loading\n",
    "    :return: ts - the loaded list timeseries files(each is a numpy array), the labels - names of ROIs\n",
    "    '''\n",
    "    timeseries = []\n",
    "    loadedsubjpath = []\n",
    "    nonloadedsubjpath = []\n",
    "    for i, f in enumerate(ts_files):\n",
    "        if i in subjid_kept:\n",
    "            #print('This is the ordered ID of our included participant:' + str(i)+'\\nthis is the file what we read in:\\n' + f)\n",
    "            #print('-'*65)\n",
    "            if keepgs:\n",
    "                ts = pd.read_csv(f, sep=\"\\t\") #keep the global signal\n",
    "                #labels = pd.read_csv(ts_files[0], sep=\"\\t\").columns\n",
    "            else:\n",
    "                ts = pd.read_csv(f, sep=\"\\t\").drop('GlobSig', 1).values # delete the global signal\n",
    "                #labels = pd.read_csv(ts_files[0], sep=\"\\t\").columns[1:]\n",
    "\n",
    "        # standardise timeseries\n",
    "            if standardise:\n",
    "                ts = StandardScaler().fit_transform(ts)\n",
    "            else:\n",
    "                ts = np.array(ts)\n",
    "            loadedsubjpath.append(f)\n",
    "            timeseries.append(ts)\n",
    "        else:\n",
    "            nonloadedsubjpath.append(f)\n",
    "            #print('We do not include participant with:\\t'+str(i)+'\\torderedID\\n who has the following path:'+f)\n",
    "            #print('-'*65)\n",
    "    print('We included ' + str(len(loadedsubjpath)) + ' participants')\n",
    "    labels = pd.read_csv(ts_files[0], sep=\"\\t\").columns\n",
    "    return timeseries, labels\n",
    "\n",
    "def vectorize_roipairs(labels):\n",
    "    '''\n",
    "    The order in the vectorized form of the connectivity matrix is not automatically generated.\n",
    "    With this custom built function we solve this:\n",
    "    One has to define the name of the ROIs in the order as it is in the orignial files\n",
    "    and the function determines the vectorized format of the connectivity matricies\n",
    "    :param labels: the label output of the load_timesesries_roi function\n",
    "    :return: the list of all the pair of ROIs in the order of the vectorized connectivity matrix\n",
    "    '''\n",
    "    numberofpredictors=int(((len(labels)*len(labels))-len(labels))/2)\n",
    "    pairofrois=np.zeros(shape=(numberofpredictors,2),dtype=int)\n",
    "    i=0\n",
    "    for ff in range(0,len(labels)):\n",
    "        for gg in range(0,ff):\n",
    "            pairofrois[i]= [gg,ff]\n",
    "            i=i+1\n",
    "\n",
    "    # so call as roilabels[pairofrois[z]]\n",
    "    vectorzedlabels = []\n",
    "    listoflabelpairs = []\n",
    "    for ii in pairofrois:\n",
    "        vectorzedlabels.append(labels[ii][0]+'+'+labels[ii][1])\n",
    "        listoflabelpairs.append([labels[ii][0],labels[ii][1]])\n",
    "    print('The number of connections between regions: '+str(len(listoflabelpairs)))\n",
    "    return vectorzedlabels, listoflabelpairs\n",
    "\n",
    "def connectivity_matrix(timeseries, kind='partial correlation',\n",
    "                        vect=True,covest=LedoitWolf()):\n",
    "    '''\n",
    "\n",
    "    :param timeseries: timeseries output of load_timeseries_roi function\n",
    "    :param kind: the type of correlation between pairs of ROIs.\n",
    "    :param vect: if TRUE, it returns the vectorized format of the connectivity matrix\n",
    "    :param covest: the covariance estimate, LedoitWolf is the default option\n",
    "    :return:\n",
    "    '''\n",
    "    # timeseries: as output by load_timeseries\n",
    "    correlation_measure = ConnectivityMeasure(kind=kind, vectorize=vect, discard_diagonal=True)\n",
    "    correlation_measure.cov_estimator = covest\n",
    "    correlation_matrix = correlation_measure.fit_transform(timeseries)\n",
    "    return correlation_matrix, correlation_measure\n",
    "\n",
    "def pipe_scale_fsel_ridge_noscaler( fsel=SelectKBest(f_regression),\n",
    "                          model=Ridge(max_iter=100000),\n",
    "                        #p_grid = {'fsel__k': [20, 25, 30, 35, 40, 45, 50, 60, 70, 80], 'model__alpha': [.001, .005, .01, .05, .1, .5]} # for fast re-calculation\n",
    "                        p_grid = {'fsel__k': np.linspace(10, 200, 39,dtype=int), 'model__alpha': [.001, .005, .01, .05, .1, .5, 1, 10]} # exhaustive, takes a lot of time\n",
    "                          ):\n",
    "    mymodel = Pipeline(\n",
    "        [ ('fsel', fsel),\n",
    "         ('model', model)])\n",
    "    return mymodel, p_grid\n",
    "\n",
    "def mytrain(X, y, model, p_grid, nested=False, score=\"neg_mean_squared_error\",model_averaging=True ):\n",
    "\n",
    "    inner_cv = LeaveOneOut()\n",
    "    outer_cv = LeaveOneOut() #KFold(n_splits=10)\n",
    "    predicted = np.array([])\n",
    "\n",
    "    clf = GridSearchCV(estimator=model, param_grid=p_grid, cv=inner_cv,\n",
    "                       scoring=score, verbose=False, return_train_score=False, n_jobs=10,refit=True)\n",
    "                      #pre_dispatch=6)\n",
    "    clf.fit(X, y)\n",
    "\n",
    "    print(\"**** Non-nested analysis ****\")\n",
    "    print (\"** Best hyperparameters: \" + str(clf.best_params_))\n",
    "\n",
    "    print (\"** Score on full data as training set:\\t\" + str(-mean_squared_error(y_pred=clf.best_estimator_.predict(X), y_true=y)))\n",
    "    print( \"** Score on mean as model: \" + str(-mean_squared_error(np.repeat(y.mean(), len(y)), y)))\n",
    "    print (\"** Best Non-nested cross-validated score on test:\\t\" + str(clf.best_score_))\n",
    "\n",
    "    model=clf.best_estimator_\n",
    "\n",
    "    print(\"XXXXX Explained Variance: \" + str(1 - clf.best_score_ / -mean_squared_error(np.repeat(y.mean(), len(y)), y)))\n",
    "\n",
    "    avg_model = None\n",
    "    all_models = []\n",
    "    if nested:\n",
    "        print (\"**** Nested analysis ****\")\n",
    "\n",
    "        #nested_scores = cross_val_score(clf, X, y, cv=outer_cv, scoring=\"explained_variance\")\n",
    "        #print \"** Nested Score on test:\\t\" + str(nested_scores.mean())\n",
    "        # this above has the same output as this below:\n",
    "\n",
    "        best_params = []\n",
    "        predicted = np.zeros(len(y))\n",
    "        actual = np.zeros(len(y))\n",
    "        nested_scores_train = np.zeros(outer_cv.get_n_splits(X))\n",
    "        nested_scores_test = np.zeros(outer_cv.get_n_splits(X))\n",
    "        nested_scores_test2 = np.zeros(outer_cv.get_n_splits(X))\n",
    "        i = 0\n",
    "        avg = []\n",
    "        # doing the crossval itewrations manually\n",
    "        print (\"model\\tinner_cv mean score\\touter vc score\")\n",
    "        for train, test in outer_cv.split(X, y):\n",
    "            clf.fit(X[train], y[train])\n",
    "\n",
    "            # model avaraging\n",
    "            #RES, mat, labels = get_full_coef(X[train], clf.best_estimator_, plot=False)\n",
    "            #avg.append(RES)\n",
    "            all_models.append(clf.best_estimator_)\n",
    "            # plot histograms to check distributions\n",
    "            #bins = np.linspace(-1.5, 1.5, 6)\n",
    "            #pyplot.hist(y[train], bins, alpha=0.5, label='train')\n",
    "            #pyplot.hist(y[test], bins, alpha=0.5, label='test')\n",
    "            #pyplot.legend(loc='upper right')\n",
    "            #pyplot.show()\n",
    "\n",
    "            print(str(clf.best_params_) + \" \" + str(clf.best_score_) + \" \" + str(clf.score(X[test], y[test])))\n",
    "            predicted[i] = clf.predict(X[test])\n",
    "            actual[i] = y[test]\n",
    "\n",
    "            best_params.append(clf.best_params_)\n",
    "            nested_scores_train[i] = clf.best_score_\n",
    "            nested_scores_test[i] = clf.score(X[test], y[test])\n",
    "            # clf.score is the same as calculating the score to the prediced values of the test dataset:\n",
    "            #nested_scores_test2[i] = explained_variance_score(y_pred=clf.predict(X[test]), y_true=y[test])\n",
    "            i = i+1\n",
    "\n",
    "        print (\"*** Score on mean as model:\\t\" + str(-mean_squared_error(np.repeat(y.mean(), len(y)), y)))\n",
    "        print (\"** Mean score in the inner crossvaludation (inner_cv):\\t\" + str(nested_scores_train.mean()))\n",
    "        print (\"** Std score in the inner crossvaludation (inner_cv):\\t\" + str(nested_scores_train.std()))\n",
    "        print (\"** Mean Nested Crossvalidation Score (outer_cv):\\t\" + str(nested_scores_test.mean()))\n",
    "        print (\"** Std Nested Crossvalidation Score (outer_cv):\\t\" + str(nested_scores_test.std()))\n",
    "\n",
    "        print (\"Explained Variance: \" +  str( 1- nested_scores_test.mean()/-mean_squared_error(np.repeat(y.mean(), len(y)), y) ))\n",
    "        print (\"Correlation: \" + str(np.corrcoef(actual, predicted)[0,1]))\n",
    "\n",
    "        avg_model = np.mean(np.array(avg), axis=0)\n",
    "\n",
    "        #plot the prediction of the outer cv\n",
    "        fig, ax = plt.subplots()\n",
    "        ax.scatter(actual, predicted, edgecolors=(0, 0, 0))\n",
    "       # ax.plot([y.min(), y.max()],\n",
    "        #           [y.min(), y.max()],\n",
    "         #          'k--',\n",
    "          #         lw=2)\n",
    "        ax.set_xlabel('Observed value')\n",
    "        ax.set_ylabel('Predicted (Nested LOO)')\n",
    "        plt.title(\"Expl. Var.:\" +  str( 1- nested_scores_test.mean()/-mean_squared_error(np.repeat(y.mean(), len(y)), y) ) +\n",
    "        \"\\nCorrelation: \" + str(np.corrcoef(actual, predicted)[0, 1]) )\n",
    "        plt.show()\n",
    "    else:\n",
    "        all_models = [model]\n",
    "        fig = []\n",
    "\n",
    "    model.fit(X, y) # fit to whole data\n",
    "\n",
    "    return model, avg_model, all_models, clf, fig, predicted\n",
    "\n",
    "def evaluate_crossval_prediction(model, X, y, outfile=\"\", cv=LeaveOneOut(), robust=False):\n",
    "    predicted = cross_val_predict(model, X, y, cv=cv)\n",
    "    p_value, r_2, residual, regline = pred_stat(y, predicted, robust=robust)\n",
    "\n",
    "    expl_var = ( 1- (-mean_squared_error(y_pred=predicted, y_true=y)\n",
    "                   /\n",
    "                   -mean_squared_error(np.repeat(y.mean(), len(y)), y) ))*100\n",
    "\n",
    "    print (\"R2=\" + \"{:.3f}\".format(r_2) + \"  R=\" + \"{:.3f}\".format(np.sqrt(r_2)) \\\n",
    "          + \"   p=\" + \"{:.6f}\".format(p_value) + \"  Expl. Var.: \" + \"{:.1f}\".format(expl_var) + \"%\" \\\n",
    "          + \"  Expl. Var.2: \" + \"{:.1f}\".format(explained_variance_score(y_pred=predicted, y_true=y)*100) + \"%\" \\\n",
    "          + \"  MSE=\" + \"{:.3f}\".format(mean_squared_error(y_pred=predicted, y_true=y)) \\\n",
    "          + \" RMSE=\" + \"{:.3f}\".format(np.sqrt(mean_squared_error(y_pred=predicted, y_true=y))) \\\n",
    "          + \"  MAE=\" + \"{:.3f}\".format(mean_absolute_error(y_pred=predicted, y_true=y)) \\\n",
    "          + \" MedAE=\" + \"{:.3f}\".format(median_absolute_error(y_pred=predicted, y_true=y)) \\\n",
    "          + \"  R^2=\" + \"{:.3f}\".format(r2_score(y_pred=predicted, y_true=y)))\n",
    "\n",
    "\n",
    "    plot_prediction(y, predicted, outfile, robust=robust, sd=True,\n",
    "                         text=\"$R2$=\" + \"{:.3f}\".format(r_2) +\n",
    "                              \"  p=\" + \"{:.3f}\".format(p_value) +\n",
    "                              \"  Expl. Var.: \" + \"{:.1f}\".format(expl_var) + \"%\"\n",
    "                         )\n",
    "    return predicted\n",
    "\n",
    "def plot_prediction(observed, predicted, outfile=\"\", covar=[], robust=False, sd=True, text=\"\"):\n",
    "    color = \"black\"\n",
    "    if len(covar):\n",
    "        g = sns.jointplot(observed, predicted, scatter=False, color=color, kind=\"reg\", robust=robust, x_ci=\"sd\", )\n",
    "        plt.scatter(observed, predicted,\n",
    "                    c=covar, cmap=ListedColormap(sns.color_palette([\"#5B5BFF\",\"#D73E68\"])))\n",
    "    else:\n",
    "        g = sns.jointplot(observed, predicted, kind=\"reg\", color=color, robust=robust, x_ci=\"sd\")\n",
    "    #sns.regplot(observed, predicted, color=\"b\", x_bins=10, x_ci=None)\n",
    "\n",
    "\n",
    "\n",
    "    if sd:\n",
    "        xlims=np.array(g.ax_joint.get_xlim())\n",
    "        if robust:\n",
    "            res = sm.RLM(predicted, sm.add_constant(observed)).fit()\n",
    "            coefs = res.params\n",
    "            residual = res.resid\n",
    "        else:\n",
    "            slope, intercept, r_value, p_value, std_err = stats.linregress(observed, predicted)\n",
    "            coefs=[intercept, slope]\n",
    "            regline = slope * observed + intercept\n",
    "            residual = observed - regline\n",
    "\n",
    "        S = np.sqrt(np.mean(residual**2))\n",
    "        upper = coefs[1] * xlims + coefs[0] + S/2\n",
    "        lower = coefs[1] * xlims + coefs[0] - S/2\n",
    "\n",
    "        plt.plot(xlims, upper, ':', color=color, linewidth=1, alpha=0.3)\n",
    "        plt.plot(xlims, lower, ':', color=color, linewidth=1, alpha=0.3)\n",
    "\n",
    "    if text:\n",
    "        plt.text(np.min(observed) - (np.max(predicted)-np.min(predicted))/3,\n",
    "                 np.max(predicted) + (np.max(predicted)-np.min(predicted))/3,\n",
    "                 text, fontsize=10)\n",
    "\n",
    "    if outfile:\n",
    "        figure = plt.gcf()\n",
    "        figure.savefig(outfile, bbox_inches='tight')\n",
    "        plt.close(figure)\n",
    "    else:\n",
    "        plt.show()\n",
    "\n",
    "def pred_stat(observed, predicted, robust=False):\n",
    "\n",
    "    # convert to np.array\n",
    "    observed = np.array(observed)\n",
    "    predicted = np.array(predicted)\n",
    "\n",
    "    #EXCLUDE NA-s:\n",
    "    predicted = predicted[~np.isnan(observed)]\n",
    "    observed = observed[~np.isnan(observed)]\n",
    "\n",
    "    if robust:\n",
    "        res = sm.RLM(observed, sm.add_constant(predicted)).fit()\n",
    "        p_value = res.pvalues[1]\n",
    "        regline = res.fittedvalues\n",
    "        residual = res.sresid\n",
    "\n",
    "        # this is a pseudo r_squared, see: https://stackoverflow.com/questions/31655196/how-to-get-r-squared-for-robust-regression-rlm-in-statsmodels\n",
    "        r_2 = sm.WLS(observed, sm.add_constant(predicted), weights=res.weights).fit().rsquared\n",
    "\n",
    "    else:\n",
    "        slope, intercept, r_value, p_value, std_err = stats.linregress(observed, predicted)\n",
    "        regline = slope*observed+intercept\n",
    "        r_2 = r_value**2\n",
    "        residual = observed - regline\n",
    "\n",
    "    return p_value, r_2, residual, regline\n"
   ],
   "metadata": {
    "collapsed": false,
    "pycharm": {
     "name": "#%%\n"
    }
   }
  },
  {
   "cell_type": "markdown",
   "source": [
    "## We work with the output of the RPN-signature (see https://spisakt.github.io/RPN-signature/ for details).\n",
    "### We called it in the following way:\n",
    "sudo docker run -it --rm -v .../A_data_mri/:/data:ro -v .../rpnresult/:/out tspisak/rpn-signature:latest /data /out participant --keep_all --mem_gb 20 --nthreads 10\n",
    "### We work with the three outputs:\n",
    "1. timeseries folder - contains all the participants' time series data from the MIST122 atlas (https://mniopenresearch.org/articles/1-3) (ROIs are columns).\n",
    "2. motion_summary.csv - the motion summary statistics (mean framewise displacement(FD),\tmedian FD, maximum FD, scrubbed percent (perc_scrubbed))\n",
    "3. subjectIDs.txt - The mapping between the study subject ID and the ID in the output of the RPN-signature."
   ],
   "metadata": {
    "collapsed": false,
    "pycharm": {
     "name": "#%% md\n"
    }
   }
  },
  {
   "cell_type": "code",
   "execution_count": 63,
   "outputs": [],
   "source": [
    "# define paths\n",
    "# load behavior data\n",
    "col_list1 = ['sub','sex', 'age','hpt','CS','valence','timepoint_phase', 'timepoint_phase2', 'phase']\n",
    "alldata = pd.read_csv('/home/balint/Documents/Katistudy/C_statistics/alldata.csv',\n",
    "                      usecols=col_list1,\n",
    "                      index_col='sub')\n",
    "# for subjectID (to map the RPN and original subject ID)\n",
    "# Load the sujectID file from the RPN output to easliy pair the indices with the appropriate participants:\n",
    "subjID_idx = pd.read_csv('../data_in/subjectsIDs.txt',header=None)\n",
    "# motion information\n",
    "motioninf = pd.read_csv(\"../data_in/motion_summary.csv\")\n",
    "\n",
    "# define path to the timeseries data\n",
    "ts_directory = \"../data_in/timeseries/\"\n",
    "#add label information from the used MIST atlas\n",
    "labelinf = pd.read_csv('../data_in/MIST_122.csv',sep=';')"
   ],
   "metadata": {
    "collapsed": false,
    "pycharm": {
     "name": "#%%\n"
    }
   }
  },
  {
   "cell_type": "code",
   "execution_count": 68,
   "outputs": [
    {
     "name": "stdout",
     "output_type": "stream",
     "text": [
      "We used the following thresholds: framewise discplacement < 0.15, percent of scrubbed volumes < 25 \n"
     ]
    }
   ],
   "source": [
    "# define subject IDs for exclusion and exclusion threshold for mean FD and scrubbed percent\n",
    "# collect all the particpants subjID who we would like to exclude and include based on the info from the measurement and the motion info\n",
    "# we exclude three of them because:\n",
    "# -subj 8 felt asleep in the scanner\n",
    "# -subj 18 - missing behavior data\n",
    "# -subj 31 - missing mri data\n",
    "excl_subnum = [8, 18,31]\n",
    "#define exclusion thresholds\n",
    "FDlimit = 0.15\n",
    "percscrublimit = 25\n",
    "insert_var = \"We used the following thresholds: framewise discplacement < %s, percent of scrubbed volumes < %s \"%(FDlimit, percscrublimit)\n",
    "print(insert_var)"
   ],
   "metadata": {
    "collapsed": false,
    "pycharm": {
     "name": "#%%\n"
    }
   }
  },
  {
   "cell_type": "code",
   "execution_count": 76,
   "outputs": [
    {
     "name": "stdout",
     "output_type": "stream",
     "text": [
      "We have MRI data from: 38 participants.\n",
      "These are the subjects ID who were excluded:\t[4, 7, 8, 14, 16, 18, 22, 24, 25, 29, 36, 43, 44] in total: 13\n",
      "These are the subjects ID who were included:\t[3, 5, 9, 12, 15, 17, 19, 20, 21, 23, 27, 28, 32, 33, 34, 35, 37, 38, 39, 40, 41, 42, 45, 46, 47] in total: 25\n",
      "In total we work with\t25\t participants.\n",
      "Number of participant excluded based on the motion parameters(FD>0.15,scrubbed percent>25):11\n",
      "These are the participants subjID whose excluded beforehand:\t[8, 18, 31]remember! sub-31 has no MRI data!\n"
     ]
    }
   ],
   "source": [
    "# create a dictionary in which the keys are the subject IDs defined in the study and the values are the ids in the RPN(the output simple an increasing\n",
    "dict_subjID_idx={}\n",
    "for idx, my_string in enumerate(subjID_idx[0].values):\n",
    "    dict_subjID_idx[int((my_string.split(\"func/sub-\",1)[1].split('_task',1)[0]))] = idx\n",
    "# exclude subject based on measurement info\n",
    "excl_indices = list(dict_subjID_idx[k] for k in excl_subnum if k in dict_subjID_idx.keys())\n",
    "\n",
    "\n",
    "orderidx_incl = motioninf.loc[(motioninf['meanFD'] < FDlimit) &\n",
    "                              (motioninf['perc_scrubbed'] < percscrublimit) &\n",
    "                              (~motioninf['Unnamed: 0'].isin(excl_indices)) ,:].index.values\n",
    "dict_subjID_idx_incl = {}\n",
    "dict_subjID_idx_excl = {}\n",
    "for key, value in dict_subjID_idx.items():\n",
    "    if value in orderidx_incl:\n",
    "        dict_subjID_idx_incl[key]=value\n",
    "    else:\n",
    "        dict_subjID_idx_excl[key]=value\n",
    "print('We have MRI data from: ' + str(len(subjID_idx)) + ' participants.')\n",
    "print('These are the subjects ID who were excluded:\\t' + str(list(dict_subjID_idx_excl.keys())) + ' in total: ' + str(len(dict_subjID_idx_excl)))\n",
    "print('These are the subjects ID who were included:\\t' + str(list(dict_subjID_idx_incl.keys())) + ' in total: ' + str(len(dict_subjID_idx_incl)))\n",
    "\n",
    "print('In total we work with\\t'+ str(len(orderidx_incl)) + '\\t participants.')\n",
    "nexclbasedonmotion = len(subjID_idx) - len(excl_indices) - len(orderidx_incl)\n",
    "print('Number of participant excluded based on the motion parameters(FD>' +str(FDlimit)+ ',scrubbed percent>' +str(percscrublimit)+'):' +str(nexclbasedonmotion))\n",
    "\n",
    "print('These are the participants subjID whose excluded beforehand:\\t' + str(excl_subnum) + 'remember! sub-31 has no MRI data!')"
   ],
   "metadata": {
    "collapsed": false,
    "pycharm": {
     "name": "#%%\n"
    }
   }
  },
  {
   "cell_type": "code",
   "execution_count": 23,
   "outputs": [],
   "source": [
    "# define timeseries path\n",
    "ts_filelist=os.listdir(ts_directory)\n",
    "ts_filelist.sort(key=lambda x: int(''.join(filter(str.isdigit, x))))\n",
    "ts_fullpathfs=[]\n",
    "for ff in ts_filelist:\n",
    "    ts_fullpathfs.append(os.path.join(ts_directory,ff))\n",
    "#print('These are the paths to the mri timeseries file:')\n",
    "#ts_fullpathfs"
   ],
   "metadata": {
    "collapsed": false,
    "pycharm": {
     "name": "#%%\n"
    }
   }
  },
  {
   "cell_type": "code",
   "execution_count": 58,
   "outputs": [
    {
     "name": "stdout",
     "output_type": "stream",
     "text": [
      "We included 25 participants\n"
     ]
    }
   ],
   "source": [
    "# load timeseries file only the included participants\n",
    "ts, labels = load_timeseries_roi(ts_fullpathfs,dict_subjID_idx_incl.values(),\n",
    "                                                   keepgs=True,standardise=True)"
   ],
   "metadata": {
    "collapsed": false,
    "pycharm": {
     "name": "#%%\n"
    }
   }
  },
  {
   "cell_type": "code",
   "execution_count": 85,
   "outputs": [
    {
     "name": "stdout",
     "output_type": "stream",
     "text": [
      "The number of connections between regions: 7503\n"
     ]
    }
   ],
   "source": [
    "# load vectorized ROI pair names\n",
    "vectorzedlabels, listoflabelpairs = vectorize_roipairs(labels)"
   ],
   "metadata": {
    "collapsed": false,
    "pycharm": {
     "name": "#%%\n"
    }
   }
  },
  {
   "cell_type": "code",
   "execution_count": 89,
   "outputs": [],
   "source": [
    "# calculate the connectivity matricies for all the individual who were included.\n",
    "X, cm = connectivity_matrix(ts,\n",
    "                            kind='partial correlation',\n",
    "                            vect=True)\n",
    "data_conn = pd.DataFrame(X,\n",
    "            columns=(vectorzedlabels),\n",
    "            index = dict_subjID_idx_incl.keys())"
   ],
   "metadata": {
    "collapsed": false,
    "pycharm": {
     "name": "#%%\n"
    }
   }
  },
  {
   "cell_type": "markdown",
   "source": [],
   "metadata": {
    "collapsed": false,
    "pycharm": {
     "name": "#%% md\n"
    }
   }
  },
  {
   "cell_type": "code",
   "execution_count": 105,
   "outputs": [
    {
     "data": {
      "text/plain": "phase             acq                                                        \\\nCS              minus                    pain                    tone         \ntimepoint_phase     1     2     3     4     1     2     3     4     1     2   \nsub                                                                           \n3                36.0   0.0   0.0   0.0   0.0  61.0  62.0  62.0  50.0  57.0   \n5                18.0  17.0  14.0  16.0   4.0  17.0  14.0  27.0  42.0  58.0   \n9                 9.0  16.0  15.0  17.0  72.0  78.0  78.0  76.0  20.0  19.0   \n12               48.0  50.0  51.0  49.0  16.0  12.0  14.0  15.0  70.0  80.0   \n15               19.0  20.0  26.0  20.0  73.0  60.0  68.0  68.0  64.0  67.0   \n17                0.0   0.0   2.0   1.0   0.0   4.0  50.0  47.0   0.0   0.0   \n19               50.0  49.0  53.0  51.0  56.0  69.0  67.0  62.0  63.0  59.0   \n20               69.0  40.0  21.0  77.0  61.0  50.0  71.0  86.0  37.0  54.0   \n21               14.0   2.0   1.0   0.0  74.0  78.0  83.0  89.0  68.0  75.0   \n23               49.0  50.0  50.0  50.0  45.0  50.0  49.0  52.0   0.0   0.0   \n27               53.0  47.0  45.0  42.0  41.0  48.0  58.0  53.0  46.0  57.0   \n28               25.0  11.0  27.0  23.0  70.0  83.0  75.0  86.0  48.0  18.0   \n32                0.0   0.0   0.0   0.0  53.0  69.0  77.0  76.0  65.0  54.0   \n33               50.0  29.0  49.0  48.0  58.0  65.0  64.0  60.0  60.0  67.0   \n34               53.0  50.0  50.0  50.0  63.0  57.0  59.0  57.0  71.0  73.0   \n35               54.0  50.0  48.0  50.0  61.0  41.0  50.0  56.0  63.0  67.0   \n37               49.0  58.0  42.0  61.0  42.0  50.0  56.0  65.0  51.0  56.0   \n38                7.0   5.0   2.0   0.0  68.0  58.0  56.0  55.0  78.0  78.0   \n39               44.0  59.0  57.0  61.0  50.0  57.0  56.0  65.0  58.0  27.0   \n40               65.0  58.0  54.0  47.0  33.0  28.0  54.0  46.0  41.0  30.0   \n41               60.0  38.0  60.0  58.0  43.0  55.0  72.0  64.0  51.0  63.0   \n42               43.0  56.0  49.0  50.0  38.0  78.0  77.0  81.0  38.0  46.0   \n45                8.0   5.0   0.0   0.0   7.0  53.0  50.0  70.0  57.0  59.0   \n46               69.0  65.0  56.0  66.0  48.0  57.0  58.0  63.0  63.0  62.0   \n47               50.0  50.0  54.0  50.0  50.0  50.0  50.0  52.0  50.0  49.0   \n\nphase            ...   ext                                 hab              \\\nCS               ...  pain              tone             minus  pain  tone   \ntimepoint_phase  ...     1     2     3     1     2     3     0     0     0   \nsub              ...                                                         \n3                ...  58.0  25.0   0.0  35.0  50.0   0.0   0.0   0.0   0.0   \n5                ...   1.0   6.0   2.0  43.0  35.0  40.0  10.0   5.0  46.0   \n9                ...  70.0  68.0  55.0  44.0  47.0  51.0  26.0  33.0  19.0   \n12               ...  15.0  11.0  19.0  90.0  83.0  94.0  42.0  17.0  66.0   \n15               ...  58.0  50.0  43.0  51.0  51.0  48.0  24.0  61.0  55.0   \n17               ...  50.0  50.0  50.0   0.0   0.0   0.0   0.0  49.0   2.0   \n19               ...  57.0  59.0  51.0  53.0  51.0  49.0  52.0  53.0  49.0   \n20               ...  86.0  79.0  68.0  50.0  38.0  24.0  64.0  29.0  21.0   \n21               ...  89.0  65.0  11.0  90.0  35.0   8.0  32.0  53.0  53.0   \n23               ...  50.0  51.0  51.0   0.0   0.0   0.0  52.0  48.0  21.0   \n27               ...  45.0  51.0  46.0  45.0  32.0  52.0  47.0  29.0  51.0   \n28               ...   6.0   3.0   2.0   6.0   7.0   0.0   4.0   2.0   3.0   \n32               ...  53.0  48.0  49.0  50.0  48.0  47.0   0.0  49.0  50.0   \n33               ...  51.0  49.0  50.0  50.0  49.0  49.0  47.0  36.0  44.0   \n34               ...  55.0  54.0  54.0  65.0  59.0  54.0  51.0  52.0  51.0   \n35               ...  55.0  54.0  50.0  79.0  61.0  53.0  50.0  44.0  66.0   \n37               ...  49.0  56.0  60.0  65.0  61.0  67.0  50.0  20.0  35.0   \n38               ...  49.0  50.0  49.0  59.0  49.0  49.0  50.0  49.0  52.0   \n39               ...  58.0  58.0  64.0  51.0  56.0  60.0  50.0  53.0  48.0   \n40               ...  41.0  41.0  47.0  37.0  40.0  40.0  56.0  44.0  43.0   \n41               ...  91.0  90.0  78.0  62.0  82.0  70.0  51.0  45.0  51.0   \n42               ...  72.0  63.0  62.0  60.0  54.0  55.0  47.0  41.0  51.0   \n45               ...  66.0  51.0  46.0  50.0  50.0  26.0   4.0  24.0  44.0   \n46               ...  49.0  52.0  49.0  52.0  51.0  41.0  55.0  60.0  50.0   \n47               ...  50.0  50.0  52.0  50.0  50.0  49.0  50.0  49.0  50.0   \n\nphase           y_valpainlearn_acq  \nCS                                  \ntimepoint_phase                     \nsub                                 \n3                             62.0  \n5                             16.0  \n9                             52.0  \n12                            -9.0  \n15                            11.0  \n17                            -3.0  \n19                            10.0  \n20                            44.0  \n21                            68.0  \n23                             6.0  \n27                            29.0  \n28                            65.0  \n32                            27.0  \n33                            23.0  \n34                             6.0  \n35                            12.0  \n37                            34.0  \n38                            56.0  \n39                             1.0  \n40                            11.0  \n41                            12.0  \n42                            37.0  \n45                            50.0  \n46                            -8.0  \n47                             3.0  \n\n[25 rows x 25 columns]",
      "text/html": "<div>\n<style scoped>\n    .dataframe tbody tr th:only-of-type {\n        vertical-align: middle;\n    }\n\n    .dataframe tbody tr th {\n        vertical-align: top;\n    }\n\n    .dataframe thead tr th {\n        text-align: left;\n    }\n\n    .dataframe thead tr:last-of-type th {\n        text-align: right;\n    }\n</style>\n<table border=\"1\" class=\"dataframe\">\n  <thead>\n    <tr>\n      <th>phase</th>\n      <th colspan=\"10\" halign=\"left\">acq</th>\n      <th>...</th>\n      <th colspan=\"6\" halign=\"left\">ext</th>\n      <th colspan=\"3\" halign=\"left\">hab</th>\n      <th>y_valpainlearn_acq</th>\n    </tr>\n    <tr>\n      <th>CS</th>\n      <th colspan=\"4\" halign=\"left\">minus</th>\n      <th colspan=\"4\" halign=\"left\">pain</th>\n      <th colspan=\"2\" halign=\"left\">tone</th>\n      <th>...</th>\n      <th colspan=\"3\" halign=\"left\">pain</th>\n      <th colspan=\"3\" halign=\"left\">tone</th>\n      <th>minus</th>\n      <th>pain</th>\n      <th>tone</th>\n      <th></th>\n    </tr>\n    <tr>\n      <th>timepoint_phase</th>\n      <th>1</th>\n      <th>2</th>\n      <th>3</th>\n      <th>4</th>\n      <th>1</th>\n      <th>2</th>\n      <th>3</th>\n      <th>4</th>\n      <th>1</th>\n      <th>2</th>\n      <th>...</th>\n      <th>1</th>\n      <th>2</th>\n      <th>3</th>\n      <th>1</th>\n      <th>2</th>\n      <th>3</th>\n      <th>0</th>\n      <th>0</th>\n      <th>0</th>\n      <th></th>\n    </tr>\n    <tr>\n      <th>sub</th>\n      <th></th>\n      <th></th>\n      <th></th>\n      <th></th>\n      <th></th>\n      <th></th>\n      <th></th>\n      <th></th>\n      <th></th>\n      <th></th>\n      <th></th>\n      <th></th>\n      <th></th>\n      <th></th>\n      <th></th>\n      <th></th>\n      <th></th>\n      <th></th>\n      <th></th>\n      <th></th>\n      <th></th>\n    </tr>\n  </thead>\n  <tbody>\n    <tr>\n      <th>3</th>\n      <td>36.0</td>\n      <td>0.0</td>\n      <td>0.0</td>\n      <td>0.0</td>\n      <td>0.0</td>\n      <td>61.0</td>\n      <td>62.0</td>\n      <td>62.0</td>\n      <td>50.0</td>\n      <td>57.0</td>\n      <td>...</td>\n      <td>58.0</td>\n      <td>25.0</td>\n      <td>0.0</td>\n      <td>35.0</td>\n      <td>50.0</td>\n      <td>0.0</td>\n      <td>0.0</td>\n      <td>0.0</td>\n      <td>0.0</td>\n      <td>62.0</td>\n    </tr>\n    <tr>\n      <th>5</th>\n      <td>18.0</td>\n      <td>17.0</td>\n      <td>14.0</td>\n      <td>16.0</td>\n      <td>4.0</td>\n      <td>17.0</td>\n      <td>14.0</td>\n      <td>27.0</td>\n      <td>42.0</td>\n      <td>58.0</td>\n      <td>...</td>\n      <td>1.0</td>\n      <td>6.0</td>\n      <td>2.0</td>\n      <td>43.0</td>\n      <td>35.0</td>\n      <td>40.0</td>\n      <td>10.0</td>\n      <td>5.0</td>\n      <td>46.0</td>\n      <td>16.0</td>\n    </tr>\n    <tr>\n      <th>9</th>\n      <td>9.0</td>\n      <td>16.0</td>\n      <td>15.0</td>\n      <td>17.0</td>\n      <td>72.0</td>\n      <td>78.0</td>\n      <td>78.0</td>\n      <td>76.0</td>\n      <td>20.0</td>\n      <td>19.0</td>\n      <td>...</td>\n      <td>70.0</td>\n      <td>68.0</td>\n      <td>55.0</td>\n      <td>44.0</td>\n      <td>47.0</td>\n      <td>51.0</td>\n      <td>26.0</td>\n      <td>33.0</td>\n      <td>19.0</td>\n      <td>52.0</td>\n    </tr>\n    <tr>\n      <th>12</th>\n      <td>48.0</td>\n      <td>50.0</td>\n      <td>51.0</td>\n      <td>49.0</td>\n      <td>16.0</td>\n      <td>12.0</td>\n      <td>14.0</td>\n      <td>15.0</td>\n      <td>70.0</td>\n      <td>80.0</td>\n      <td>...</td>\n      <td>15.0</td>\n      <td>11.0</td>\n      <td>19.0</td>\n      <td>90.0</td>\n      <td>83.0</td>\n      <td>94.0</td>\n      <td>42.0</td>\n      <td>17.0</td>\n      <td>66.0</td>\n      <td>-9.0</td>\n    </tr>\n    <tr>\n      <th>15</th>\n      <td>19.0</td>\n      <td>20.0</td>\n      <td>26.0</td>\n      <td>20.0</td>\n      <td>73.0</td>\n      <td>60.0</td>\n      <td>68.0</td>\n      <td>68.0</td>\n      <td>64.0</td>\n      <td>67.0</td>\n      <td>...</td>\n      <td>58.0</td>\n      <td>50.0</td>\n      <td>43.0</td>\n      <td>51.0</td>\n      <td>51.0</td>\n      <td>48.0</td>\n      <td>24.0</td>\n      <td>61.0</td>\n      <td>55.0</td>\n      <td>11.0</td>\n    </tr>\n    <tr>\n      <th>17</th>\n      <td>0.0</td>\n      <td>0.0</td>\n      <td>2.0</td>\n      <td>1.0</td>\n      <td>0.0</td>\n      <td>4.0</td>\n      <td>50.0</td>\n      <td>47.0</td>\n      <td>0.0</td>\n      <td>0.0</td>\n      <td>...</td>\n      <td>50.0</td>\n      <td>50.0</td>\n      <td>50.0</td>\n      <td>0.0</td>\n      <td>0.0</td>\n      <td>0.0</td>\n      <td>0.0</td>\n      <td>49.0</td>\n      <td>2.0</td>\n      <td>-3.0</td>\n    </tr>\n    <tr>\n      <th>19</th>\n      <td>50.0</td>\n      <td>49.0</td>\n      <td>53.0</td>\n      <td>51.0</td>\n      <td>56.0</td>\n      <td>69.0</td>\n      <td>67.0</td>\n      <td>62.0</td>\n      <td>63.0</td>\n      <td>59.0</td>\n      <td>...</td>\n      <td>57.0</td>\n      <td>59.0</td>\n      <td>51.0</td>\n      <td>53.0</td>\n      <td>51.0</td>\n      <td>49.0</td>\n      <td>52.0</td>\n      <td>53.0</td>\n      <td>49.0</td>\n      <td>10.0</td>\n    </tr>\n    <tr>\n      <th>20</th>\n      <td>69.0</td>\n      <td>40.0</td>\n      <td>21.0</td>\n      <td>77.0</td>\n      <td>61.0</td>\n      <td>50.0</td>\n      <td>71.0</td>\n      <td>86.0</td>\n      <td>37.0</td>\n      <td>54.0</td>\n      <td>...</td>\n      <td>86.0</td>\n      <td>79.0</td>\n      <td>68.0</td>\n      <td>50.0</td>\n      <td>38.0</td>\n      <td>24.0</td>\n      <td>64.0</td>\n      <td>29.0</td>\n      <td>21.0</td>\n      <td>44.0</td>\n    </tr>\n    <tr>\n      <th>21</th>\n      <td>14.0</td>\n      <td>2.0</td>\n      <td>1.0</td>\n      <td>0.0</td>\n      <td>74.0</td>\n      <td>78.0</td>\n      <td>83.0</td>\n      <td>89.0</td>\n      <td>68.0</td>\n      <td>75.0</td>\n      <td>...</td>\n      <td>89.0</td>\n      <td>65.0</td>\n      <td>11.0</td>\n      <td>90.0</td>\n      <td>35.0</td>\n      <td>8.0</td>\n      <td>32.0</td>\n      <td>53.0</td>\n      <td>53.0</td>\n      <td>68.0</td>\n    </tr>\n    <tr>\n      <th>23</th>\n      <td>49.0</td>\n      <td>50.0</td>\n      <td>50.0</td>\n      <td>50.0</td>\n      <td>45.0</td>\n      <td>50.0</td>\n      <td>49.0</td>\n      <td>52.0</td>\n      <td>0.0</td>\n      <td>0.0</td>\n      <td>...</td>\n      <td>50.0</td>\n      <td>51.0</td>\n      <td>51.0</td>\n      <td>0.0</td>\n      <td>0.0</td>\n      <td>0.0</td>\n      <td>52.0</td>\n      <td>48.0</td>\n      <td>21.0</td>\n      <td>6.0</td>\n    </tr>\n    <tr>\n      <th>27</th>\n      <td>53.0</td>\n      <td>47.0</td>\n      <td>45.0</td>\n      <td>42.0</td>\n      <td>41.0</td>\n      <td>48.0</td>\n      <td>58.0</td>\n      <td>53.0</td>\n      <td>46.0</td>\n      <td>57.0</td>\n      <td>...</td>\n      <td>45.0</td>\n      <td>51.0</td>\n      <td>46.0</td>\n      <td>45.0</td>\n      <td>32.0</td>\n      <td>52.0</td>\n      <td>47.0</td>\n      <td>29.0</td>\n      <td>51.0</td>\n      <td>29.0</td>\n    </tr>\n    <tr>\n      <th>28</th>\n      <td>25.0</td>\n      <td>11.0</td>\n      <td>27.0</td>\n      <td>23.0</td>\n      <td>70.0</td>\n      <td>83.0</td>\n      <td>75.0</td>\n      <td>86.0</td>\n      <td>48.0</td>\n      <td>18.0</td>\n      <td>...</td>\n      <td>6.0</td>\n      <td>3.0</td>\n      <td>2.0</td>\n      <td>6.0</td>\n      <td>7.0</td>\n      <td>0.0</td>\n      <td>4.0</td>\n      <td>2.0</td>\n      <td>3.0</td>\n      <td>65.0</td>\n    </tr>\n    <tr>\n      <th>32</th>\n      <td>0.0</td>\n      <td>0.0</td>\n      <td>0.0</td>\n      <td>0.0</td>\n      <td>53.0</td>\n      <td>69.0</td>\n      <td>77.0</td>\n      <td>76.0</td>\n      <td>65.0</td>\n      <td>54.0</td>\n      <td>...</td>\n      <td>53.0</td>\n      <td>48.0</td>\n      <td>49.0</td>\n      <td>50.0</td>\n      <td>48.0</td>\n      <td>47.0</td>\n      <td>0.0</td>\n      <td>49.0</td>\n      <td>50.0</td>\n      <td>27.0</td>\n    </tr>\n    <tr>\n      <th>33</th>\n      <td>50.0</td>\n      <td>29.0</td>\n      <td>49.0</td>\n      <td>48.0</td>\n      <td>58.0</td>\n      <td>65.0</td>\n      <td>64.0</td>\n      <td>60.0</td>\n      <td>60.0</td>\n      <td>67.0</td>\n      <td>...</td>\n      <td>51.0</td>\n      <td>49.0</td>\n      <td>50.0</td>\n      <td>50.0</td>\n      <td>49.0</td>\n      <td>49.0</td>\n      <td>47.0</td>\n      <td>36.0</td>\n      <td>44.0</td>\n      <td>23.0</td>\n    </tr>\n    <tr>\n      <th>34</th>\n      <td>53.0</td>\n      <td>50.0</td>\n      <td>50.0</td>\n      <td>50.0</td>\n      <td>63.0</td>\n      <td>57.0</td>\n      <td>59.0</td>\n      <td>57.0</td>\n      <td>71.0</td>\n      <td>73.0</td>\n      <td>...</td>\n      <td>55.0</td>\n      <td>54.0</td>\n      <td>54.0</td>\n      <td>65.0</td>\n      <td>59.0</td>\n      <td>54.0</td>\n      <td>51.0</td>\n      <td>52.0</td>\n      <td>51.0</td>\n      <td>6.0</td>\n    </tr>\n    <tr>\n      <th>35</th>\n      <td>54.0</td>\n      <td>50.0</td>\n      <td>48.0</td>\n      <td>50.0</td>\n      <td>61.0</td>\n      <td>41.0</td>\n      <td>50.0</td>\n      <td>56.0</td>\n      <td>63.0</td>\n      <td>67.0</td>\n      <td>...</td>\n      <td>55.0</td>\n      <td>54.0</td>\n      <td>50.0</td>\n      <td>79.0</td>\n      <td>61.0</td>\n      <td>53.0</td>\n      <td>50.0</td>\n      <td>44.0</td>\n      <td>66.0</td>\n      <td>12.0</td>\n    </tr>\n    <tr>\n      <th>37</th>\n      <td>49.0</td>\n      <td>58.0</td>\n      <td>42.0</td>\n      <td>61.0</td>\n      <td>42.0</td>\n      <td>50.0</td>\n      <td>56.0</td>\n      <td>65.0</td>\n      <td>51.0</td>\n      <td>56.0</td>\n      <td>...</td>\n      <td>49.0</td>\n      <td>56.0</td>\n      <td>60.0</td>\n      <td>65.0</td>\n      <td>61.0</td>\n      <td>67.0</td>\n      <td>50.0</td>\n      <td>20.0</td>\n      <td>35.0</td>\n      <td>34.0</td>\n    </tr>\n    <tr>\n      <th>38</th>\n      <td>7.0</td>\n      <td>5.0</td>\n      <td>2.0</td>\n      <td>0.0</td>\n      <td>68.0</td>\n      <td>58.0</td>\n      <td>56.0</td>\n      <td>55.0</td>\n      <td>78.0</td>\n      <td>78.0</td>\n      <td>...</td>\n      <td>49.0</td>\n      <td>50.0</td>\n      <td>49.0</td>\n      <td>59.0</td>\n      <td>49.0</td>\n      <td>49.0</td>\n      <td>50.0</td>\n      <td>49.0</td>\n      <td>52.0</td>\n      <td>56.0</td>\n    </tr>\n    <tr>\n      <th>39</th>\n      <td>44.0</td>\n      <td>59.0</td>\n      <td>57.0</td>\n      <td>61.0</td>\n      <td>50.0</td>\n      <td>57.0</td>\n      <td>56.0</td>\n      <td>65.0</td>\n      <td>58.0</td>\n      <td>27.0</td>\n      <td>...</td>\n      <td>58.0</td>\n      <td>58.0</td>\n      <td>64.0</td>\n      <td>51.0</td>\n      <td>56.0</td>\n      <td>60.0</td>\n      <td>50.0</td>\n      <td>53.0</td>\n      <td>48.0</td>\n      <td>1.0</td>\n    </tr>\n    <tr>\n      <th>40</th>\n      <td>65.0</td>\n      <td>58.0</td>\n      <td>54.0</td>\n      <td>47.0</td>\n      <td>33.0</td>\n      <td>28.0</td>\n      <td>54.0</td>\n      <td>46.0</td>\n      <td>41.0</td>\n      <td>30.0</td>\n      <td>...</td>\n      <td>41.0</td>\n      <td>41.0</td>\n      <td>47.0</td>\n      <td>37.0</td>\n      <td>40.0</td>\n      <td>40.0</td>\n      <td>56.0</td>\n      <td>44.0</td>\n      <td>43.0</td>\n      <td>11.0</td>\n    </tr>\n    <tr>\n      <th>41</th>\n      <td>60.0</td>\n      <td>38.0</td>\n      <td>60.0</td>\n      <td>58.0</td>\n      <td>43.0</td>\n      <td>55.0</td>\n      <td>72.0</td>\n      <td>64.0</td>\n      <td>51.0</td>\n      <td>63.0</td>\n      <td>...</td>\n      <td>91.0</td>\n      <td>90.0</td>\n      <td>78.0</td>\n      <td>62.0</td>\n      <td>82.0</td>\n      <td>70.0</td>\n      <td>51.0</td>\n      <td>45.0</td>\n      <td>51.0</td>\n      <td>12.0</td>\n    </tr>\n    <tr>\n      <th>42</th>\n      <td>43.0</td>\n      <td>56.0</td>\n      <td>49.0</td>\n      <td>50.0</td>\n      <td>38.0</td>\n      <td>78.0</td>\n      <td>77.0</td>\n      <td>81.0</td>\n      <td>38.0</td>\n      <td>46.0</td>\n      <td>...</td>\n      <td>72.0</td>\n      <td>63.0</td>\n      <td>62.0</td>\n      <td>60.0</td>\n      <td>54.0</td>\n      <td>55.0</td>\n      <td>47.0</td>\n      <td>41.0</td>\n      <td>51.0</td>\n      <td>37.0</td>\n    </tr>\n    <tr>\n      <th>45</th>\n      <td>8.0</td>\n      <td>5.0</td>\n      <td>0.0</td>\n      <td>0.0</td>\n      <td>7.0</td>\n      <td>53.0</td>\n      <td>50.0</td>\n      <td>70.0</td>\n      <td>57.0</td>\n      <td>59.0</td>\n      <td>...</td>\n      <td>66.0</td>\n      <td>51.0</td>\n      <td>46.0</td>\n      <td>50.0</td>\n      <td>50.0</td>\n      <td>26.0</td>\n      <td>4.0</td>\n      <td>24.0</td>\n      <td>44.0</td>\n      <td>50.0</td>\n    </tr>\n    <tr>\n      <th>46</th>\n      <td>69.0</td>\n      <td>65.0</td>\n      <td>56.0</td>\n      <td>66.0</td>\n      <td>48.0</td>\n      <td>57.0</td>\n      <td>58.0</td>\n      <td>63.0</td>\n      <td>63.0</td>\n      <td>62.0</td>\n      <td>...</td>\n      <td>49.0</td>\n      <td>52.0</td>\n      <td>49.0</td>\n      <td>52.0</td>\n      <td>51.0</td>\n      <td>41.0</td>\n      <td>55.0</td>\n      <td>60.0</td>\n      <td>50.0</td>\n      <td>-8.0</td>\n    </tr>\n    <tr>\n      <th>47</th>\n      <td>50.0</td>\n      <td>50.0</td>\n      <td>54.0</td>\n      <td>50.0</td>\n      <td>50.0</td>\n      <td>50.0</td>\n      <td>50.0</td>\n      <td>52.0</td>\n      <td>50.0</td>\n      <td>49.0</td>\n      <td>...</td>\n      <td>50.0</td>\n      <td>50.0</td>\n      <td>52.0</td>\n      <td>50.0</td>\n      <td>50.0</td>\n      <td>49.0</td>\n      <td>50.0</td>\n      <td>49.0</td>\n      <td>50.0</td>\n      <td>3.0</td>\n    </tr>\n  </tbody>\n</table>\n<p>25 rows × 25 columns</p>\n</div>"
     },
     "execution_count": 105,
     "metadata": {},
     "output_type": "execute_result"
    }
   ],
   "source": [
    "# Load included participants' valence data.\n",
    "valencedata = alldata.pivot_table(index=['sub'], columns=['phase','CS','timepoint_phase'],\n",
    "                                       values='valence').loc[dict_subjID_idx_incl.keys(),:]\n",
    "# create new index to measure pain-related valence change:\n",
    "valencedata.loc[:,'y_valpainlearn_acq']=\\\n",
    "(valencedata.loc[:,('acq','pain',4)]-valencedata.loc[:,('hab','pain',0)])-\\\n",
    "(valencedata.loc[:,('acq','minus',4)]- valencedata.loc[:,('hab','minus',0)])"
   ],
   "metadata": {
    "collapsed": false,
    "pycharm": {
     "name": "#%%\n"
    }
   }
  },
  {
   "cell_type": "code",
   "execution_count": 108,
   "outputs": [
    {
     "name": "stdout",
     "output_type": "stream",
     "text": [
      "The shape of our predictor matrix: (25, 7503)\n",
      "The shape of our outcome variable: (25,)\n"
     ]
    }
   ],
   "source": [
    "\n",
    "X_predictor = data_conn.to_numpy()\n",
    "print('The shape of our predictor matrix:',X_predictor.shape)\n",
    "yvar = 'y_valpainlearn_acq'\n",
    "y_predictor = valencedata[yvar].to_numpy()\n",
    "print('The shape of our outcome variable:', y_predictor.shape)"
   ],
   "metadata": {
    "collapsed": false,
    "pycharm": {
     "name": "#%%\n"
    }
   }
  },
  {
   "cell_type": "code",
   "execution_count": 112,
   "outputs": [
    {
     "name": "stdout",
     "output_type": "stream",
     "text": [
      "**** Non-nested analysis ****\n",
      "** Best hyperparameters: {'fsel__k': 30, 'model__alpha': 0.005}\n",
      "** Score on full data as training set:\t-1.0521850391342011\n",
      "** Score on mean as model: -543.4399999999999\n",
      "** Best Non-nested cross-validated score on test:\t-320.58734778131196\n",
      "XXXXX Explained Variance: 0.41007774955595466\n",
      "**** Nested analysis ****\n",
      "model\tinner_cv mean score\touter vc score\n",
      "{'fsel__k': 30, 'model__alpha': 0.001} -429.6771098710048 -461.7373455149988\n",
      "{'fsel__k': 30, 'model__alpha': 0.001} -345.414306580669 -195.2439336596395\n",
      "{'fsel__k': 40, 'model__alpha': 0.001} -456.8376926602004 -180.93994611304544\n",
      "{'fsel__k': 40, 'model__alpha': 0.001} -397.2534493944215 -869.8527555363278\n",
      "{'fsel__k': 40, 'model__alpha': 0.001} -378.6260605637852 -10.695561863718014\n",
      "{'fsel__k': 30, 'model__alpha': 0.005} -447.9470352525797 -215.18820066625887\n",
      "{'fsel__k': 20, 'model__alpha': 0.005} -358.4506576529325 -381.3689560370901\n",
      "{'fsel__k': 25, 'model__alpha': 0.001} -413.22360018788646 -669.2794833271723\n",
      "{'fsel__k': 20, 'model__alpha': 0.005} -279.45737407214716 -1151.6173782103422\n",
      "{'fsel__k': 45, 'model__alpha': 0.001} -513.1679273790016 -4.18862922198829\n",
      "{'fsel__k': 35, 'model__alpha': 0.005} -389.7531087345355 -2.5334039596343803\n",
      "{'fsel__k': 35, 'model__alpha': 0.01} -378.8021749517927 -1414.3857868825621\n",
      "{'fsel__k': 35, 'model__alpha': 0.001} -359.60974876754625 -53.223108923100845\n",
      "{'fsel__k': 25, 'model__alpha': 0.005} -328.62436605721956 -124.34807030526837\n",
      "{'fsel__k': 20, 'model__alpha': 0.005} -305.0102297597717 -649.8823894031185\n",
      "{'fsel__k': 35, 'model__alpha': 0.005} -319.14423405521853 -114.6357199069005\n",
      "{'fsel__k': 30, 'model__alpha': 0.001} -316.40408742166875 -157.9909506460644\n",
      "{'fsel__k': 80, 'model__alpha': 0.001} -470.30738358064855 -855.247082031764\n",
      "{'fsel__k': 35, 'model__alpha': 0.001} -362.8412427307837 -728.0532853939272\n",
      "{'fsel__k': 40, 'model__alpha': 0.001} -402.8649559412679 -1.4523546161119016\n",
      "{'fsel__k': 25, 'model__alpha': 0.005} -389.0945266390401 -118.2561406966607\n",
      "{'fsel__k': 40, 'model__alpha': 0.001} -389.73972691345267 -233.04844007431262\n",
      "{'fsel__k': 25, 'model__alpha': 0.01} -431.9669064226819 -363.1894588956743\n",
      "{'fsel__k': 40, 'model__alpha': 0.001} -357.917632417234 -803.3372566537686\n",
      "{'fsel__k': 20, 'model__alpha': 0.001} -307.97668464644465 -588.7226142095602\n",
      "*** Score on mean as model:\t-543.4399999999999\n",
      "** Mean score in the inner crossvaludation (inner_cv):\t-381.20448890615734\n",
      "** Std score in the inner crossvaludation (inner_cv):\t55.82389931965925\n",
      "** Mean Nested Crossvalidation Score (outer_cv):\t-413.9367301099604\n",
      "** Std Nested Crossvalidation Score (outer_cv):\t382.41597033896574\n",
      "Explained Variance: 0.23830279311430802\n",
      "Correlation: 0.5170303351033456\n"
     ]
    },
    {
     "name": "stderr",
     "output_type": "stream",
     "text": [
      "/home/balint/PROGRAMS/anaconda3/envs/paintone/lib/python3.8/site-packages/numpy/core/fromnumeric.py:3419: RuntimeWarning: Mean of empty slice.\n",
      "  return _methods._mean(a, axis=axis, dtype=dtype,\n",
      "/home/balint/PROGRAMS/anaconda3/envs/paintone/lib/python3.8/site-packages/numpy/core/_methods.py:188: RuntimeWarning: invalid value encountered in double_scalars\n",
      "  ret = ret.dtype.type(ret / rcount)\n"
     ]
    },
    {
     "data": {
      "text/plain": "<Figure size 432x288 with 1 Axes>",
      "image/png": "[encoded data removed]"
     },
     "metadata": {
      "needs_background": "light"
     },
     "output_type": "display_data"
    },
    {
     "name": "stdout",
     "output_type": "stream",
     "text": [
      "R2=0.509  R=0.714   p=0.000062  Expl. Var.: 41.0%  Expl. Var.2: 41.5%  MSE=320.587 RMSE=17.905  MAE=15.015 MedAE=11.913  R^2=0.410\n"
     ]
    },
    {
     "name": "stderr",
     "output_type": "stream",
     "text": [
      "/home/balint/PROGRAMS/anaconda3/envs/paintone/lib/python3.8/site-packages/seaborn/_decorators.py:36: FutureWarning: Pass the following variables as keyword args: x, y. From version 0.12, the only valid positional argument will be `data`, and passing other arguments without an explicit keyword will result in an error or misinterpretation.\n",
      "  warnings.warn(\n"
     ]
    },
    {
     "data": {
      "text/plain": "<Figure size 432x432 with 3 Axes>",
      "image/png": "[encoded data removed]"
     },
     "metadata": {
      "needs_background": "light"
     },
     "output_type": "display_data"
    }
   ],
   "source": [
    "X_ridg = X_predictor\n",
    "y_ridg = y_predictor\n",
    "\n",
    "mymodel, p_grid = pipe_scale_fsel_ridge_noscaler()\n",
    "m, avg_model, all_models, mycrossval, myfig, nestedpredictedvals = mytrain(X_ridg, y_ridg, mymodel, p_grid,\n",
    "                                                                              nested=True,\n",
    "                                                                              score='neg_mean_squared_error')\n",
    "myprediction = evaluate_crossval_prediction(m,X_ridg, y_ridg,outfile=[])"
   ],
   "metadata": {
    "collapsed": false,
    "pycharm": {
     "name": "#%%\n"
    }
   }
  },
  {
   "cell_type": "code",
   "execution_count": null,
   "outputs": [],
   "source": [
    "# save the model\n",
    "#filename = '/home/balint/CODE/Fear-conditiong-and-Rsns/data_out/finalmodel/finale_model_M1.sav'\n",
    "#pickle.dump(m, open(filename, 'wb'))\n",
    "#loaded_model = pickle.load(open(filename, 'rb'))\n",
    "#result = loaded_model.score(X_test, Y_test)"
   ],
   "metadata": {
    "collapsed": false,
    "pycharm": {
     "name": "#%%\n"
    }
   }
  },
  {
   "cell_type": "code",
   "execution_count": 31,
   "outputs": [
    {
     "name": "stdout",
     "output_type": "stream",
     "text": [
      "This is the main model. The connections are listed in strength order.\n",
      "the total number of predictive connections:30\n"
     ]
    },
    {
     "data": {
      "text/plain": "                        conn   strenght\n0           [CERCR1, CER6_d]  19.936245\n1    [R_CERCR2_p, L_IPlob.1] -20.626237\n2         [CER7b_m, PRC_d.1] -12.664019\n3         [PRC_v, R_MFgyr_a]  22.326984\n4               [CER9_d, FP]   2.825834\n5         [POsul_v, SPlob.1]  20.670183\n6      [SPlob.1, L_MFgyr_pr]   6.547995\n7         [L_DVIS_v, R_PORB] -36.199498\n8         [R_IPsul, L_IPsul]  33.612956\n9        [R_ANGgyr, DVIS_vl] -15.201830\n10         [CER7b_m, COLsul]  41.789489\n11         [PGACcor, PINS_v]  27.580315\n12            [DVIS_vl, AMY] -15.078537\n13     [PINS_v, L_MOTnet_dl]  45.758609\n14        [LORBgyr, PCsul_d]   6.456261\n15        [L_IPlob.1, IMsul]  -3.762365\n16     [DMPFcor_ac, STgyr_p]   7.246412\n17      [CAUDNH_NACC, PUT_a]  26.762979\n18        [DMPFC_ar, THAL_v]   2.870853\n19       [DMPFC_ar, STgyr_m]   2.914409\n20   [L_MTgyr_a, MDVISnet_p]  15.597163\n21     [L_IPlob, MDVISnet_p]  28.798373\n22       [PCcor, LVISnet_vp] -28.120602\n23   [L_MTgyr_a, PVISnet_dm]  11.521963\n24       [PIsul, PVISnet_dm]  21.065325\n25       [PUT_p, PVISnet_dm] -29.782826\n26  [L_CERCR2_a, MVISnet_ad]  28.867435\n27        [CER5, MVISnet_ad] -29.406609\n28     [AINS_ad, LVISnet_DP] -21.133040\n29       [THAL_d, VVISnet_m] -45.549817",
      "text/html": "<div>\n<style scoped>\n    .dataframe tbody tr th:only-of-type {\n        vertical-align: middle;\n    }\n\n    .dataframe tbody tr th {\n        vertical-align: top;\n    }\n\n    .dataframe thead th {\n        text-align: right;\n    }\n</style>\n<table border=\"1\" class=\"dataframe\">\n  <thead>\n    <tr style=\"text-align: right;\">\n      <th></th>\n      <th>conn</th>\n      <th>strenght</th>\n    </tr>\n  </thead>\n  <tbody>\n    <tr>\n      <th>0</th>\n      <td>[CERCR1, CER6_d]</td>\n      <td>19.936245</td>\n    </tr>\n    <tr>\n      <th>1</th>\n      <td>[R_CERCR2_p, L_IPlob.1]</td>\n      <td>-20.626237</td>\n    </tr>\n    <tr>\n      <th>2</th>\n      <td>[CER7b_m, PRC_d.1]</td>\n      <td>-12.664019</td>\n    </tr>\n    <tr>\n      <th>3</th>\n      <td>[PRC_v, R_MFgyr_a]</td>\n      <td>22.326984</td>\n    </tr>\n    <tr>\n      <th>4</th>\n      <td>[CER9_d, FP]</td>\n      <td>2.825834</td>\n    </tr>\n    <tr>\n      <th>5</th>\n      <td>[POsul_v, SPlob.1]</td>\n      <td>20.670183</td>\n    </tr>\n    <tr>\n      <th>6</th>\n      <td>[SPlob.1, L_MFgyr_pr]</td>\n      <td>6.547995</td>\n    </tr>\n    <tr>\n      <th>7</th>\n      <td>[L_DVIS_v, R_PORB]</td>\n      <td>-36.199498</td>\n    </tr>\n    <tr>\n      <th>8</th>\n      <td>[R_IPsul, L_IPsul]</td>\n      <td>33.612956</td>\n    </tr>\n    <tr>\n      <th>9</th>\n      <td>[R_ANGgyr, DVIS_vl]</td>\n      <td>-15.201830</td>\n    </tr>\n    <tr>\n      <th>10</th>\n      <td>[CER7b_m, COLsul]</td>\n      <td>41.789489</td>\n    </tr>\n    <tr>\n      <th>11</th>\n      <td>[PGACcor, PINS_v]</td>\n      <td>27.580315</td>\n    </tr>\n    <tr>\n      <th>12</th>\n      <td>[DVIS_vl, AMY]</td>\n      <td>-15.078537</td>\n    </tr>\n    <tr>\n      <th>13</th>\n      <td>[PINS_v, L_MOTnet_dl]</td>\n      <td>45.758609</td>\n    </tr>\n    <tr>\n      <th>14</th>\n      <td>[LORBgyr, PCsul_d]</td>\n      <td>6.456261</td>\n    </tr>\n    <tr>\n      <th>15</th>\n      <td>[L_IPlob.1, IMsul]</td>\n      <td>-3.762365</td>\n    </tr>\n    <tr>\n      <th>16</th>\n      <td>[DMPFcor_ac, STgyr_p]</td>\n      <td>7.246412</td>\n    </tr>\n    <tr>\n      <th>17</th>\n      <td>[CAUDNH_NACC, PUT_a]</td>\n      <td>26.762979</td>\n    </tr>\n    <tr>\n      <th>18</th>\n      <td>[DMPFC_ar, THAL_v]</td>\n      <td>2.870853</td>\n    </tr>\n    <tr>\n      <th>19</th>\n      <td>[DMPFC_ar, STgyr_m]</td>\n      <td>2.914409</td>\n    </tr>\n    <tr>\n      <th>20</th>\n      <td>[L_MTgyr_a, MDVISnet_p]</td>\n      <td>15.597163</td>\n    </tr>\n    <tr>\n      <th>21</th>\n      <td>[L_IPlob, MDVISnet_p]</td>\n      <td>28.798373</td>\n    </tr>\n    <tr>\n      <th>22</th>\n      <td>[PCcor, LVISnet_vp]</td>\n      <td>-28.120602</td>\n    </tr>\n    <tr>\n      <th>23</th>\n      <td>[L_MTgyr_a, PVISnet_dm]</td>\n      <td>11.521963</td>\n    </tr>\n    <tr>\n      <th>24</th>\n      <td>[PIsul, PVISnet_dm]</td>\n      <td>21.065325</td>\n    </tr>\n    <tr>\n      <th>25</th>\n      <td>[PUT_p, PVISnet_dm]</td>\n      <td>-29.782826</td>\n    </tr>\n    <tr>\n      <th>26</th>\n      <td>[L_CERCR2_a, MVISnet_ad]</td>\n      <td>28.867435</td>\n    </tr>\n    <tr>\n      <th>27</th>\n      <td>[CER5, MVISnet_ad]</td>\n      <td>-29.406609</td>\n    </tr>\n    <tr>\n      <th>28</th>\n      <td>[AINS_ad, LVISnet_DP]</td>\n      <td>-21.133040</td>\n    </tr>\n    <tr>\n      <th>29</th>\n      <td>[THAL_d, VVISnet_m]</td>\n      <td>-45.549817</td>\n    </tr>\n  </tbody>\n</table>\n</div>"
     },
     "execution_count": 31,
     "metadata": {},
     "output_type": "execute_result"
    }
   ],
   "source": [
    "# get the most important connections from our model\n",
    "finalemodel = m\n",
    "print('This is the main model. The connections are listed in strength order.')\n",
    "\n",
    "zip_dict_labelnames=zip(list(labelinf['label']),list(labelinf['name']))\n",
    "dict_labelnames=dict(zip_dict_labelnames)\n",
    "# add global signal by hand\n",
    "dict_labelnames['GlobSig'] = 'Global Signal'\n",
    "#define the connections in our model, this include the short name of the connection pair and the strenght in the model\n",
    "connections = pd.DataFrame(list((listoflabelpairs[i],finalemodel[1].coef_[idx]) for idx,i in enumerate(finalemodel[0].get_support(indices=True))),\n",
    "                           columns=['conn','strenght'])\n",
    "#print(connections.head())\n",
    "print('the total number of predictive connections:'+str(len(connections)))\n",
    "connections"
   ],
   "metadata": {
    "collapsed": false,
    "pycharm": {
     "name": "#%%\n"
    }
   }
  },
  {
   "cell_type": "code",
   "execution_count": 33,
   "outputs": [
    {
     "name": "stdout",
     "output_type": "stream",
     "text": [
      "['R_CERCR2_p', 'L_IPlob.1']\n",
      "['CER7b_m', 'PRC_d.1']\n",
      "['POsul_v', 'SPlob.1']\n",
      "['SPlob.1', 'L_MFgyr_pr']\n",
      "['L_IPlob.1', 'IMsul']\n"
     ]
    },
    {
     "data": {
      "text/plain": "                        conn   strenght  \\\n13     [PINS_v, L_MOTnet_dl]  45.758609   \n29       [THAL_d, VVISnet_m] -45.549817   \n10         [CER7b_m, COLsul]  41.789489   \n7         [L_DVIS_v, R_PORB] -36.199498   \n8         [R_IPsul, L_IPsul]  33.612956   \n25       [PUT_p, PVISnet_dm] -29.782826   \n27        [CER5, MVISnet_ad] -29.406609   \n26  [L_CERCR2_a, MVISnet_ad]  28.867435   \n21     [L_IPlob, MDVISnet_p]  28.798373   \n22       [PCcor, LVISnet_vp] -28.120602   \n11         [PGACcor, PINS_v]  27.580315   \n17      [CAUDNH_NACC, PUT_a]  26.762979   \n3         [PRC_v, R_MFgyr_a]  22.326984   \n28     [AINS_ad, LVISnet_DP] -21.133040   \n24       [PIsul, PVISnet_dm]  21.065325   \n5         [POsul_v, SPlob.1]  20.670183   \n1    [R_CERCR2_p, L_IPlob.1] -20.626237   \n0           [CERCR1, CER6_d]  19.936245   \n20   [L_MTgyr_a, MDVISnet_p]  15.597163   \n9        [R_ANGgyr, DVIS_vl] -15.201830   \n12            [DVIS_vl, AMY] -15.078537   \n2         [CER7b_m, PRC_d.1] -12.664019   \n23   [L_MTgyr_a, PVISnet_dm]  11.521963   \n16     [DMPFcor_ac, STgyr_p]   7.246412   \n6      [SPlob.1, L_MFgyr_pr]   6.547995   \n14        [LORBgyr, PCsul_d]   6.456261   \n15        [L_IPlob.1, IMsul]  -3.762365   \n19       [DMPFC_ar, STgyr_m]   2.914409   \n18        [DMPFC_ar, THAL_v]   2.870853   \n4               [CER9_d, FP]   2.825834   \n\n                                         region1  roival_region1  \\\n13                      POSTERIOR_INSULA_ventral            21.0   \n29                               THALAMUS_dorsal            31.0   \n10                        CEREBELLUM_VIIb_medial            18.0   \n7              left_DORSAL_VISUAL_STREAM_ventral            50.0   \n8                     right_INTRAPARIETAL_SULCUS            20.0   \n25                             PUTAMEN_posterior            25.0   \n27                                CEREBELLUM_I-V            48.0   \n26               left_CEREBELLUM_CRUSII_anterior            54.0   \n21                 left_INFERIOR_PARIETAL_LOBULE             4.0   \n22                    POSTERIOR_CINGULATE_CORTEX            24.0   \n11          PERIGENUAL_ANTERIOR_CINGULATE_CORTEX           115.0   \n17    CAUDATE_NUCLEUS_HEAD_and_NUCLEUS_ACCUMBENS            78.0   \n3                              PRECUNEUS_ventral            17.0   \n28                 ANTERIOR_INSULA_anteroodorsal            85.0   \n24                           PERI_INSULAR_SULCUS            30.0   \n5               PARIETO_OCCIPITAL_SULCUS_ventral            72.0   \n1              right_CEREBELLUM_CRUSII_posterior           121.0   \n0                               CEREBELLUM_CRUSI            84.0   \n20           left_MIDDLE_TEMPORAL_GYRUS_anterior            89.0   \n9                            right_ANGULAR_GYRUS            15.0   \n12            DORSAL_VISUAL_STREAM_ventrolateral           100.0   \n2                         CEREBELLUM_VIIb_medial            18.0   \n23           left_MIDDLE_TEMPORAL_GYRUS_anterior            89.0   \n16    DORSOMEDIAL_PREFRONTAL_CORTEX_anterocaudal            55.0   \n6                       SUPERIOR_PARIETAL_LOBULE            76.0   \n14                         LATERAL_ORBITAL_GYRUS           109.0   \n15                 left_INFERIOR_PARIETAL_LOBULE           114.0   \n19  DORSOMEDIAL_PREFRONTAL_CORTEX_anterororstral            87.0   \n18  DORSOMEDIAL_PREFRONTAL_CORTEX_anterororstral            87.0   \n4                           CEREBELLUM_IX_dorsal            11.0   \n\n                                     region2  roival_region2  \n13     left_SOMATOMOTOR_NETWORK_dorsolateral             8.0  \n29             VENTRAL_VISUAL_NETWORK_medial            40.0  \n10                         COLLATERAL_SULCUS            79.0  \n7                       right_PARS_ORBITALIS            92.0  \n8                  left_INTRAPARIETAL_SULCUS            74.0  \n25      POSTERIOR_VISUAL_NETWORK_dorsomedial            16.0  \n27        MEDIAL_VISUAL_NETWORK_anterodorsal            19.0  \n26        MEDIAL_VISUAL_NETWORK_anterodorsal            19.0  \n21      MEDIODORSAL_VISUAL_NETWORK_posterior            57.0  \n22    LATERAL_VISUAL_NETWORK_ventroposterior            81.0  \n11                  POSTERIOR_INSULA_ventral            21.0  \n17                          PUTAMEN_anterior            13.0  \n3        right_MIDDLE_FRONTAL_GYRUS_anterior            58.0  \n28     LATERAL_VISUAL_NETWORK_dorsoposterior            43.0  \n24      POSTERIOR_VISUAL_NETWORK_dorsomedial            16.0  \n5                   SUPERIOR_PARIETAL_LOBULE            76.0  \n1              left_INFERIOR_PARIETAL_LOBULE           114.0  \n0                       CEREBELLUM_VI_dorsal            44.0  \n20      MEDIODORSAL_VISUAL_NETWORK_posterior            57.0  \n9         DORSAL_VISUAL_STREAM_ventrolateral           100.0  \n12                                  AMYGDALA            71.0  \n2                           PRECUNEUS_dorsal            64.0  \n23      POSTERIOR_VISUAL_NETWORK_dorsomedial            16.0  \n16         SUPERIOR_TEMPORAL_GYRUS_posterior           119.0  \n6   left_MIDDLE_FRONTAL_GYRUS_posterorostral             7.0  \n14                 POSTCENTRAL_SULCUS_dorsal           116.0  \n15                  INFERIOR_MARGINAL_SULCUS           118.0  \n19            SUPERIOR_TEMPORAL_GYRUS_middle            88.0  \n18                          THALAMUS_ventral            36.0  \n4                               FRONTAL_POLE            75.0  ",
      "text/html": "<div>\n<style scoped>\n    .dataframe tbody tr th:only-of-type {\n        vertical-align: middle;\n    }\n\n    .dataframe tbody tr th {\n        vertical-align: top;\n    }\n\n    .dataframe thead th {\n        text-align: right;\n    }\n</style>\n<table border=\"1\" class=\"dataframe\">\n  <thead>\n    <tr style=\"text-align: right;\">\n      <th></th>\n      <th>conn</th>\n      <th>strenght</th>\n      <th>region1</th>\n      <th>roival_region1</th>\n      <th>region2</th>\n      <th>roival_region2</th>\n    </tr>\n  </thead>\n  <tbody>\n    <tr>\n      <th>13</th>\n      <td>[PINS_v, L_MOTnet_dl]</td>\n      <td>45.758609</td>\n      <td>POSTERIOR_INSULA_ventral</td>\n      <td>21.0</td>\n      <td>left_SOMATOMOTOR_NETWORK_dorsolateral</td>\n      <td>8.0</td>\n    </tr>\n    <tr>\n      <th>29</th>\n      <td>[THAL_d, VVISnet_m]</td>\n      <td>-45.549817</td>\n      <td>THALAMUS_dorsal</td>\n      <td>31.0</td>\n      <td>VENTRAL_VISUAL_NETWORK_medial</td>\n      <td>40.0</td>\n    </tr>\n    <tr>\n      <th>10</th>\n      <td>[CER7b_m, COLsul]</td>\n      <td>41.789489</td>\n      <td>CEREBELLUM_VIIb_medial</td>\n      <td>18.0</td>\n      <td>COLLATERAL_SULCUS</td>\n      <td>79.0</td>\n    </tr>\n    <tr>\n      <th>7</th>\n      <td>[L_DVIS_v, R_PORB]</td>\n      <td>-36.199498</td>\n      <td>left_DORSAL_VISUAL_STREAM_ventral</td>\n      <td>50.0</td>\n      <td>right_PARS_ORBITALIS</td>\n      <td>92.0</td>\n    </tr>\n    <tr>\n      <th>8</th>\n      <td>[R_IPsul, L_IPsul]</td>\n      <td>33.612956</td>\n      <td>right_INTRAPARIETAL_SULCUS</td>\n      <td>20.0</td>\n      <td>left_INTRAPARIETAL_SULCUS</td>\n      <td>74.0</td>\n    </tr>\n    <tr>\n      <th>25</th>\n      <td>[PUT_p, PVISnet_dm]</td>\n      <td>-29.782826</td>\n      <td>PUTAMEN_posterior</td>\n      <td>25.0</td>\n      <td>POSTERIOR_VISUAL_NETWORK_dorsomedial</td>\n      <td>16.0</td>\n    </tr>\n    <tr>\n      <th>27</th>\n      <td>[CER5, MVISnet_ad]</td>\n      <td>-29.406609</td>\n      <td>CEREBELLUM_I-V</td>\n      <td>48.0</td>\n      <td>MEDIAL_VISUAL_NETWORK_anterodorsal</td>\n      <td>19.0</td>\n    </tr>\n    <tr>\n      <th>26</th>\n      <td>[L_CERCR2_a, MVISnet_ad]</td>\n      <td>28.867435</td>\n      <td>left_CEREBELLUM_CRUSII_anterior</td>\n      <td>54.0</td>\n      <td>MEDIAL_VISUAL_NETWORK_anterodorsal</td>\n      <td>19.0</td>\n    </tr>\n    <tr>\n      <th>21</th>\n      <td>[L_IPlob, MDVISnet_p]</td>\n      <td>28.798373</td>\n      <td>left_INFERIOR_PARIETAL_LOBULE</td>\n      <td>4.0</td>\n      <td>MEDIODORSAL_VISUAL_NETWORK_posterior</td>\n      <td>57.0</td>\n    </tr>\n    <tr>\n      <th>22</th>\n      <td>[PCcor, LVISnet_vp]</td>\n      <td>-28.120602</td>\n      <td>POSTERIOR_CINGULATE_CORTEX</td>\n      <td>24.0</td>\n      <td>LATERAL_VISUAL_NETWORK_ventroposterior</td>\n      <td>81.0</td>\n    </tr>\n    <tr>\n      <th>11</th>\n      <td>[PGACcor, PINS_v]</td>\n      <td>27.580315</td>\n      <td>PERIGENUAL_ANTERIOR_CINGULATE_CORTEX</td>\n      <td>115.0</td>\n      <td>POSTERIOR_INSULA_ventral</td>\n      <td>21.0</td>\n    </tr>\n    <tr>\n      <th>17</th>\n      <td>[CAUDNH_NACC, PUT_a]</td>\n      <td>26.762979</td>\n      <td>CAUDATE_NUCLEUS_HEAD_and_NUCLEUS_ACCUMBENS</td>\n      <td>78.0</td>\n      <td>PUTAMEN_anterior</td>\n      <td>13.0</td>\n    </tr>\n    <tr>\n      <th>3</th>\n      <td>[PRC_v, R_MFgyr_a]</td>\n      <td>22.326984</td>\n      <td>PRECUNEUS_ventral</td>\n      <td>17.0</td>\n      <td>right_MIDDLE_FRONTAL_GYRUS_anterior</td>\n      <td>58.0</td>\n    </tr>\n    <tr>\n      <th>28</th>\n      <td>[AINS_ad, LVISnet_DP]</td>\n      <td>-21.133040</td>\n      <td>ANTERIOR_INSULA_anteroodorsal</td>\n      <td>85.0</td>\n      <td>LATERAL_VISUAL_NETWORK_dorsoposterior</td>\n      <td>43.0</td>\n    </tr>\n    <tr>\n      <th>24</th>\n      <td>[PIsul, PVISnet_dm]</td>\n      <td>21.065325</td>\n      <td>PERI_INSULAR_SULCUS</td>\n      <td>30.0</td>\n      <td>POSTERIOR_VISUAL_NETWORK_dorsomedial</td>\n      <td>16.0</td>\n    </tr>\n    <tr>\n      <th>5</th>\n      <td>[POsul_v, SPlob.1]</td>\n      <td>20.670183</td>\n      <td>PARIETO_OCCIPITAL_SULCUS_ventral</td>\n      <td>72.0</td>\n      <td>SUPERIOR_PARIETAL_LOBULE</td>\n      <td>76.0</td>\n    </tr>\n    <tr>\n      <th>1</th>\n      <td>[R_CERCR2_p, L_IPlob.1]</td>\n      <td>-20.626237</td>\n      <td>right_CEREBELLUM_CRUSII_posterior</td>\n      <td>121.0</td>\n      <td>left_INFERIOR_PARIETAL_LOBULE</td>\n      <td>114.0</td>\n    </tr>\n    <tr>\n      <th>0</th>\n      <td>[CERCR1, CER6_d]</td>\n      <td>19.936245</td>\n      <td>CEREBELLUM_CRUSI</td>\n      <td>84.0</td>\n      <td>CEREBELLUM_VI_dorsal</td>\n      <td>44.0</td>\n    </tr>\n    <tr>\n      <th>20</th>\n      <td>[L_MTgyr_a, MDVISnet_p]</td>\n      <td>15.597163</td>\n      <td>left_MIDDLE_TEMPORAL_GYRUS_anterior</td>\n      <td>89.0</td>\n      <td>MEDIODORSAL_VISUAL_NETWORK_posterior</td>\n      <td>57.0</td>\n    </tr>\n    <tr>\n      <th>9</th>\n      <td>[R_ANGgyr, DVIS_vl]</td>\n      <td>-15.201830</td>\n      <td>right_ANGULAR_GYRUS</td>\n      <td>15.0</td>\n      <td>DORSAL_VISUAL_STREAM_ventrolateral</td>\n      <td>100.0</td>\n    </tr>\n    <tr>\n      <th>12</th>\n      <td>[DVIS_vl, AMY]</td>\n      <td>-15.078537</td>\n      <td>DORSAL_VISUAL_STREAM_ventrolateral</td>\n      <td>100.0</td>\n      <td>AMYGDALA</td>\n      <td>71.0</td>\n    </tr>\n    <tr>\n      <th>2</th>\n      <td>[CER7b_m, PRC_d.1]</td>\n      <td>-12.664019</td>\n      <td>CEREBELLUM_VIIb_medial</td>\n      <td>18.0</td>\n      <td>PRECUNEUS_dorsal</td>\n      <td>64.0</td>\n    </tr>\n    <tr>\n      <th>23</th>\n      <td>[L_MTgyr_a, PVISnet_dm]</td>\n      <td>11.521963</td>\n      <td>left_MIDDLE_TEMPORAL_GYRUS_anterior</td>\n      <td>89.0</td>\n      <td>POSTERIOR_VISUAL_NETWORK_dorsomedial</td>\n      <td>16.0</td>\n    </tr>\n    <tr>\n      <th>16</th>\n      <td>[DMPFcor_ac, STgyr_p]</td>\n      <td>7.246412</td>\n      <td>DORSOMEDIAL_PREFRONTAL_CORTEX_anterocaudal</td>\n      <td>55.0</td>\n      <td>SUPERIOR_TEMPORAL_GYRUS_posterior</td>\n      <td>119.0</td>\n    </tr>\n    <tr>\n      <th>6</th>\n      <td>[SPlob.1, L_MFgyr_pr]</td>\n      <td>6.547995</td>\n      <td>SUPERIOR_PARIETAL_LOBULE</td>\n      <td>76.0</td>\n      <td>left_MIDDLE_FRONTAL_GYRUS_posterorostral</td>\n      <td>7.0</td>\n    </tr>\n    <tr>\n      <th>14</th>\n      <td>[LORBgyr, PCsul_d]</td>\n      <td>6.456261</td>\n      <td>LATERAL_ORBITAL_GYRUS</td>\n      <td>109.0</td>\n      <td>POSTCENTRAL_SULCUS_dorsal</td>\n      <td>116.0</td>\n    </tr>\n    <tr>\n      <th>15</th>\n      <td>[L_IPlob.1, IMsul]</td>\n      <td>-3.762365</td>\n      <td>left_INFERIOR_PARIETAL_LOBULE</td>\n      <td>114.0</td>\n      <td>INFERIOR_MARGINAL_SULCUS</td>\n      <td>118.0</td>\n    </tr>\n    <tr>\n      <th>19</th>\n      <td>[DMPFC_ar, STgyr_m]</td>\n      <td>2.914409</td>\n      <td>DORSOMEDIAL_PREFRONTAL_CORTEX_anterororstral</td>\n      <td>87.0</td>\n      <td>SUPERIOR_TEMPORAL_GYRUS_middle</td>\n      <td>88.0</td>\n    </tr>\n    <tr>\n      <th>18</th>\n      <td>[DMPFC_ar, THAL_v]</td>\n      <td>2.870853</td>\n      <td>DORSOMEDIAL_PREFRONTAL_CORTEX_anterororstral</td>\n      <td>87.0</td>\n      <td>THALAMUS_ventral</td>\n      <td>36.0</td>\n    </tr>\n    <tr>\n      <th>4</th>\n      <td>[CER9_d, FP]</td>\n      <td>2.825834</td>\n      <td>CEREBELLUM_IX_dorsal</td>\n      <td>11.0</td>\n      <td>FRONTAL_POLE</td>\n      <td>75.0</td>\n    </tr>\n  </tbody>\n</table>\n</div>"
     },
     "execution_count": 33,
     "metadata": {},
     "output_type": "execute_result"
    }
   ],
   "source": [
    "# this part only\n",
    "dict_roivalues = dict(zip(list(labelinf['roi']),list(labelinf['label'])))\n",
    "#add global signal by hand\n",
    "dict_roivalues[123]='GlobSig'\n",
    "# we have to play around a little as the short names of certain ROIs are in the list two times because they are neighbouring areas in the MIST122 atlas.\n",
    "# (e.g. the superior parietal lobule is the 1st and 76th ROI as well, but that two region anatomical coordinates are differ a bit(see the MIST122 table for detail)\n",
    "for row, ind in enumerate(connections['conn']):\n",
    "    if ind[0][-2:]=='.1':\n",
    "        print(ind)\n",
    "        connections.loc[row,'region1'] = dict_labelnames[ind[0][:-2]]\n",
    "        connections.loc[row,'roival_region1'] = [list(dict_roivalues.keys())[i] for i, n in enumerate(list(dict_roivalues.values())) if n == ind[0][:-2]][1]\n",
    "    else:\n",
    "        connections.loc[row,'region1'] = dict_labelnames[ind[0]]\n",
    "        connections.loc[row,'roival_region1'] = [list(dict_roivalues.keys())[i] for i, n in enumerate(list(dict_roivalues.values())) if n == ind[0]][0]\n",
    "    if ind[1][-2:]=='.1':\n",
    "        print(ind)\n",
    "        connections.loc[row,'region2'] = dict_labelnames[ind[1][:-2]]\n",
    "        connections.loc[row,'roival_region2'] = [list(dict_roivalues.keys())[i] for i, n in enumerate(list(dict_roivalues.values())) if n == ind[1][:-2]][1]\n",
    "    else:\n",
    "        connections.loc[row,'region2'] = dict_labelnames[ind[1]]\n",
    "        connections.loc[row,'roival_region2'] = [list(dict_roivalues.keys())[i] for i, n in enumerate(list(dict_roivalues.values())) if n == ind[1]][0]\n",
    "\n",
    "ordered_connections = connections.reindex(connections.strenght.abs().sort_values(ascending=False).index)\n",
    "ordered_connections"
   ],
   "metadata": {
    "collapsed": false,
    "pycharm": {
     "name": "#%%\n"
    }
   }
  },
  {
   "cell_type": "code",
   "execution_count": 68,
   "outputs": [],
   "source": [
    "\n"
   ],
   "metadata": {
    "collapsed": false,
    "pycharm": {
     "name": "#%%\n"
    }
   }
  }
 ],
 "metadata": {
  "kernelspec": {
   "name": "pycharm-b531d5fd",
   "language": "python",
   "display_name": "PyCharm (Fear-conditiong-and-Rsns)"
  },
  "language_info": {
   "codemirror_mode": {
    "name": "ipython",
    "version": 2
   },
   "file_extension": ".py",
   "mimetype": "text/x-python",
   "name": "python",
   "nbconvert_exporter": "python",
   "pygments_lexer": "ipython2",
   "version": "2.7.6"
  }
 },
 "nbformat": 4,
 "nbformat_minor": 0
}