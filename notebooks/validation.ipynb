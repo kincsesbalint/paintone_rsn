{
 "cells": [
  {
   "cell_type": "code",
   "execution_count": 1,
   "metadata": {
    "collapsed": true
   },
   "outputs": [],
   "source": [
    "import pandas as pd\n",
    "from paintone_rsn.data_loading import load_subjectiid, exclusion, load_timeseries, samplecalibration\n",
    "from paintone_rsn.data_preproc import connectivity_matrix, connectivitylabelname\n",
    "import paintone_rsn.mlfunctions as myml\n",
    "from scipy.stats import pearsonr\n",
    "import numpy as np\n",
    "import pickle\n",
    "import matplotlib.pyplot as plt"
   ]
  },
  {
   "cell_type": "code",
   "execution_count": 8,
   "outputs": [],
   "source": [
    "# load model\n",
    "# saving the model for further use\n",
    "filename = 'C:/Users/lenov/PycharmProjects/paintone_rsn/data_out/final_model_M1.sav'\n",
    "m_scr = pickle.load(open(filename, 'rb'))"
   ],
   "metadata": {
    "collapsed": false,
    "pycharm": {
     "name": "#%%\n"
    }
   }
  },
  {
   "cell_type": "markdown",
   "source": [
    "# Validation dataset 1"
   ],
   "metadata": {
    "collapsed": false,
    "pycharm": {
     "name": "#%% md\n"
    }
   }
  },
  {
   "cell_type": "code",
   "execution_count": 41,
   "outputs": [
    {
     "name": "stdout",
     "output_type": "stream",
     "text": [
      "These are the subjects subjectID who were excluded:\tdict_keys([5, 8, 10, 20, 25, 30, 32])\n",
      "These are the subjects ordererID who were excluded:\tdict_values([4, 7, 9, 19, 24, 29, 31])\n",
      "These are the subjects subjectID who were included:\tdict_keys([1, 2, 3, 4, 6, 7, 9, 11, 12, 13, 14, 15, 16, 17, 18, 19, 21, 22, 23, 24, 26, 27, 28, 29, 31, 33])\n",
      "These are the subjects ordererID who were included:\tdict_values([0, 1, 2, 3, 5, 6, 8, 10, 11, 12, 13, 14, 15, 16, 17, 18, 20, 21, 22, 23, 25, 26, 27, 28, 30, 32])\n",
      "In total we work with\t26\t participants.\n",
      " Check if all the aprticipanst have behavior data!!!!\n",
      "Number of participant excluded based in the motion parameters(FD>0.15,scrubbed percent>25):5\n",
      "this is their subjID \t5\tand this is thier orderID:\t4\n",
      "this is their subjID \t8\tand this is thier orderID:\t7\n",
      "this is their subjID \t10\tand this is thier orderID:\t9\n",
      "this is their subjID \t20\tand this is thier orderID:\t19\n",
      "this is their subjID \t25\tand this is thier orderID:\t24\n",
      "this is their subjID \t30\tand this is thier orderID:\t29\n",
      "this is their subjID \t32\tand this is thier orderID:\t31\n",
      "These are the participants subjID whose excluded beforehand:\t[5, 32]\n",
      "-----------------------------------------------------------------\n",
      "C:/Users/lenov/PycharmProjects/paintone_rsn/data_in/validation_smpl1/regional_timeseries/subj_00_ts.tsv\n",
      "the fddir is specified by the user:\n",
      "C:/Users/lenov/PycharmProjects/paintone_rsn/data_in/validation_smpl1/calculate_FD_Power/mapflow//_calculate_FD_Power0/fd_power_2012.txt\n",
      "-----------------------------------------------------------------\n",
      "C:/Users/lenov/PycharmProjects/paintone_rsn/data_in/validation_smpl1/regional_timeseries/subj_01_ts.tsv\n",
      "the fddir is specified by the user:\n",
      "C:/Users/lenov/PycharmProjects/paintone_rsn/data_in/validation_smpl1/calculate_FD_Power/mapflow//_calculate_FD_Power1/fd_power_2012.txt\n",
      "-----------------------------------------------------------------\n",
      "C:/Users/lenov/PycharmProjects/paintone_rsn/data_in/validation_smpl1/regional_timeseries/subj_02_ts.tsv\n",
      "the fddir is specified by the user:\n",
      "C:/Users/lenov/PycharmProjects/paintone_rsn/data_in/validation_smpl1/calculate_FD_Power/mapflow//_calculate_FD_Power2/fd_power_2012.txt\n",
      "-----------------------------------------------------------------\n",
      "C:/Users/lenov/PycharmProjects/paintone_rsn/data_in/validation_smpl1/regional_timeseries/subj_03_ts.tsv\n",
      "the fddir is specified by the user:\n",
      "C:/Users/lenov/PycharmProjects/paintone_rsn/data_in/validation_smpl1/calculate_FD_Power/mapflow//_calculate_FD_Power3/fd_power_2012.txt\n",
      "-----------------------------------------------------------------\n",
      "C:/Users/lenov/PycharmProjects/paintone_rsn/data_in/validation_smpl1/regional_timeseries/subj_05_ts.tsv\n",
      "the fddir is specified by the user:\n",
      "C:/Users/lenov/PycharmProjects/paintone_rsn/data_in/validation_smpl1/calculate_FD_Power/mapflow//_calculate_FD_Power5/fd_power_2012.txt\n",
      "-----------------------------------------------------------------\n",
      "C:/Users/lenov/PycharmProjects/paintone_rsn/data_in/validation_smpl1/regional_timeseries/subj_06_ts.tsv\n",
      "the fddir is specified by the user:\n",
      "C:/Users/lenov/PycharmProjects/paintone_rsn/data_in/validation_smpl1/calculate_FD_Power/mapflow//_calculate_FD_Power6/fd_power_2012.txt\n",
      "-----------------------------------------------------------------\n",
      "C:/Users/lenov/PycharmProjects/paintone_rsn/data_in/validation_smpl1/regional_timeseries/subj_08_ts.tsv\n",
      "the fddir is specified by the user:\n",
      "C:/Users/lenov/PycharmProjects/paintone_rsn/data_in/validation_smpl1/calculate_FD_Power/mapflow//_calculate_FD_Power8/fd_power_2012.txt\n",
      "-----------------------------------------------------------------\n",
      "C:/Users/lenov/PycharmProjects/paintone_rsn/data_in/validation_smpl1/regional_timeseries/subj_10_ts.tsv\n",
      "the fddir is specified by the user:\n",
      "C:/Users/lenov/PycharmProjects/paintone_rsn/data_in/validation_smpl1/calculate_FD_Power/mapflow//_calculate_FD_Power10/fd_power_2012.txt\n",
      "-----------------------------------------------------------------\n",
      "C:/Users/lenov/PycharmProjects/paintone_rsn/data_in/validation_smpl1/regional_timeseries/subj_11_ts.tsv\n",
      "the fddir is specified by the user:\n",
      "C:/Users/lenov/PycharmProjects/paintone_rsn/data_in/validation_smpl1/calculate_FD_Power/mapflow//_calculate_FD_Power11/fd_power_2012.txt\n",
      "-----------------------------------------------------------------\n",
      "C:/Users/lenov/PycharmProjects/paintone_rsn/data_in/validation_smpl1/regional_timeseries/subj_12_ts.tsv\n",
      "the fddir is specified by the user:\n",
      "C:/Users/lenov/PycharmProjects/paintone_rsn/data_in/validation_smpl1/calculate_FD_Power/mapflow//_calculate_FD_Power12/fd_power_2012.txt\n",
      "-----------------------------------------------------------------\n",
      "C:/Users/lenov/PycharmProjects/paintone_rsn/data_in/validation_smpl1/regional_timeseries/subj_13_ts.tsv\n",
      "the fddir is specified by the user:\n",
      "C:/Users/lenov/PycharmProjects/paintone_rsn/data_in/validation_smpl1/calculate_FD_Power/mapflow//_calculate_FD_Power13/fd_power_2012.txt\n",
      "-----------------------------------------------------------------\n",
      "C:/Users/lenov/PycharmProjects/paintone_rsn/data_in/validation_smpl1/regional_timeseries/subj_14_ts.tsv\n",
      "the fddir is specified by the user:\n",
      "C:/Users/lenov/PycharmProjects/paintone_rsn/data_in/validation_smpl1/calculate_FD_Power/mapflow//_calculate_FD_Power14/fd_power_2012.txt\n",
      "-----------------------------------------------------------------\n",
      "C:/Users/lenov/PycharmProjects/paintone_rsn/data_in/validation_smpl1/regional_timeseries/subj_15_ts.tsv\n",
      "the fddir is specified by the user:\n",
      "C:/Users/lenov/PycharmProjects/paintone_rsn/data_in/validation_smpl1/calculate_FD_Power/mapflow//_calculate_FD_Power15/fd_power_2012.txt\n",
      "-----------------------------------------------------------------\n",
      "C:/Users/lenov/PycharmProjects/paintone_rsn/data_in/validation_smpl1/regional_timeseries/subj_16_ts.tsv\n",
      "the fddir is specified by the user:\n",
      "C:/Users/lenov/PycharmProjects/paintone_rsn/data_in/validation_smpl1/calculate_FD_Power/mapflow//_calculate_FD_Power16/fd_power_2012.txt\n",
      "-----------------------------------------------------------------\n",
      "C:/Users/lenov/PycharmProjects/paintone_rsn/data_in/validation_smpl1/regional_timeseries/subj_17_ts.tsv\n",
      "the fddir is specified by the user:\n",
      "C:/Users/lenov/PycharmProjects/paintone_rsn/data_in/validation_smpl1/calculate_FD_Power/mapflow//_calculate_FD_Power17/fd_power_2012.txt\n",
      "-----------------------------------------------------------------\n",
      "C:/Users/lenov/PycharmProjects/paintone_rsn/data_in/validation_smpl1/regional_timeseries/subj_18_ts.tsv\n",
      "the fddir is specified by the user:\n",
      "C:/Users/lenov/PycharmProjects/paintone_rsn/data_in/validation_smpl1/calculate_FD_Power/mapflow//_calculate_FD_Power18/fd_power_2012.txt\n",
      "-----------------------------------------------------------------\n",
      "C:/Users/lenov/PycharmProjects/paintone_rsn/data_in/validation_smpl1/regional_timeseries/subj_20_ts.tsv\n",
      "the fddir is specified by the user:\n",
      "C:/Users/lenov/PycharmProjects/paintone_rsn/data_in/validation_smpl1/calculate_FD_Power/mapflow//_calculate_FD_Power20/fd_power_2012.txt\n",
      "-----------------------------------------------------------------\n",
      "C:/Users/lenov/PycharmProjects/paintone_rsn/data_in/validation_smpl1/regional_timeseries/subj_21_ts.tsv\n",
      "the fddir is specified by the user:\n",
      "C:/Users/lenov/PycharmProjects/paintone_rsn/data_in/validation_smpl1/calculate_FD_Power/mapflow//_calculate_FD_Power21/fd_power_2012.txt\n",
      "-----------------------------------------------------------------\n",
      "C:/Users/lenov/PycharmProjects/paintone_rsn/data_in/validation_smpl1/regional_timeseries/subj_22_ts.tsv\n",
      "the fddir is specified by the user:\n",
      "C:/Users/lenov/PycharmProjects/paintone_rsn/data_in/validation_smpl1/calculate_FD_Power/mapflow//_calculate_FD_Power22/fd_power_2012.txt\n",
      "-----------------------------------------------------------------\n",
      "C:/Users/lenov/PycharmProjects/paintone_rsn/data_in/validation_smpl1/regional_timeseries/subj_23_ts.tsv\n",
      "the fddir is specified by the user:\n",
      "C:/Users/lenov/PycharmProjects/paintone_rsn/data_in/validation_smpl1/calculate_FD_Power/mapflow//_calculate_FD_Power23/fd_power_2012.txt\n",
      "-----------------------------------------------------------------\n",
      "C:/Users/lenov/PycharmProjects/paintone_rsn/data_in/validation_smpl1/regional_timeseries/subj_25_ts.tsv\n",
      "the fddir is specified by the user:\n",
      "C:/Users/lenov/PycharmProjects/paintone_rsn/data_in/validation_smpl1/calculate_FD_Power/mapflow//_calculate_FD_Power25/fd_power_2012.txt\n",
      "-----------------------------------------------------------------\n",
      "C:/Users/lenov/PycharmProjects/paintone_rsn/data_in/validation_smpl1/regional_timeseries/subj_26_ts.tsv\n",
      "the fddir is specified by the user:\n",
      "C:/Users/lenov/PycharmProjects/paintone_rsn/data_in/validation_smpl1/calculate_FD_Power/mapflow//_calculate_FD_Power26/fd_power_2012.txt\n",
      "-----------------------------------------------------------------\n",
      "C:/Users/lenov/PycharmProjects/paintone_rsn/data_in/validation_smpl1/regional_timeseries/subj_27_ts.tsv\n",
      "the fddir is specified by the user:\n",
      "C:/Users/lenov/PycharmProjects/paintone_rsn/data_in/validation_smpl1/calculate_FD_Power/mapflow//_calculate_FD_Power27/fd_power_2012.txt\n",
      "-----------------------------------------------------------------\n",
      "C:/Users/lenov/PycharmProjects/paintone_rsn/data_in/validation_smpl1/regional_timeseries/subj_28_ts.tsv\n",
      "the fddir is specified by the user:\n",
      "C:/Users/lenov/PycharmProjects/paintone_rsn/data_in/validation_smpl1/calculate_FD_Power/mapflow//_calculate_FD_Power28/fd_power_2012.txt\n",
      "-----------------------------------------------------------------\n",
      "C:/Users/lenov/PycharmProjects/paintone_rsn/data_in/validation_smpl1/regional_timeseries/subj_30_ts.tsv\n",
      "the fddir is specified by the user:\n",
      "C:/Users/lenov/PycharmProjects/paintone_rsn/data_in/validation_smpl1/calculate_FD_Power/mapflow//_calculate_FD_Power30/fd_power_2012.txt\n",
      "-----------------------------------------------------------------\n",
      "C:/Users/lenov/PycharmProjects/paintone_rsn/data_in/validation_smpl1/regional_timeseries/subj_32_ts.tsv\n",
      "the fddir is specified by the user:\n",
      "C:/Users/lenov/PycharmProjects/paintone_rsn/data_in/validation_smpl1/calculate_FD_Power/mapflow//_calculate_FD_Power32/fd_power_2012.txt\n",
      "The number of ROIs:7503\n"
     ]
    }
   ],
   "source": [
    "pathtovalidationsmpl_1=\"C:/Users/lenov/PycharmProjects/paintone_rsn/data_in/validation_smpl1/\"\n",
    "s1_dict_subjID_idx = load_subjectiid(pathtovalidationsmpl_1+'subjectsIDs.txt')\n",
    "s1_subjID_idx_incl, subjID_idx_excl,motioninf_curr = exclusion(pathtovalidationsmpl_1+'motion_summary.csv',\n",
    "                                             dict_subjID_idx=s1_dict_subjID_idx,\n",
    "                                             excl_subj=[5,32]) #8,17,20,24,26,\n",
    "# 5-felt asleep during the scan,but he is removed anyway bc of motion\n",
    "# 32-incidental finding, registration does not work well\n",
    "timeseries_vs1, \\\n",
    "labels, \\\n",
    "loadedsubjpath, \\\n",
    "vectorizedlabels, \\\n",
    "listoflabelpairs = load_timeseries(pathtovalidationsmpl_1+'regional_timeseries/',\n",
    "                                   s1_subjID_idx_incl.values(),\n",
    "                                   fddir=[pathtovalidationsmpl_1+\"calculate_FD_Power/mapflow/\"],\n",
    "                                   numofexlcvolsatthebeg=0)\n",
    "X, cm = connectivity_matrix(timeseries_vs1)\n",
    "\n",
    "s1_features_scr = pd.DataFrame(X,\n",
    "            columns=(vectorizedlabels),\n",
    "            index = s1_subjID_idx_incl.keys())\n",
    "\n",
    "# load behavior data which was preprocessed with R\n",
    "s1_behav = pd.read_csv(pathtovalidationsmpl_1+'validation_smpl1_behav.csv', #allbehavdata.csv',\n",
    "                         index_col=['sub'],\n",
    "                          ).loc[s1_subjID_idx_incl.keys(),:]"
   ],
   "metadata": {
    "collapsed": false,
    "pycharm": {
     "name": "#%%\n"
    }
   }
  },
  {
   "cell_type": "code",
   "execution_count": 42,
   "outputs": [
    {
     "name": "stderr",
     "output_type": "stream",
     "text": [
      "c:\\users\\lenov\\pycharmprojects\\paintone_rsn\\venv\\lib\\site-packages\\sklearn\\base.py:443: UserWarning: X has feature names, but SelectKBest was fitted without feature names\n",
      "  warnings.warn(\n",
      "c:\\users\\lenov\\pycharmprojects\\paintone_rsn\\venv\\lib\\site-packages\\seaborn\\_decorators.py:36: FutureWarning: Pass the following variables as keyword args: x, y. From version 0.12, the only valid positional argument will be `data`, and passing other arguments without an explicit keyword will result in an error or misinterpretation.\n",
      "  warnings.warn(\n"
     ]
    },
    {
     "data": {
      "text/plain": "<Figure size 432x432 with 3 Axes>",
      "image/png": "[encoded data removed]"
     },
     "metadata": {
      "needs_background": "light"
     },
     "output_type": "display_data"
    },
    {
     "name": "stdout",
     "output_type": "stream",
     "text": [
      "Number of pariticpants:26\n",
      "p-value based on the predstat function(one-sided):0.08382127312327191\n",
      "r2 based on the predstat function:0.07779436489650246\n",
      "Observed pearson R: 0.28\n",
      "and the corresponding p-value: 0.17\n",
      "p-value based on permutation test: 0.0839916\n"
     ]
    }
   ],
   "source": [
    "s1_behav['prediction_scr']=m_scr.predict(s1_features_scr)\n",
    "# s1_behav['prediction_scr_firstvolsexcl']=m0_scr_first5excl.predict(s1_features_scr)\n",
    "obsvar='y_valpainlearn_acq'\n",
    "predvar='prediction_scr'\n",
    "dataset=s1_behav\n",
    "myml.plot_prediction(dataset[obsvar],dataset[predvar])\n",
    "p_value_myml, r_2_myml, residual, regline = myml.pred_stat(dataset[obsvar],\n",
    "                                                           dataset[predvar],robust=False,\n",
    "                                                           regside='greater')\n",
    "print('Number of pariticpants:'+str(len(dataset)))\n",
    "print('p-value based on the predstat function(one-sided):' + str(p_value_myml))\n",
    "print('r2 based on the predstat function:' + str(r_2_myml))\n",
    "print('Observed pearson R: %.2f' % pearsonr(dataset[obsvar],\n",
    "                                            dataset[predvar])[0])\n",
    "print('and the corresponding p-value: %.2f' % pearsonr(dataset[obsvar],\n",
    "                                                       dataset[predvar])[1])\n",
    "\n",
    "\n",
    "p_value_perm = myml.permutation_test(dataset[obsvar],\n",
    "                                dataset[predvar],\n",
    "                           method='approximate',\n",
    "                           func=lambda x, y: np.corrcoef(x,y)[1][0],\n",
    "                           num_rounds=10000,\n",
    "                           seed=0)\n",
    "print('p-value based on permutation test: %.7f' % p_value_perm)"
   ],
   "metadata": {
    "collapsed": false,
    "pycharm": {
     "name": "#%%\n"
    }
   }
  },
  {
   "cell_type": "code",
   "execution_count": 44,
   "outputs": [],
   "source": [
    "#saving the prediction\n",
    "s1_behav\n",
    "s1_behav.to_csv(pathtovalidationsmpl_1+'validation_smpl1_behav_excl.csv')"
   ],
   "metadata": {
    "collapsed": false,
    "pycharm": {
     "name": "#%%\n"
    }
   }
  },
  {
   "cell_type": "markdown",
   "source": [
    "# Validation dataset 2"
   ],
   "metadata": {
    "collapsed": false,
    "pycharm": {
     "name": "#%% md\n"
    }
   }
  },
  {
   "cell_type": "code",
   "execution_count": 88,
   "outputs": [
    {
     "name": "stdout",
     "output_type": "stream",
     "text": [
      "These are the subjects subjectID who were excluded:\tdict_keys([1049, 1092, 1093, 1113, 1117])\n",
      "These are the subjects ordererID who were excluded:\tdict_values([7, 18, 19, 25, 26])\n",
      "These are the subjects subjectID who were included:\tdict_keys([1015, 1022, 1029, 1032, 1037, 1039, 1048, 1053, 1055, 1060, 1066, 1067, 1074, 1076, 1077, 1083, 1089, 1094, 1096, 1097, 1108, 1111, 1118])\n",
      "These are the subjects ordererID who were included:\tdict_values([0, 1, 2, 3, 4, 5, 6, 8, 9, 10, 11, 12, 13, 14, 15, 16, 17, 20, 21, 22, 23, 24, 27])\n",
      "In total we work with\t23\t participants.\n",
      " Check if all the aprticipanst have behavior data!!!!\n",
      "Number of participant excluded based in the motion parameters(FD>0.15,scrubbed percent>25):5\n",
      "this is their subjID \t1049\tand this is thier orderID:\t7\n",
      "this is their subjID \t1092\tand this is thier orderID:\t18\n",
      "this is their subjID \t1093\tand this is thier orderID:\t19\n",
      "this is their subjID \t1113\tand this is thier orderID:\t25\n",
      "this is their subjID \t1117\tand this is thier orderID:\t26\n",
      "These are the participants subjID whose excluded beforehand:\t[]\n",
      "-----------------------------------------------------------------\n",
      "C:/Users/lenov/PycharmProjects/paintone_rsn/data_in/validation_smpl2/regional_timeseries/subj_00_ts.tsv\n",
      "the fddir is specified by the user:\n",
      "C:/Users/lenov/PycharmProjects/paintone_rsn/data_in/validation_smpl2/calculate_FD_Power/mapflow//_calculate_FD_Power0/fd_power_2012.txt\n",
      "-----------------------------------------------------------------\n",
      "C:/Users/lenov/PycharmProjects/paintone_rsn/data_in/validation_smpl2/regional_timeseries/subj_01_ts.tsv\n",
      "the fddir is specified by the user:\n",
      "C:/Users/lenov/PycharmProjects/paintone_rsn/data_in/validation_smpl2/calculate_FD_Power/mapflow//_calculate_FD_Power1/fd_power_2012.txt\n",
      "-----------------------------------------------------------------\n",
      "C:/Users/lenov/PycharmProjects/paintone_rsn/data_in/validation_smpl2/regional_timeseries/subj_02_ts.tsv\n",
      "the fddir is specified by the user:\n",
      "C:/Users/lenov/PycharmProjects/paintone_rsn/data_in/validation_smpl2/calculate_FD_Power/mapflow//_calculate_FD_Power2/fd_power_2012.txt\n",
      "-----------------------------------------------------------------\n",
      "C:/Users/lenov/PycharmProjects/paintone_rsn/data_in/validation_smpl2/regional_timeseries/subj_03_ts.tsv\n",
      "the fddir is specified by the user:\n",
      "C:/Users/lenov/PycharmProjects/paintone_rsn/data_in/validation_smpl2/calculate_FD_Power/mapflow//_calculate_FD_Power3/fd_power_2012.txt\n",
      "-----------------------------------------------------------------\n",
      "C:/Users/lenov/PycharmProjects/paintone_rsn/data_in/validation_smpl2/regional_timeseries/subj_04_ts.tsv\n",
      "the fddir is specified by the user:\n",
      "C:/Users/lenov/PycharmProjects/paintone_rsn/data_in/validation_smpl2/calculate_FD_Power/mapflow//_calculate_FD_Power4/fd_power_2012.txt\n",
      "-----------------------------------------------------------------\n",
      "C:/Users/lenov/PycharmProjects/paintone_rsn/data_in/validation_smpl2/regional_timeseries/subj_05_ts.tsv\n",
      "the fddir is specified by the user:\n",
      "C:/Users/lenov/PycharmProjects/paintone_rsn/data_in/validation_smpl2/calculate_FD_Power/mapflow//_calculate_FD_Power5/fd_power_2012.txt\n",
      "-----------------------------------------------------------------\n",
      "C:/Users/lenov/PycharmProjects/paintone_rsn/data_in/validation_smpl2/regional_timeseries/subj_06_ts.tsv\n",
      "the fddir is specified by the user:\n",
      "C:/Users/lenov/PycharmProjects/paintone_rsn/data_in/validation_smpl2/calculate_FD_Power/mapflow//_calculate_FD_Power6/fd_power_2012.txt\n",
      "-----------------------------------------------------------------\n",
      "C:/Users/lenov/PycharmProjects/paintone_rsn/data_in/validation_smpl2/regional_timeseries/subj_08_ts.tsv\n",
      "the fddir is specified by the user:\n",
      "C:/Users/lenov/PycharmProjects/paintone_rsn/data_in/validation_smpl2/calculate_FD_Power/mapflow//_calculate_FD_Power8/fd_power_2012.txt\n",
      "-----------------------------------------------------------------\n",
      "C:/Users/lenov/PycharmProjects/paintone_rsn/data_in/validation_smpl2/regional_timeseries/subj_09_ts.tsv\n",
      "the fddir is specified by the user:\n",
      "C:/Users/lenov/PycharmProjects/paintone_rsn/data_in/validation_smpl2/calculate_FD_Power/mapflow//_calculate_FD_Power9/fd_power_2012.txt\n",
      "-----------------------------------------------------------------\n",
      "C:/Users/lenov/PycharmProjects/paintone_rsn/data_in/validation_smpl2/regional_timeseries/subj_10_ts.tsv\n",
      "the fddir is specified by the user:\n",
      "C:/Users/lenov/PycharmProjects/paintone_rsn/data_in/validation_smpl2/calculate_FD_Power/mapflow//_calculate_FD_Power10/fd_power_2012.txt\n",
      "-----------------------------------------------------------------\n",
      "C:/Users/lenov/PycharmProjects/paintone_rsn/data_in/validation_smpl2/regional_timeseries/subj_11_ts.tsv\n",
      "the fddir is specified by the user:\n",
      "C:/Users/lenov/PycharmProjects/paintone_rsn/data_in/validation_smpl2/calculate_FD_Power/mapflow//_calculate_FD_Power11/fd_power_2012.txt\n",
      "-----------------------------------------------------------------\n",
      "C:/Users/lenov/PycharmProjects/paintone_rsn/data_in/validation_smpl2/regional_timeseries/subj_12_ts.tsv\n",
      "the fddir is specified by the user:\n",
      "C:/Users/lenov/PycharmProjects/paintone_rsn/data_in/validation_smpl2/calculate_FD_Power/mapflow//_calculate_FD_Power12/fd_power_2012.txt\n",
      "-----------------------------------------------------------------\n",
      "C:/Users/lenov/PycharmProjects/paintone_rsn/data_in/validation_smpl2/regional_timeseries/subj_13_ts.tsv\n",
      "the fddir is specified by the user:\n",
      "C:/Users/lenov/PycharmProjects/paintone_rsn/data_in/validation_smpl2/calculate_FD_Power/mapflow//_calculate_FD_Power13/fd_power_2012.txt\n",
      "-----------------------------------------------------------------\n",
      "C:/Users/lenov/PycharmProjects/paintone_rsn/data_in/validation_smpl2/regional_timeseries/subj_14_ts.tsv\n",
      "the fddir is specified by the user:\n",
      "C:/Users/lenov/PycharmProjects/paintone_rsn/data_in/validation_smpl2/calculate_FD_Power/mapflow//_calculate_FD_Power14/fd_power_2012.txt\n",
      "-----------------------------------------------------------------\n",
      "C:/Users/lenov/PycharmProjects/paintone_rsn/data_in/validation_smpl2/regional_timeseries/subj_15_ts.tsv\n",
      "the fddir is specified by the user:\n",
      "C:/Users/lenov/PycharmProjects/paintone_rsn/data_in/validation_smpl2/calculate_FD_Power/mapflow//_calculate_FD_Power15/fd_power_2012.txt\n",
      "-----------------------------------------------------------------\n",
      "C:/Users/lenov/PycharmProjects/paintone_rsn/data_in/validation_smpl2/regional_timeseries/subj_16_ts.tsv\n",
      "the fddir is specified by the user:\n",
      "C:/Users/lenov/PycharmProjects/paintone_rsn/data_in/validation_smpl2/calculate_FD_Power/mapflow//_calculate_FD_Power16/fd_power_2012.txt\n",
      "-----------------------------------------------------------------\n",
      "C:/Users/lenov/PycharmProjects/paintone_rsn/data_in/validation_smpl2/regional_timeseries/subj_17_ts.tsv\n",
      "the fddir is specified by the user:\n",
      "C:/Users/lenov/PycharmProjects/paintone_rsn/data_in/validation_smpl2/calculate_FD_Power/mapflow//_calculate_FD_Power17/fd_power_2012.txt\n",
      "-----------------------------------------------------------------\n",
      "C:/Users/lenov/PycharmProjects/paintone_rsn/data_in/validation_smpl2/regional_timeseries/subj_20_ts.tsv\n",
      "the fddir is specified by the user:\n",
      "C:/Users/lenov/PycharmProjects/paintone_rsn/data_in/validation_smpl2/calculate_FD_Power/mapflow//_calculate_FD_Power20/fd_power_2012.txt\n",
      "-----------------------------------------------------------------\n",
      "C:/Users/lenov/PycharmProjects/paintone_rsn/data_in/validation_smpl2/regional_timeseries/subj_21_ts.tsv\n",
      "the fddir is specified by the user:\n",
      "C:/Users/lenov/PycharmProjects/paintone_rsn/data_in/validation_smpl2/calculate_FD_Power/mapflow//_calculate_FD_Power21/fd_power_2012.txt\n",
      "-----------------------------------------------------------------\n",
      "C:/Users/lenov/PycharmProjects/paintone_rsn/data_in/validation_smpl2/regional_timeseries/subj_22_ts.tsv\n",
      "the fddir is specified by the user:\n",
      "C:/Users/lenov/PycharmProjects/paintone_rsn/data_in/validation_smpl2/calculate_FD_Power/mapflow//_calculate_FD_Power22/fd_power_2012.txt\n",
      "-----------------------------------------------------------------\n",
      "C:/Users/lenov/PycharmProjects/paintone_rsn/data_in/validation_smpl2/regional_timeseries/subj_23_ts.tsv\n",
      "the fddir is specified by the user:\n",
      "C:/Users/lenov/PycharmProjects/paintone_rsn/data_in/validation_smpl2/calculate_FD_Power/mapflow//_calculate_FD_Power23/fd_power_2012.txt\n",
      "-----------------------------------------------------------------\n",
      "C:/Users/lenov/PycharmProjects/paintone_rsn/data_in/validation_smpl2/regional_timeseries/subj_24_ts.tsv\n",
      "the fddir is specified by the user:\n",
      "C:/Users/lenov/PycharmProjects/paintone_rsn/data_in/validation_smpl2/calculate_FD_Power/mapflow//_calculate_FD_Power24/fd_power_2012.txt\n",
      "-----------------------------------------------------------------\n",
      "C:/Users/lenov/PycharmProjects/paintone_rsn/data_in/validation_smpl2/regional_timeseries/subj_27_ts.tsv\n",
      "the fddir is specified by the user:\n",
      "C:/Users/lenov/PycharmProjects/paintone_rsn/data_in/validation_smpl2/calculate_FD_Power/mapflow//_calculate_FD_Power27/fd_power_2012.txt\n",
      "The number of ROIs:7503\n",
      "The current behavior variable set, which was preapred with R\n",
      "Index(['Alter', 'CSVis_A_0', 'CSAud_A_0', 'CSMinus_A_0', 'CSVis_A_1',\n",
      "       'CSAud_A_1', 'CSMinus_A_1', 'CSVis_A_2', 'CSAud_A_2', 'CSMinus_A_2',\n",
      "       'CSVis_E_0', 'CSAud_E_0', 'CSMinus_E_0', 'CSVis_E_1', 'CSAud_E_1',\n",
      "       'CSMinus_E_1', 'CSVis_E_2', 'CSAud_E_2', 'CSMinus_E_2', 'CSVis_R_1',\n",
      "       'CSAud_R_1', 'CSMinus_R_1', 'CSVis_R_2', 'CSAud_R_2', 'CSMinus_R_2'],\n",
      "      dtype='object')\n"
     ]
    }
   ],
   "source": [
    "pathtovalidationsmpl_2=\"C:/Users/lenov/PycharmProjects/paintone_rsn/data_in/validation_smpl2/\"\n",
    "dict_subjID_idx_Pawlik = load_subjectiid(pathtovalidationsmpl_2+'subjectsIDs.txt')\n",
    "subjID_idx_incl_Pawlik, subjID_idx_excl_Pawlik, motioninf_pawlik = exclusion(pathtovalidationsmpl_2+'motion_summary.csv',\n",
    "                                             dict_subjID_idx=dict_subjID_idx_Pawlik,\n",
    "                                             excl_subj=[])\n",
    "# consider removing subj\n",
    "timeseries_Pawlik, \\\n",
    "labels_Pawlik, \\\n",
    "loadedsubjpath_Pawlik, \\\n",
    "vectorizedlabels_Pawlik, \\\n",
    "listoflabelpairs_pawlik = load_timeseries(pathtovalidationsmpl_2+'regional_timeseries/',\n",
    "                                          subjID_idx_incl_Pawlik.values(),\n",
    "                                          fddir=[pathtovalidationsmpl_2+\"calculate_FD_Power/mapflow/\"],\n",
    "                                          numofexlcvolsatthebeg=0)\n",
    "\n",
    "X_Pawlik, cm_Pawlik = connectivity_matrix(timeseries_Pawlik)\n",
    "\n",
    "Sexternal_features_scr= pd.DataFrame(X_Pawlik,\n",
    "            columns=(vectorizedlabels_Pawlik),\n",
    "            index = subjID_idx_incl_Pawlik.keys())\n",
    "\n",
    "\n",
    "Sexternal_behav = pd.read_csv(pathtovalidationsmpl_2+'validation_smpl2_behav.csv',\n",
    "                         index_col='VPN',\n",
    "                          ).loc[subjID_idx_incl_Pawlik.keys(),:]\n",
    "print('The current behavior variable set, which was preapred with R')\n",
    "print(Sexternal_behav.columns)"
   ],
   "metadata": {
    "collapsed": false,
    "pycharm": {
     "name": "#%%\n"
    }
   }
  },
  {
   "cell_type": "code",
   "execution_count": 90,
   "outputs": [],
   "source": [
    "Sexternal_conf = pd.read_csv(pathtovalidationsmpl_2+'validation_smpl2_behav_excl_confounder.csv',\n",
    "                         index_col='VPN',\n",
    "                          )\n",
    "Sexternal_conf['y_valpainlearn_acq']=Sexternal_behav['y_valpainlearn_acq']\n",
    "Sexternal_conf['y_valtonelearn_acq']=Sexternal_behav['y_valtonelearn_acq']\n",
    "Sexternal_conf['y_valpainlearn_ext']=Sexternal_behav['y_valpainlearn_lastacq_ext']\n",
    "Sexternal_conf['y_valtonelearn_ext']=Sexternal_behav['y_valtonelearn_lastacq_ext']\n",
    "Sexternal_conf.to_csv(\"C:/Users/lenov/PycharmProjects/paintone_rsn/data_in/validation_smpl2/validation_smpl2_behav_excl_confounder.csv\")"
   ],
   "metadata": {
    "collapsed": false,
    "pycharm": {
     "name": "#%%\n"
    }
   }
  },
  {
   "cell_type": "code",
   "execution_count": 89,
   "outputs": [
    {
     "name": "stderr",
     "output_type": "stream",
     "text": [
      "c:\\users\\lenov\\pycharmprojects\\paintone_rsn\\venv\\lib\\site-packages\\sklearn\\base.py:443: UserWarning: X has feature names, but SelectKBest was fitted without feature names\n",
      "  warnings.warn(\n",
      "c:\\users\\lenov\\pycharmprojects\\paintone_rsn\\venv\\lib\\site-packages\\seaborn\\_decorators.py:36: FutureWarning: Pass the following variables as keyword args: x, y. From version 0.12, the only valid positional argument will be `data`, and passing other arguments without an explicit keyword will result in an error or misinterpretation.\n",
      "  warnings.warn(\n"
     ]
    },
    {
     "data": {
      "text/plain": "<Figure size 432x432 with 3 Axes>",
      "image/png": "[encoded data removed]"
     },
     "metadata": {
      "needs_background": "light"
     },
     "output_type": "display_data"
    },
    {
     "name": "stdout",
     "output_type": "stream",
     "text": [
      "Number of pariticpants:23\n",
      "p-value based on the predstat function(one-sided):0.04909953371675553\n",
      "r2 based on the predstat function:0.1248124612695694\n",
      "Observed pearson R: 0.35\n",
      "and the corresponding p-value: 0.10\n",
      "p-value based on permutation test: 0.0485951\n"
     ]
    }
   ],
   "source": [
    "# calculate derived valence rating for all participants.\n",
    "# pain learning based on my definition in acquisition phase\n",
    "Sexternal_behav['y_valpainlearn_acq']=\\\n",
    "    ((Sexternal_behav['CSVis_A_2']-Sexternal_behav['CSVis_A_0'])-\\\n",
    "    (Sexternal_behav['CSMinus_A_2']-Sexternal_behav['CSMinus_A_0']))/2\n",
    "Sexternal_behav['y_valtonelearn_acq']=\\\n",
    "    ((Sexternal_behav['CSAud_A_2']-Sexternal_behav['CSAud_A_0'])-\\\n",
    "    (Sexternal_behav['CSMinus_A_2']-Sexternal_behav['CSMinus_A_0']))/2\n",
    "#checking this publication(https://www.nature.com/articles/s42003-021-02008-1#Sec9) in which the study 2 is part of Robert's shared data\n",
    "# They had the extinction on a separate day, and they measured valence right before extiction. We can use that as well.\n",
    "Sexternal_behav['y_valpainlearn_lastacq_ext']=\\\n",
    "    ((Sexternal_behav['CSVis_E_2']-Sexternal_behav['CSVis_A_2'])-\\\n",
    "    (Sexternal_behav['CSMinus_E_2']-Sexternal_behav['CSMinus_A_2']))/2\n",
    "Sexternal_behav['y_valtonelearn_lastacq_ext']=\\\n",
    "    ((Sexternal_behav['CSAud_E_2']-Sexternal_behav['CSAud_A_2'])-\\\n",
    "    (Sexternal_behav['CSMinus_E_2']-Sexternal_behav['CSMinus_A_2']))/2\n",
    "\n",
    "Sexternal_behav['y_valpainlearn_proper_ext']=\\\n",
    "    ((Sexternal_behav['CSVis_E_2']-Sexternal_behav['CSVis_E_0'])-\\\n",
    "    (Sexternal_behav['CSMinus_E_2']-Sexternal_behav['CSMinus_E_0']))/2\n",
    "Sexternal_behav['y_valtonelearn_proper_ext']=\\\n",
    "    ((Sexternal_behav['CSAud_E_2']-Sexternal_behav['CSAud_E_0'])-\\\n",
    "    (Sexternal_behav['CSMinus_E_2']-Sexternal_behav['CSMinus_E_0']))/2\n",
    "\n",
    "\n",
    "\n",
    "\n",
    "Sexternal_behav['prediction_scr']=m_scr.predict(Sexternal_features_scr)\n",
    "\n",
    "obsvar='y_valpainlearn_acq'\n",
    "predvar='prediction_scr'\n",
    "dataset=Sexternal_behav\n",
    "myml.plot_prediction(dataset[obsvar],dataset[predvar])\n",
    "p_value_myml, r_2_myml, residual, regline = myml.pred_stat(dataset[obsvar],\n",
    "                                                           dataset[predvar],robust=False,\n",
    "                                                           regside='greater')\n",
    "print('Number of pariticpants:'+str(len(dataset)))\n",
    "print('p-value based on the predstat function(one-sided):' + str(p_value_myml))\n",
    "print('r2 based on the predstat function:' + str(r_2_myml))\n",
    "print('Observed pearson R: %.2f' % pearsonr(dataset[obsvar],\n",
    "                                            dataset[predvar])[0])\n",
    "print('and the corresponding p-value: %.2f' % pearsonr(dataset[obsvar],\n",
    "                                                       dataset[predvar])[1])\n",
    "\n",
    "\n",
    "p_value_perm = myml.permutation_test(dataset[obsvar],\n",
    "                                dataset[predvar],\n",
    "                           method='approximate',\n",
    "                           func=lambda x, y: np.corrcoef(x,y)[1][0],\n",
    "                           num_rounds=10000,\n",
    "                           seed=0)\n",
    "print('p-value based on permutation test: %.7f' % p_value_perm)"
   ],
   "metadata": {
    "collapsed": false,
    "pycharm": {
     "name": "#%%\n"
    }
   }
  },
  {
   "cell_type": "markdown",
   "source": [
    "# Pooled dataset (validation dataset 1+2)"
   ],
   "metadata": {
    "collapsed": false,
    "pycharm": {
     "name": "#%% md\n"
    }
   }
  },
  {
   "cell_type": "code",
   "execution_count": 77,
   "outputs": [
    {
     "name": "stdout",
     "output_type": "stream",
     "text": [
      "This is the explained variance in the total validation sample: 11.0\n",
      "calibrated: (0.33462019197092285, 0.018770136517755845)\n"
     ]
    },
    {
     "name": "stderr",
     "output_type": "stream",
     "text": [
      "c:\\users\\lenov\\pycharmprojects\\paintone_rsn\\venv\\lib\\site-packages\\seaborn\\_decorators.py:36: FutureWarning: Pass the following variables as keyword args: x, y. From version 0.12, the only valid positional argument will be `data`, and passing other arguments without an explicit keyword will result in an error or misinterpretation.\n",
      "  warnings.warn(\n"
     ]
    },
    {
     "data": {
      "text/plain": "<Figure size 432x288 with 1 Axes>",
      "image/png": "[encoded data removed]"
     },
     "metadata": {
      "needs_background": "light"
     },
     "output_type": "display_data"
    },
    {
     "data": {
      "text/plain": "<Figure size 432x432 with 3 Axes>",
      "image/png": "[encoded data removed]"
     },
     "metadata": {
      "needs_background": "light"
     },
     "output_type": "display_data"
    },
    {
     "name": "stdout",
     "output_type": "stream",
     "text": [
      "Number of pariticpants:49\n",
      "p-value based on the predstat function(one-sided):0.009385068258877942\n",
      "r2 based on the predstat function:0.11197067287465719\n",
      "Observed pearson R: 0.33\n",
      "and the corresponding p-value: 0.02\n",
      "p-value based on permutation test: 0.0085991\n"
     ]
    }
   ],
   "source": [
    "concat_behav=samplecalibration(s1_behav,Sexternal_behav)\n",
    "p_value_myml,r_2_myml,residual,regline=myml.pred_stat(concat_behav['y_valpainlearn_acq'],\n",
    "               concat_behav['prediction_scr_calib'],#m_scr.predict(concat_feature), #s1_features_scr\n",
    "               robust=False,\n",
    "               regside='greater')\n",
    "print('This is the explained variance in the total validation sample: '+ str(round(r_2_myml,2)*100))\n",
    "\n",
    "groups = concat_behav.groupby(\"study\")\n",
    "obsvar='y_valpainlearn_acq'\n",
    "predvar='prediction_scr_calib'\n",
    "dataset=concat_behav\n",
    "plt.figure()\n",
    "for name, group in groups:\n",
    "    plt.plot(group[\"y_valpainlearn_acq\"],\n",
    "             group[\"prediction_scr_calib\"], marker=\"o\", linestyle=\"\", label=name)\n",
    "plt.legend()\n",
    "print('calibrated:',pearsonr(concat_behav[\"y_valpainlearn_acq\"],\n",
    "             concat_behav[\"prediction_scr_calib\"]))\n",
    "plt.title('Calibrated prediction values')\n",
    "myml.plot_prediction(concat_behav[\"y_valpainlearn_acq\"],\n",
    "             concat_behav[\"prediction_scr_calib\"])\n",
    "p_value_perm = myml.permutation_test(dataset[obsvar],\n",
    "                                dataset[predvar],\n",
    "                           method='approximate',\n",
    "                           func=lambda x, y: np.corrcoef(x,y)[1][0],\n",
    "                           num_rounds=10000,\n",
    "                           seed=0)\n",
    "print('Number of pariticpants:'+str(len(dataset)))\n",
    "print('p-value based on the predstat function(one-sided):' + str(p_value_myml))\n",
    "print('r2 based on the predstat function:' + str(r_2_myml))\n",
    "print('Observed pearson R: %.2f' % pearsonr(dataset[obsvar],\n",
    "                                            dataset[predvar])[0])\n",
    "print('and the corresponding p-value: %.2f' % pearsonr(dataset[obsvar],\n",
    "                                                       dataset[predvar])[1])\n",
    "print('p-value based on permutation test: %.7f' % p_value_perm)\n",
    "\n"
   ],
   "metadata": {
    "collapsed": false,
    "pycharm": {
     "name": "#%%\n"
    }
   }
  }
 ],
 "metadata": {
  "kernelspec": {
   "display_name": "Python 3",
   "language": "python",
   "name": "python3"
  },
  "language_info": {
   "codemirror_mode": {
    "name": "ipython",
    "version": 2
   },
   "file_extension": ".py",
   "mimetype": "text/x-python",
   "name": "python",
   "nbconvert_exporter": "python",
   "pygments_lexer": "ipython2",
   "version": "2.7.6"
  }
 },
 "nbformat": 4,
 "nbformat_minor": 0
}